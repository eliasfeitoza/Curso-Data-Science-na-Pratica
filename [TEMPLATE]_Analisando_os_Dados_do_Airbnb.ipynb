{
  "nbformat": 4,
  "nbformat_minor": 0,
  "metadata": {
    "colab": {
      "name": "[TEMPLATE] Analisando_os_Dados_do_Airbnb.ipynb",
      "provenance": [],
      "collapsed_sections": [],
      "include_colab_link": true
    },
    "kernelspec": {
      "name": "python3",
      "display_name": "Python 3"
    }
  },
  "cells": [
    {
      "cell_type": "markdown",
      "metadata": {
        "id": "view-in-github",
        "colab_type": "text"
      },
      "source": [
        "<a href=\"https://colab.research.google.com/github/eliasfeitoza/Curso-Data-Science-na-Pratica/blob/master/%5BTEMPLATE%5D_Analisando_os_Dados_do_Airbnb.ipynb\" target=\"_parent\"><img src=\"https://colab.research.google.com/assets/colab-badge.svg\" alt=\"Open In Colab\"/></a>"
      ]
    },
    {
      "cell_type": "markdown",
      "metadata": {
        "id": "kLI0gJtzDGuQ",
        "colab_type": "text"
      },
      "source": [
        "<center><img src=\"http://sigmoidal.ai/wp-content/uploads/2019/08/logo_color.png\" height=\"40px\"></center>\n",
        "\n",
        "\n",
        "<center><img src=\"https://st.depositphotos.com/1062377/3824/i/450/depositphotos_38247575-stock-photo-various-travel-destination-in-japan.jpg\" height= \"250px\" width= \"500\"></center>\n",
        "<br>\n",
        "<center><h1><b>Análise Exploratória dos Dados do Airbnb - Tokyo - Japão</center></h1></b>\n",
        "<br>\n",
        "\n",
        "\n",
        "* O [Airbnb](https://www.airbnb.com.br/) já é considerado como sendo a **maior empresa hoteleira da atualidade**. Ah, o detalhe é que ele **não possui nenhum hotel**!\n",
        "\n",
        "* Conectando pessoas que querem viajar (e se hospedar) com anfitriões que querem alugar seus imóveis de maneira prática, o Airbnb fornece uma plataforma inovadora para tornar essa hospedagem alternativa.\n",
        "\n",
        "* No final de 2018, a Startup fundada 10 anos atrás, já havia **hospedado mais de 300 milhões** de pessoas ao redor de todo o mundo, desafiando as redes hoteleiras tradicionais.\n",
        "\n",
        "* Uma das iniciativas do Airbnb é disponibilizar dados do site, para algumas das principais cidades do mundo. Por meio do portal [Inside Airbnb](http://insideairbnb.com/get-the-data.html), é possível baixar uma grande quantidade de dados para desenvolver projetos e soluções de *Data Science*.\n",
        "<br>\n",
        "<center><img alt=\"Analisando Airbnb\" width=\"10%\" src=\"https://www.area360.com.au/wp-content/uploads/2017/09/airbnb-logo.jpg\"></center>\n",
        "<br>\n",
        "<center><b>Neste *notebook*, iremos analisar os dados referentes à cidade Tokyo no Japão, e ver quais insights podem ser extraídos a partir de dados brutos.</center></b>"
      ]
    },
    {
      "cell_type": "markdown",
      "metadata": {
        "id": "0zxQHhIUDF_2",
        "colab_type": "text"
      },
      "source": [
        "## Obtenção dos Dados\n"
      ]
    },
    {
      "cell_type": "code",
      "metadata": {
        "id": "Vhp2wMPgJ6zX",
        "colab_type": "code",
        "colab": {}
      },
      "source": [
        "# importar os pacotes necessarios - Importanado as bibliotecas do Pandas do Python\n",
        "import pandas as pd #Por regra de convensão deve se chamar a biblioteca pandas sempre da forma mencionada, facilitando assim a leitura por qualquer leitor.\n",
        "import matplotlib.pyplot as plt # Trata-se da mais famosa biblioteca de visualização de gráficos de dados do Python. Por padrão deve ser acionada da forma mencionada.\n",
        "import seaborn as sns # O Seaborn é uma biblioteca de visualização de dados do Python baseado no Matplotlib com uma melhor visualização.\n",
        "\n",
        "%matplotlib inline \n"
      ],
      "execution_count": 0,
      "outputs": []
    },
    {
      "cell_type": "code",
      "metadata": {
        "id": "tUmoAT8DLQ5T",
        "colab_type": "code",
        "colab": {}
      },
      "source": [
        "# importar o arquivo listings.csv para um DataFrame- Criando a variavel df para receber o arquivo\n",
        "\n",
        "df = pd.read_csv(\"http://data.insideairbnb.com/japan/kant%C5%8D/tokyo/2019-11-28/visualisations/listings.csv\")\n",
        "# Utilizado comando para remoção da coluna\n",
        "df=df[df.columns.drop(\"neighbourhood_group\")] \n",
        "\n"
      ],
      "execution_count": 0,
      "outputs": []
    },
    {
      "cell_type": "code",
      "metadata": {
        "id": "2iS_dae7YQtO",
        "colab_type": "code",
        "outputId": "c77ca496-b99c-4be2-d449-b7dc42e4246a",
        "colab": {
          "base_uri": "https://localhost:8080/",
          "height": 357
        }
      },
      "source": [
        "\n",
        "#Comando para renomear as colunas\n",
        "df = df.rename(columns={\"name\":\"Nome\",\"host_id\":\"Id do Hospede\",\"host_name\":\"Nome do Hospede\",\"neighbourhood\":\"Vizinho\",\"room_type\":\"Tipo de Imóvel\",\"price\":\"Preço (lene)\",\n",
        "                        \"minimum_nights\":\"Minimo de Noites\",\"number_of_reviews\":\"Nº de Avalições\",\"last_review\":\"Ultima Avaliação\",\"reviews_per_month\":\"Avaliações por Mês\",\n",
        "                        \"calculated_host_listings_count\":\"Quantidade de Imóveis\",\"availability_365\":\"Avaliações no Ano\"}) \n",
        "# mostrar as primeiras entradas solicitadas - comando head()\n",
        "df.head(5)\n",
        "\n"
      ],
      "execution_count": 20,
      "outputs": [
        {
          "output_type": "execute_result",
          "data": {
            "text/html": [
              "<div>\n",
              "<style scoped>\n",
              "    .dataframe tbody tr th:only-of-type {\n",
              "        vertical-align: middle;\n",
              "    }\n",
              "\n",
              "    .dataframe tbody tr th {\n",
              "        vertical-align: top;\n",
              "    }\n",
              "\n",
              "    .dataframe thead th {\n",
              "        text-align: right;\n",
              "    }\n",
              "</style>\n",
              "<table border=\"1\" class=\"dataframe\">\n",
              "  <thead>\n",
              "    <tr style=\"text-align: right;\">\n",
              "      <th></th>\n",
              "      <th>id</th>\n",
              "      <th>Nome</th>\n",
              "      <th>Id do Hospede</th>\n",
              "      <th>Nome do Hospede</th>\n",
              "      <th>Vizinho</th>\n",
              "      <th>latitude</th>\n",
              "      <th>longitude</th>\n",
              "      <th>Tipo de Imóvel</th>\n",
              "      <th>Preço (lene)</th>\n",
              "      <th>Minimo de Noites</th>\n",
              "      <th>Nº de Avalições</th>\n",
              "      <th>Ultima Avaliação</th>\n",
              "      <th>Avaliações por Mês</th>\n",
              "      <th>Quantidade de Imóveis</th>\n",
              "      <th>Avaliações no Ano</th>\n",
              "    </tr>\n",
              "  </thead>\n",
              "  <tbody>\n",
              "    <tr>\n",
              "      <th>0</th>\n",
              "      <td>35303</td>\n",
              "      <td>La Casa Gaienmae C Harajuku, Omotesando is nearby</td>\n",
              "      <td>151977</td>\n",
              "      <td>Miyuki</td>\n",
              "      <td>Shibuya Ku</td>\n",
              "      <td>35.67152</td>\n",
              "      <td>139.71203</td>\n",
              "      <td>Private room</td>\n",
              "      <td>4160</td>\n",
              "      <td>28</td>\n",
              "      <td>18</td>\n",
              "      <td>2018-07-28</td>\n",
              "      <td>0.19</td>\n",
              "      <td>3</td>\n",
              "      <td>89</td>\n",
              "    </tr>\n",
              "    <tr>\n",
              "      <th>1</th>\n",
              "      <td>197677</td>\n",
              "      <td>Oshiage Holiday Apartment</td>\n",
              "      <td>964081</td>\n",
              "      <td>Yoshimi &amp; Marek</td>\n",
              "      <td>Sumida Ku</td>\n",
              "      <td>35.71721</td>\n",
              "      <td>139.82596</td>\n",
              "      <td>Entire home/apt</td>\n",
              "      <td>10948</td>\n",
              "      <td>3</td>\n",
              "      <td>160</td>\n",
              "      <td>2019-11-06</td>\n",
              "      <td>1.60</td>\n",
              "      <td>1</td>\n",
              "      <td>116</td>\n",
              "    </tr>\n",
              "    <tr>\n",
              "      <th>2</th>\n",
              "      <td>289597</td>\n",
              "      <td>Private apt in central Tokyo #203</td>\n",
              "      <td>341577</td>\n",
              "      <td>Hide&amp;Kei</td>\n",
              "      <td>Nerima Ku</td>\n",
              "      <td>35.74267</td>\n",
              "      <td>139.65810</td>\n",
              "      <td>Entire home/apt</td>\n",
              "      <td>4270</td>\n",
              "      <td>30</td>\n",
              "      <td>111</td>\n",
              "      <td>2019-10-31</td>\n",
              "      <td>1.22</td>\n",
              "      <td>2</td>\n",
              "      <td>206</td>\n",
              "    </tr>\n",
              "    <tr>\n",
              "      <th>3</th>\n",
              "      <td>370759</td>\n",
              "      <td>Cozy flat #203, local area YET 10 mins to shib...</td>\n",
              "      <td>1573631</td>\n",
              "      <td>Gilles,Mayumi,Taiki</td>\n",
              "      <td>Setagaya Ku</td>\n",
              "      <td>35.66344</td>\n",
              "      <td>139.65593</td>\n",
              "      <td>Entire home/apt</td>\n",
              "      <td>7007</td>\n",
              "      <td>28</td>\n",
              "      <td>102</td>\n",
              "      <td>2019-11-20</td>\n",
              "      <td>1.47</td>\n",
              "      <td>3</td>\n",
              "      <td>211</td>\n",
              "    </tr>\n",
              "    <tr>\n",
              "      <th>4</th>\n",
              "      <td>700253</td>\n",
              "      <td>Private apt in central Tokyo #201</td>\n",
              "      <td>341577</td>\n",
              "      <td>Hide&amp;Kei</td>\n",
              "      <td>Nerima Ku</td>\n",
              "      <td>35.74264</td>\n",
              "      <td>139.65832</td>\n",
              "      <td>Entire home/apt</td>\n",
              "      <td>4051</td>\n",
              "      <td>30</td>\n",
              "      <td>103</td>\n",
              "      <td>2019-10-04</td>\n",
              "      <td>1.19</td>\n",
              "      <td>2</td>\n",
              "      <td>0</td>\n",
              "    </tr>\n",
              "  </tbody>\n",
              "</table>\n",
              "</div>"
            ],
            "text/plain": [
              "       id  ... Avaliações no Ano\n",
              "0   35303  ...                89\n",
              "1  197677  ...               116\n",
              "2  289597  ...               206\n",
              "3  370759  ...               211\n",
              "4  700253  ...                 0\n",
              "\n",
              "[5 rows x 15 columns]"
            ]
          },
          "metadata": {
            "tags": []
          },
          "execution_count": 20
        }
      ]
    },
    {
      "cell_type": "markdown",
      "metadata": {
        "id": "qb5By2nIMS6m",
        "colab_type": "text"
      },
      "source": [
        "<center><h2><b>Análise dos Dados</center></h2></b>\n",
        "\n",
        "* Esta etapa tem como objetivo facilitar o entendimento dos campos inseridos no <b>DataSet (Tabela)</b> bem como facilitar a localização de algum dado específico!!\n",
        "\n",
        "* Para informação:  <b>1 Iene japonês igual a 0,039 Real brasileiro</b>, para facilitar faça a comparação da seguinte forma: 26 lene é igual a R$ 1,02. Calculo efetuado em 19/02/2020.\n"
      ]
    },
    {
      "cell_type": "markdown",
      "metadata": {
        "id": "RYgvuebKNg8-",
        "colab_type": "text"
      },
      "source": [
        "**Dicionário das variáveis**\n",
        "\n",
        "* `id`\t\n",
        "* `Nome`\n",
        "* Id do Hóspede\n",
        "* Nome do Hóspede\n",
        "* Vizinho\n",
        "* latitude\n",
        "* longitude\n",
        "* Tipo de Imóvel\n",
        "* Preço\n",
        "* Minimo de Noites\n",
        "* Nº de Avalições\n",
        "* Ultima Avaliação\n",
        "* Avaliações por Mês\n",
        "* Quantidade de Imóveis\n",
        "* Avaliação no Ano\n"
      ]
    },
    {
      "cell_type": "markdown",
      "metadata": {
        "id": "6-B_qtEaYEd-",
        "colab_type": "text"
      },
      "source": [
        "### **Q1. Quantos atributos (variáveis) e quantas entradas o nosso conjunto de dados possui? Quais os tipos das variáveis?**"
      ]
    },
    {
      "cell_type": "code",
      "metadata": {
        "id": "TFRK0tniLV-G",
        "colab_type": "code",
        "colab": {}
      },
      "source": [
        "# identificar o volume de dados do DataFrame\n",
        "\n",
        "# verificar as 5 primeiras entradas do dataset\n"
      ],
      "execution_count": 0,
      "outputs": []
    },
    {
      "cell_type": "markdown",
      "metadata": {
        "id": "yz1urSUGW9iE",
        "colab_type": "text"
      },
      "source": [
        "### **Q2. Qual a porcentagem de valores ausentes no *dataset*?**"
      ]
    },
    {
      "cell_type": "code",
      "metadata": {
        "id": "plk2FjbCXOqP",
        "colab_type": "code",
        "colab": {}
      },
      "source": [
        "# ordenar em ordem decrescente as variáveis por seus valores ausentes\n"
      ],
      "execution_count": 0,
      "outputs": []
    },
    {
      "cell_type": "markdown",
      "metadata": {
        "id": "iHXvvHIxaoNc",
        "colab_type": "text"
      },
      "source": [
        "### **Q3. Qual o tipo de distribuição das variáveis?** "
      ]
    },
    {
      "cell_type": "code",
      "metadata": {
        "id": "q2wWSfeRbmBo",
        "colab_type": "code",
        "colab": {}
      },
      "source": [
        "# plotar o histograma das variáveis numéricas\n"
      ],
      "execution_count": 0,
      "outputs": []
    },
    {
      "cell_type": "markdown",
      "metadata": {
        "id": "7x4aw1j5wNmn",
        "colab_type": "text"
      },
      "source": [
        "### **Q4. Qual a média dos preços de aluguel?**"
      ]
    },
    {
      "cell_type": "code",
      "metadata": {
        "id": "ff-8gUahLk-C",
        "colab_type": "code",
        "colab": {}
      },
      "source": [
        "# ver a média da coluna `price``\n"
      ],
      "execution_count": 0,
      "outputs": []
    },
    {
      "cell_type": "markdown",
      "metadata": {
        "id": "IXn2oIo5qx-w",
        "colab_type": "text"
      },
      "source": [
        "### **Q4. Qual a correlação existente entre as variáveis**"
      ]
    },
    {
      "cell_type": "code",
      "metadata": {
        "id": "x2ayzBajqxyd",
        "colab_type": "code",
        "colab": {}
      },
      "source": [
        "# criar uma matriz de correlação\n",
        "\n",
        "# mostrar a matriz de correlação\n"
      ],
      "execution_count": 0,
      "outputs": []
    },
    {
      "cell_type": "code",
      "metadata": {
        "id": "91UujDr6ueqE",
        "colab_type": "code",
        "colab": {}
      },
      "source": [
        "# plotar um heatmap a partir das correlações\n"
      ],
      "execution_count": 0,
      "outputs": []
    },
    {
      "cell_type": "markdown",
      "metadata": {
        "id": "7b6RMWpuHKN-",
        "colab_type": "text"
      },
      "source": [
        "### **Q5. Qual o tipo de imóvel mais alugado no Airbnb?**"
      ]
    },
    {
      "cell_type": "code",
      "metadata": {
        "id": "ueLPNWvPHgfB",
        "colab_type": "code",
        "colab": {}
      },
      "source": [
        "# mostrar a quantidade de cada tipo de imóvel disponível\n"
      ],
      "execution_count": 0,
      "outputs": []
    },
    {
      "cell_type": "code",
      "metadata": {
        "id": "EvwoO-XAHhIm",
        "colab_type": "code",
        "colab": {}
      },
      "source": [
        "# mostrar a porcentagem de cada tipo de imóvel disponível\n"
      ],
      "execution_count": 0,
      "outputs": []
    },
    {
      "cell_type": "markdown",
      "metadata": {
        "id": "MFa5NbnLJMcd",
        "colab_type": "text"
      },
      "source": [
        "### **Q6. Qual a localidade mais cara do dataset?**\n",
        "\n"
      ]
    },
    {
      "cell_type": "code",
      "metadata": {
        "id": "MD_xa143JZpi",
        "colab_type": "code",
        "colab": {}
      },
      "source": [
        "# ver preços por bairros, na média\n"
      ],
      "execution_count": 0,
      "outputs": []
    },
    {
      "cell_type": "code",
      "metadata": {
        "id": "UxVJqJ_3W59I",
        "colab_type": "code",
        "colab": {}
      },
      "source": [
        "# plotar os imóveis pela latitude-longitude\n"
      ],
      "execution_count": 0,
      "outputs": []
    },
    {
      "cell_type": "markdown",
      "metadata": {
        "id": "vTneAMRUYvr1",
        "colab_type": "text"
      },
      "source": [
        "### **Q7. Qual é a média do mínimo de noites para aluguel (minimum_nights)?**"
      ]
    },
    {
      "cell_type": "code",
      "metadata": {
        "id": "_VzNhrEgY82N",
        "colab_type": "code",
        "colab": {}
      },
      "source": [
        "# ver a média da coluna `minimum_nights``"
      ],
      "execution_count": 0,
      "outputs": []
    },
    {
      "cell_type": "markdown",
      "metadata": {
        "id": "GkvAg623RjoR",
        "colab_type": "text"
      },
      "source": [
        "## Conclusões\n"
      ]
    },
    {
      "cell_type": "markdown",
      "metadata": {
        "id": "rbZ3Hsy9Ypw8",
        "colab_type": "text"
      },
      "source": [
        ""
      ]
    }
  ]
}