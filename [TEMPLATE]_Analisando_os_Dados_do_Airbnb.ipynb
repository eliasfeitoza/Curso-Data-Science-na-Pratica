{
  "nbformat": 4,
  "nbformat_minor": 0,
  "metadata": {
    "colab": {
      "name": "[TEMPLATE] Analisando_os_Dados_do_Airbnb.ipynb",
      "provenance": [],
      "collapsed_sections": [],
      "include_colab_link": true
    },
    "kernelspec": {
      "name": "python3",
      "display_name": "Python 3"
    }
  },
  "cells": [
    {
      "cell_type": "markdown",
      "metadata": {
        "id": "view-in-github",
        "colab_type": "text"
      },
      "source": [
        "<a href=\"https://colab.research.google.com/github/eliasfeitoza/Curso-Data-Science-na-Pratica/blob/master/%5BTEMPLATE%5D_Analisando_os_Dados_do_Airbnb.ipynb\" target=\"_parent\"><img src=\"https://colab.research.google.com/assets/colab-badge.svg\" alt=\"Open In Colab\"/></a>"
      ]
    },
    {
      "cell_type": "markdown",
      "metadata": {
        "id": "kLI0gJtzDGuQ",
        "colab_type": "text"
      },
      "source": [
        "<center><img src=\"http://sigmoidal.ai/wp-content/uploads/2019/08/logo_color.png\" height=\"40px\"></center>\n",
        "\n",
        "\n",
        "<center><img src=\"https://st.depositphotos.com/1062377/3824/i/450/depositphotos_38247575-stock-photo-various-travel-destination-in-japan.jpg\" height= \"250px\" width= \"500\"></center>\n",
        "<br>\n",
        "<center><h1><b>Análise Exploratória dos Dados do Airbnb - Tokyo - Japão</center></h1></b>\n",
        "<br>\n",
        "\n",
        "\n",
        "* O [Airbnb](https://www.airbnb.com.br/) já é considerado como sendo a **maior empresa hoteleira da atualidade**. Ah, o detalhe é que ele **não possui nenhum hotel**!\n",
        "\n",
        "* Conectando pessoas que querem viajar (e se hospedar) com anfitriões que querem alugar seus imóveis de maneira prática, o Airbnb fornece uma plataforma inovadora para tornar essa hospedagem alternativa.\n",
        "\n",
        "* No final de 2018, a Startup fundada 10 anos atrás, já havia **hospedado mais de 300 milhões** de pessoas ao redor de todo o mundo, desafiando as redes hoteleiras tradicionais.\n",
        "\n",
        "* Uma das iniciativas do Airbnb é disponibilizar dados do site, para algumas das principais cidades do mundo. Por meio do portal [Inside Airbnb](http://insideairbnb.com/get-the-data.html), é possível baixar uma grande quantidade de dados para desenvolver projetos e soluções de *Data Science*.\n",
        "<br>\n",
        "<center><img alt=\"Analisando Airbnb\" width=\"10%\" src=\"https://www.area360.com.au/wp-content/uploads/2017/09/airbnb-logo.jpg\"></center>\n",
        "<br>\n",
        "<center><b>Neste *notebook*, iremos analisar os dados referentes à cidade Tokyo no Japão, e ver quais insights podem ser extraídos a partir de dados brutos.</center></b>"
      ]
    },
    {
      "cell_type": "markdown",
      "metadata": {
        "id": "0zxQHhIUDF_2",
        "colab_type": "text"
      },
      "source": [
        "<b><center><h2>Importação dos Pacotes</b></center></h2>\n"
      ]
    },
    {
      "cell_type": "code",
      "metadata": {
        "id": "Vhp2wMPgJ6zX",
        "colab_type": "code",
        "colab": {}
      },
      "source": [
        "# importar os pacotes necessarios - Importanado as bibliotecas do Pandas do Python\n",
        "import pandas as pd #Por regra de convensão deve se chamar a biblioteca pandas sempre da forma mencionada, facilitando assim a leitura por qualquer leitor.\n",
        "import matplotlib.pyplot as plt # Trata-se da mais famosa biblioteca de visualização de gráficos de dados do Python. Por padrão deve ser acionada da forma mencionada.\n",
        "import seaborn as sns # O Seaborn é uma biblioteca de visualização de dados do Python baseado no Matplotlib com uma melhor visualização.\n",
        "\n",
        "%matplotlib inline \n"
      ],
      "execution_count": 0,
      "outputs": []
    },
    {
      "cell_type": "markdown",
      "metadata": {
        "id": "BjREzGcHImhn",
        "colab_type": "text"
      },
      "source": [
        "<b><center><h2>Arquivo CSV</b></center></h2>\n",
        "\n",
        "* “CSV” significa Comma Separated Values, ou seja, um arquivo CSV é um arquivo de valores separados por vírgula. Esse formato de armazenamento é simples e agrupa informações de arquivos de texto em planilhas, usado para trocas de dados com um banco de dados ou uma planilha entre aplicativos.\n",
        "<br>\n",
        "<br>\n",
        "\n",
        "<center>Processo de importação do arquivo mostrado abaixo:</center>"
      ]
    },
    {
      "cell_type": "code",
      "metadata": {
        "id": "tUmoAT8DLQ5T",
        "colab_type": "code",
        "colab": {}
      },
      "source": [
        "# importar o arquivo listings.csv para um DataFrame- Criando a variavel df para receber o arquivo\n",
        "\n",
        "df = pd.read_csv(\"http://data.insideairbnb.com/japan/kant%C5%8D/tokyo/2019-11-28/visualisations/listings.csv\")\n",
        "\n",
        "# Utilizado comando para remoção da coluna\n",
        "df=df[df.columns.drop(\"neighbourhood_group\")] \n",
        "\n"
      ],
      "execution_count": 0,
      "outputs": []
    },
    {
      "cell_type": "markdown",
      "metadata": {
        "id": "qb5By2nIMS6m",
        "colab_type": "text"
      },
      "source": [
        "<center><h2><b>Análise dos Dados</center></h2></b>\n",
        "\n",
        "* Esta etapa tem como objetivo facilitar o entendimento dos campos inseridos no <b>DataSet (Tabela)</b> bem como facilitar a localização de algum dado específico e analisar se há informações em branco que interfira em nossa análise!!\n",
        "\n",
        "* Obs:  <b>1 Iene japonês igual a 0,039 Real brasileiro</b>, para facilitar faça a comparação da seguinte forma: 26 lene é igual a R$ 1,02. Calculo efetuado em 19/02/2020. Pois os valoires informados no DataSet são valores da moeda corrente do país.\n"
      ]
    },
    {
      "cell_type": "markdown",
      "metadata": {
        "id": "RYgvuebKNg8-",
        "colab_type": "text"
      },
      "source": [
        "**Dicionário das variáveis**\n",
        "\n",
        "* `id`- <i>número de id gerado para identificar o imóvel</i>\t\n",
        "* `Nome Propriedade`- <i> nome da propriedade anunciada</i>\n",
        "* `Id do Anfitrião`<i>- número de id do proprietário (anfitrião) da propriedade</i>\n",
        "* `Nome do Anfitrião`<i>- nome do anfitrião</i>\n",
        "* `Vizinho`- <i>nome do bairro</i>\n",
        "* `latitude`<i>- coordenada da latitude da propriedade</i>\n",
        "* `longitude`<i> - coordenada da longitude da propriedade</i>\n",
        "* `Tipo de Imóvel`<i>- informa o tipo do imóvel que é oferecido</i>\n",
        "* `Preço`<i>- preço para alugar o imóvel,</i>\n",
        "* `Minimo de Noites`<i> - quantidade mínima de noites para reservar</i>\n",
        "* `Nº de Avalições`<i>- número de avaliações que a propriedade possui</i>\n",
        "* `Ultima Avaliação`<i>- data da última avaliação</i>\n",
        "* `Avaliações por Mês`<i>- quantidade de avaliações por mês</i>\n",
        "* `Quantidade de Imóveis`<i> - quantidade de imóveis do mesmo anfitrião</i>\n",
        "* `Avaliações no Ano`<i> - número de dias de disponibilidade dentro de 365 dias</i>\n"
      ]
    },
    {
      "cell_type": "code",
      "metadata": {
        "id": "2iS_dae7YQtO",
        "colab_type": "code",
        "outputId": "310b2635-447c-4343-fb0a-d85b5b6028c6",
        "colab": {
          "base_uri": "https://localhost:8080/",
          "height": 459
        }
      },
      "source": [
        "\n",
        "#Comando para renomear as colunas\n",
        "df = df.rename(columns={\"name\":\"Nome Propriedade\",\"host_id\":\"Id do Anfitrião\",\"host_name\":\"Nome do Anfitrião\",\"neighbourhood\":\"Bairro\",\"room_type\":\"Tipo de Imóvel\",\"price\":\"Preço (lene)\",\n",
        "                        \"minimum_nights\":\"Minimo de Noites\",\"number_of_reviews\":\"Nº de Avalições\",\"last_review\":\"Ultima Avaliação\",\"reviews_per_month\":\"Avaliações por Mês\",\n",
        "                        \"calculated_host_listings_count\":\"Quantidade de Imóveis\",\"availability_365\":\"Disponibilidade x Dias no Ano\"}) \n",
        "# mostrar as primeiras entradas solicitadas - comando head()\n",
        "df.head(5)\n"
      ],
      "execution_count": 368,
      "outputs": [
        {
          "output_type": "execute_result",
          "data": {
            "text/html": [
              "<div>\n",
              "<style scoped>\n",
              "    .dataframe tbody tr th:only-of-type {\n",
              "        vertical-align: middle;\n",
              "    }\n",
              "\n",
              "    .dataframe tbody tr th {\n",
              "        vertical-align: top;\n",
              "    }\n",
              "\n",
              "    .dataframe thead th {\n",
              "        text-align: right;\n",
              "    }\n",
              "</style>\n",
              "<table border=\"1\" class=\"dataframe\">\n",
              "  <thead>\n",
              "    <tr style=\"text-align: right;\">\n",
              "      <th></th>\n",
              "      <th>id</th>\n",
              "      <th>Nome Propriedade</th>\n",
              "      <th>Id do Anfitrião</th>\n",
              "      <th>Nome do Anfitrião</th>\n",
              "      <th>Bairro</th>\n",
              "      <th>latitude</th>\n",
              "      <th>longitude</th>\n",
              "      <th>Tipo de Imóvel</th>\n",
              "      <th>Preço (lene)</th>\n",
              "      <th>Minimo de Noites</th>\n",
              "      <th>Nº de Avalições</th>\n",
              "      <th>Ultima Avaliação</th>\n",
              "      <th>Avaliações por Mês</th>\n",
              "      <th>Quantidade de Imóveis</th>\n",
              "      <th>Disponibilidade x Dias no Ano</th>\n",
              "    </tr>\n",
              "  </thead>\n",
              "  <tbody>\n",
              "    <tr>\n",
              "      <th>0</th>\n",
              "      <td>35303</td>\n",
              "      <td>La Casa Gaienmae C Harajuku, Omotesando is nearby</td>\n",
              "      <td>151977</td>\n",
              "      <td>Miyuki</td>\n",
              "      <td>Shibuya Ku</td>\n",
              "      <td>35.67152</td>\n",
              "      <td>139.71203</td>\n",
              "      <td>Private room</td>\n",
              "      <td>4160</td>\n",
              "      <td>28</td>\n",
              "      <td>18</td>\n",
              "      <td>2018-07-28</td>\n",
              "      <td>0.19</td>\n",
              "      <td>3</td>\n",
              "      <td>89</td>\n",
              "    </tr>\n",
              "    <tr>\n",
              "      <th>1</th>\n",
              "      <td>197677</td>\n",
              "      <td>Oshiage Holiday Apartment</td>\n",
              "      <td>964081</td>\n",
              "      <td>Yoshimi &amp; Marek</td>\n",
              "      <td>Sumida Ku</td>\n",
              "      <td>35.71721</td>\n",
              "      <td>139.82596</td>\n",
              "      <td>Entire home/apt</td>\n",
              "      <td>10948</td>\n",
              "      <td>3</td>\n",
              "      <td>160</td>\n",
              "      <td>2019-11-06</td>\n",
              "      <td>1.60</td>\n",
              "      <td>1</td>\n",
              "      <td>116</td>\n",
              "    </tr>\n",
              "    <tr>\n",
              "      <th>2</th>\n",
              "      <td>289597</td>\n",
              "      <td>Private apt in central Tokyo #203</td>\n",
              "      <td>341577</td>\n",
              "      <td>Hide&amp;Kei</td>\n",
              "      <td>Nerima Ku</td>\n",
              "      <td>35.74267</td>\n",
              "      <td>139.65810</td>\n",
              "      <td>Entire home/apt</td>\n",
              "      <td>4270</td>\n",
              "      <td>30</td>\n",
              "      <td>111</td>\n",
              "      <td>2019-10-31</td>\n",
              "      <td>1.22</td>\n",
              "      <td>2</td>\n",
              "      <td>206</td>\n",
              "    </tr>\n",
              "    <tr>\n",
              "      <th>3</th>\n",
              "      <td>370759</td>\n",
              "      <td>Cozy flat #203, local area YET 10 mins to shib...</td>\n",
              "      <td>1573631</td>\n",
              "      <td>Gilles,Mayumi,Taiki</td>\n",
              "      <td>Setagaya Ku</td>\n",
              "      <td>35.66344</td>\n",
              "      <td>139.65593</td>\n",
              "      <td>Entire home/apt</td>\n",
              "      <td>7007</td>\n",
              "      <td>28</td>\n",
              "      <td>102</td>\n",
              "      <td>2019-11-20</td>\n",
              "      <td>1.47</td>\n",
              "      <td>3</td>\n",
              "      <td>211</td>\n",
              "    </tr>\n",
              "    <tr>\n",
              "      <th>4</th>\n",
              "      <td>700253</td>\n",
              "      <td>Private apt in central Tokyo #201</td>\n",
              "      <td>341577</td>\n",
              "      <td>Hide&amp;Kei</td>\n",
              "      <td>Nerima Ku</td>\n",
              "      <td>35.74264</td>\n",
              "      <td>139.65832</td>\n",
              "      <td>Entire home/apt</td>\n",
              "      <td>4051</td>\n",
              "      <td>30</td>\n",
              "      <td>103</td>\n",
              "      <td>2019-10-04</td>\n",
              "      <td>1.19</td>\n",
              "      <td>2</td>\n",
              "      <td>0</td>\n",
              "    </tr>\n",
              "  </tbody>\n",
              "</table>\n",
              "</div>"
            ],
            "text/plain": [
              "       id  ... Disponibilidade x Dias no Ano\n",
              "0   35303  ...                            89\n",
              "1  197677  ...                           116\n",
              "2  289597  ...                           206\n",
              "3  370759  ...                           211\n",
              "4  700253  ...                             0\n",
              "\n",
              "[5 rows x 15 columns]"
            ]
          },
          "metadata": {
            "tags": []
          },
          "execution_count": 368
        }
      ]
    },
    {
      "cell_type": "markdown",
      "metadata": {
        "id": "qRalDABGNK49",
        "colab_type": "text"
      },
      "source": [
        "### **Q1. Quais tipo de Acomodações estão disponíveis?**"
      ]
    },
    {
      "cell_type": "code",
      "metadata": {
        "id": "phELON-5Uvui",
        "colab_type": "code",
        "outputId": "3aa684a8-dfac-432f-8b8d-090249e2c2df",
        "colab": {
          "base_uri": "https://localhost:8080/",
          "height": 295
        }
      },
      "source": [
        "df['Tipo de Imóvel'].hist(bins = 10, edgecolor = 'Black') # Aplicando o gáfico histograma e definindo o tamanho com a propriedade bins e a cor da borda com edgecolor.\n",
        "plt.title('Tipo de Acomodação x Disponibilidade') # Incluindo um Título ao gráfico\n",
        "plt.xlabel('Acomodações Oferecidas') # Incluindo legenda no eixo x\n",
        "plt.ylabel('Quantidade'); # Incluindo legenda no eixo y\n",
        "# plt.show() ou ; para remoção de observações do sistema no gráfico, utilizando este comando o gráfico mostra somente observações pertinentes"
      ],
      "execution_count": 369,
      "outputs": [
        {
          "output_type": "display_data",
          "data": {
            "image/png": "[encoded data removed]",
            "text/plain": [
              "<Figure size 432x288 with 1 Axes>"
            ]
          },
          "metadata": {
            "tags": []
          }
        }
      ]
    },
    {
      "cell_type": "code",
      "metadata": {
        "id": "mjzpfFqjHfbK",
        "colab_type": "code",
        "colab": {
          "base_uri": "https://localhost:8080/",
          "height": 102
        },
        "outputId": "1444b2c9-1f46-4eef-89d8-9f85609c5d8e"
      },
      "source": [
        "df[\"Tipo de Imóvel\"].value_counts() # Função .value_counts() para detalhar a quantidade dos dados da coluna Tipo de Imóvel\n"
      ],
      "execution_count": 370,
      "outputs": [
        {
          "output_type": "execute_result",
          "data": {
            "text/plain": [
              "Entire home/apt    9286\n",
              "Private room       2842\n",
              "Hotel room         1021\n",
              "Shared room         613\n",
              "Name: Tipo de Imóvel, dtype: int64"
            ]
          },
          "metadata": {
            "tags": []
          },
          "execution_count": 370
        }
      ]
    },
    {
      "cell_type": "markdown",
      "metadata": {
        "id": "MupTYPKZhP28",
        "colab_type": "text"
      },
      "source": [
        "* Como podemos observar no gáfico acima, as maiores disponibilidades de imóveis oferecidos na plataforma <b>Airbnb</b> nos bairros de Tokyo são: <b><i>Entire home/Apt</b></i> depois o <b><i>Private room;</b></i> as demais acomodações não há tanta divulgação. Para facilitar a visualização foi disponibilizado também uma legenda espelhando os dados do gráfico."
      ]
    },
    {
      "cell_type": "markdown",
      "metadata": {
        "id": "6-B_qtEaYEd-",
        "colab_type": "text"
      },
      "source": [
        "### **Q2. Quantos atributos (variáveis) e quantas entradas o nosso conjunto de dados possui? Quais os tipos das variáveis?**\n",
        "\n",
        "* Vamos prosseguir e identificar a quantidade de entradas que nosso conjunto de dados possui e ver os tipos de cada coluna.\n",
        "\n",
        "* Este *dataset* que baixamos é a versão \"resumida\" do Airbnb. Na mesma página que baixamos o arquivo `listings.csv`. \n"
      ]
    },
    {
      "cell_type": "code",
      "metadata": {
        "id": "TFRK0tniLV-G",
        "colab_type": "code",
        "outputId": "0b37e2fc-aeb4-4be2-8e4b-2ac390928eb7",
        "colab": {
          "base_uri": "https://localhost:8080/",
          "height": 340
        }
      },
      "source": [
        "# identificar o volume de dados do DataFrame\n",
        "print(\"Variáveis:{} \".format(df.shape[0]))  # Exibe na tela através do comando print a quantidade de Variáveis que o DataFrame possui.\n",
        "print(\"Entradas: {}\\n\".format(df.shape[1])) # Exibe na tela através do comando print a quantidade de entradas que o DataFrame possui.\n",
        "                                            # Comando \\n utilizado para pular uma linha\n",
        "                                            # Comando \\t para dar um TAB se necessário\n",
        "                                            # {} exibe os valores das Variáveis\n",
        "                                            # Em Pythonshape() é usado em pandas para dar número de linha / coluna: Variáveis = Linhas e Entradas = Colunas\n",
        "# O Comando display(df.dtypes) exibe o tipo de cada entrada do DataSete de forma integral\n",
        "display(df.dtypes)\n"
      ],
      "execution_count": 371,
      "outputs": [
        {
          "output_type": "stream",
          "text": [
            "Variáveis:13762 \n",
            "Entradas: 15\n",
            "\n"
          ],
          "name": "stdout"
        },
        {
          "output_type": "display_data",
          "data": {
            "text/plain": [
              "id                                 int64\n",
              "Nome Propriedade                  object\n",
              "Id do Anfitrião                    int64\n",
              "Nome do Anfitrião                 object\n",
              "Bairro                            object\n",
              "latitude                         float64\n",
              "longitude                        float64\n",
              "Tipo de Imóvel                    object\n",
              "Preço (lene)                       int64\n",
              "Minimo de Noites                   int64\n",
              "Nº de Avalições                    int64\n",
              "Ultima Avaliação                  object\n",
              "Avaliações por Mês               float64\n",
              "Quantidade de Imóveis              int64\n",
              "Disponibilidade x Dias no Ano      int64\n",
              "dtype: object"
            ]
          },
          "metadata": {
            "tags": []
          }
        }
      ]
    },
    {
      "cell_type": "markdown",
      "metadata": {
        "id": "sKx1yKlIjCXy",
        "colab_type": "text"
      },
      "source": [
        "\n",
        "**Há versão mais completa possui:** \n",
        "\n",
        "<b>* 13.762 Entradas</b>\n",
        "<br>\n",
        "<b>* 106 Variáveis</b>\n",
        "<br>\n",
        "nome do arquivo (`listings.csv.gz`)."
      ]
    },
    {
      "cell_type": "markdown",
      "metadata": {
        "id": "yz1urSUGW9iE",
        "colab_type": "text"
      },
      "source": [
        "### **Q3. Qual a porcentagem de valores ausentes no *dataset*?**\n",
        "\n",
        "* Sem dúvidas, um dos processos que podem levar mais tempo para um Cientista de Dados, é realizar a limpeza e a preparação das informações.\n",
        "\n",
        "* Esse processo pode ser custoso e demorado. É necessário identificar os dados que estão faltando e descobrir se existem possíveis valores que podem alterar o resultado. Sem o tratamento adequado, não é possível realizar uma análise concreta.\n",
        "\n",
        "* Não só como se deparar com valores inconsistentes, dados não gravados e outliers. É importante conseguir “reformar” os dados para que possam ser utilizadas futuramente."
      ]
    },
    {
      "cell_type": "code",
      "metadata": {
        "id": "plk2FjbCXOqP",
        "colab_type": "code",
        "colab": {
          "base_uri": "https://localhost:8080/",
          "height": 355
        },
        "outputId": "f68cc247-d60f-478b-9bf2-d1b1affde896"
      },
      "source": [
        "# ordenar em ordem decrescente as variáveis por seus valores ausentes em percentual\n",
        "percentage = (df.isnull().sum() / df.shape[0]).sort_values(ascending=False)\n",
        "df = pd.DataFrame(percentage)\n",
        "df.style.format(\"{:.2%}\")"
      ],
      "execution_count": 372,
      "outputs": [
        {
          "output_type": "execute_result",
          "data": {
            "text/html": [
              "<style  type=\"text/css\" >\n",
              "</style><table id=\"T_0d9195a4_54cd_11ea_9208_0242ac1c0002\" ><thead>    <tr>        <th class=\"blank level0\" ></th>        <th class=\"col_heading level0 col0\" >0</th>    </tr></thead><tbody>\n",
              "                <tr>\n",
              "                        <th id=\"T_0d9195a4_54cd_11ea_9208_0242ac1c0002level0_row0\" class=\"row_heading level0 row0\" >Avaliações por Mês</th>\n",
              "                        <td id=\"T_0d9195a4_54cd_11ea_9208_0242ac1c0002row0_col0\" class=\"data row0 col0\" >13.34%</td>\n",
              "            </tr>\n",
              "            <tr>\n",
              "                        <th id=\"T_0d9195a4_54cd_11ea_9208_0242ac1c0002level0_row1\" class=\"row_heading level0 row1\" >Ultima Avaliação</th>\n",
              "                        <td id=\"T_0d9195a4_54cd_11ea_9208_0242ac1c0002row1_col0\" class=\"data row1 col0\" >13.34%</td>\n",
              "            </tr>\n",
              "            <tr>\n",
              "                        <th id=\"T_0d9195a4_54cd_11ea_9208_0242ac1c0002level0_row2\" class=\"row_heading level0 row2\" >Nome do Anfitrião</th>\n",
              "                        <td id=\"T_0d9195a4_54cd_11ea_9208_0242ac1c0002row2_col0\" class=\"data row2 col0\" >0.08%</td>\n",
              "            </tr>\n",
              "            <tr>\n",
              "                        <th id=\"T_0d9195a4_54cd_11ea_9208_0242ac1c0002level0_row3\" class=\"row_heading level0 row3\" >Disponibilidade x Dias no Ano</th>\n",
              "                        <td id=\"T_0d9195a4_54cd_11ea_9208_0242ac1c0002row3_col0\" class=\"data row3 col0\" >0.00%</td>\n",
              "            </tr>\n",
              "            <tr>\n",
              "                        <th id=\"T_0d9195a4_54cd_11ea_9208_0242ac1c0002level0_row4\" class=\"row_heading level0 row4\" >Quantidade de Imóveis</th>\n",
              "                        <td id=\"T_0d9195a4_54cd_11ea_9208_0242ac1c0002row4_col0\" class=\"data row4 col0\" >0.00%</td>\n",
              "            </tr>\n",
              "            <tr>\n",
              "                        <th id=\"T_0d9195a4_54cd_11ea_9208_0242ac1c0002level0_row5\" class=\"row_heading level0 row5\" >Nº de Avalições</th>\n",
              "                        <td id=\"T_0d9195a4_54cd_11ea_9208_0242ac1c0002row5_col0\" class=\"data row5 col0\" >0.00%</td>\n",
              "            </tr>\n",
              "            <tr>\n",
              "                        <th id=\"T_0d9195a4_54cd_11ea_9208_0242ac1c0002level0_row6\" class=\"row_heading level0 row6\" >Minimo de Noites</th>\n",
              "                        <td id=\"T_0d9195a4_54cd_11ea_9208_0242ac1c0002row6_col0\" class=\"data row6 col0\" >0.00%</td>\n",
              "            </tr>\n",
              "            <tr>\n",
              "                        <th id=\"T_0d9195a4_54cd_11ea_9208_0242ac1c0002level0_row7\" class=\"row_heading level0 row7\" >Preço (lene)</th>\n",
              "                        <td id=\"T_0d9195a4_54cd_11ea_9208_0242ac1c0002row7_col0\" class=\"data row7 col0\" >0.00%</td>\n",
              "            </tr>\n",
              "            <tr>\n",
              "                        <th id=\"T_0d9195a4_54cd_11ea_9208_0242ac1c0002level0_row8\" class=\"row_heading level0 row8\" >Tipo de Imóvel</th>\n",
              "                        <td id=\"T_0d9195a4_54cd_11ea_9208_0242ac1c0002row8_col0\" class=\"data row8 col0\" >0.00%</td>\n",
              "            </tr>\n",
              "            <tr>\n",
              "                        <th id=\"T_0d9195a4_54cd_11ea_9208_0242ac1c0002level0_row9\" class=\"row_heading level0 row9\" >longitude</th>\n",
              "                        <td id=\"T_0d9195a4_54cd_11ea_9208_0242ac1c0002row9_col0\" class=\"data row9 col0\" >0.00%</td>\n",
              "            </tr>\n",
              "            <tr>\n",
              "                        <th id=\"T_0d9195a4_54cd_11ea_9208_0242ac1c0002level0_row10\" class=\"row_heading level0 row10\" >latitude</th>\n",
              "                        <td id=\"T_0d9195a4_54cd_11ea_9208_0242ac1c0002row10_col0\" class=\"data row10 col0\" >0.00%</td>\n",
              "            </tr>\n",
              "            <tr>\n",
              "                        <th id=\"T_0d9195a4_54cd_11ea_9208_0242ac1c0002level0_row11\" class=\"row_heading level0 row11\" >Bairro</th>\n",
              "                        <td id=\"T_0d9195a4_54cd_11ea_9208_0242ac1c0002row11_col0\" class=\"data row11 col0\" >0.00%</td>\n",
              "            </tr>\n",
              "            <tr>\n",
              "                        <th id=\"T_0d9195a4_54cd_11ea_9208_0242ac1c0002level0_row12\" class=\"row_heading level0 row12\" >Id do Anfitrião</th>\n",
              "                        <td id=\"T_0d9195a4_54cd_11ea_9208_0242ac1c0002row12_col0\" class=\"data row12 col0\" >0.00%</td>\n",
              "            </tr>\n",
              "            <tr>\n",
              "                        <th id=\"T_0d9195a4_54cd_11ea_9208_0242ac1c0002level0_row13\" class=\"row_heading level0 row13\" >Nome Propriedade</th>\n",
              "                        <td id=\"T_0d9195a4_54cd_11ea_9208_0242ac1c0002row13_col0\" class=\"data row13 col0\" >0.00%</td>\n",
              "            </tr>\n",
              "            <tr>\n",
              "                        <th id=\"T_0d9195a4_54cd_11ea_9208_0242ac1c0002level0_row14\" class=\"row_heading level0 row14\" >id</th>\n",
              "                        <td id=\"T_0d9195a4_54cd_11ea_9208_0242ac1c0002row14_col0\" class=\"data row14 col0\" >0.00%</td>\n",
              "            </tr>\n",
              "    </tbody></table>"
            ],
            "text/plain": [
              "<pandas.io.formats.style.Styler at 0x7fbb90a720f0>"
            ]
          },
          "metadata": {
            "tags": []
          },
          "execution_count": 372
        }
      ]
    },
    {
      "cell_type": "markdown",
      "metadata": {
        "id": "iHXvvHIxaoNc",
        "colab_type": "text"
      },
      "source": [
        "### **Q3. Qual o tipo de distribuição das variáveis?** "
      ]
    },
    {
      "cell_type": "code",
      "metadata": {
        "id": "q2wWSfeRbmBo",
        "colab_type": "code",
        "colab": {
          "base_uri": "https://localhost:8080/",
          "height": 336
        },
        "outputId": "05a6b051-db08-4965-8324-85b445547e2b"
      },
      "source": [
        "# plotar o histograma das variáveis numéricas\n",
        "df.hist(bins=15, figsize=(5,5));\n"
      ],
      "execution_count": 375,
      "outputs": [
        {
          "output_type": "display_data",
          "data": {
            "image/png": "[encoded data removed]",
            "text/plain": [
              "<Figure size 360x360 with 1 Axes>"
            ]
          },
          "metadata": {
            "tags": []
          }
        }
      ]
    },
    {
      "cell_type": "markdown",
      "metadata": {
        "id": "7x4aw1j5wNmn",
        "colab_type": "text"
      },
      "source": [
        "### **Q4. Qual a média dos preços de aluguel?**"
      ]
    },
    {
      "cell_type": "code",
      "metadata": {
        "id": "ff-8gUahLk-C",
        "colab_type": "code",
        "colab": {}
      },
      "source": [
        "# ver a média da coluna `price``\n"
      ],
      "execution_count": 0,
      "outputs": []
    },
    {
      "cell_type": "markdown",
      "metadata": {
        "id": "IXn2oIo5qx-w",
        "colab_type": "text"
      },
      "source": [
        "### **Q4. Qual a correlação existente entre as variáveis**"
      ]
    },
    {
      "cell_type": "code",
      "metadata": {
        "id": "x2ayzBajqxyd",
        "colab_type": "code",
        "colab": {}
      },
      "source": [
        "# criar uma matriz de correlação\n",
        "\n",
        "# mostrar a matriz de correlação\n"
      ],
      "execution_count": 0,
      "outputs": []
    },
    {
      "cell_type": "code",
      "metadata": {
        "id": "91UujDr6ueqE",
        "colab_type": "code",
        "colab": {}
      },
      "source": [
        "# plotar um heatmap a partir das correlações\n"
      ],
      "execution_count": 0,
      "outputs": []
    },
    {
      "cell_type": "markdown",
      "metadata": {
        "id": "7b6RMWpuHKN-",
        "colab_type": "text"
      },
      "source": [
        "### **Q5. Qual o tipo de imóvel mais alugado no Airbnb?**"
      ]
    },
    {
      "cell_type": "code",
      "metadata": {
        "id": "ueLPNWvPHgfB",
        "colab_type": "code",
        "colab": {}
      },
      "source": [
        "# mostrar a quantidade de cada tipo de imóvel disponível\n"
      ],
      "execution_count": 0,
      "outputs": []
    },
    {
      "cell_type": "code",
      "metadata": {
        "id": "EvwoO-XAHhIm",
        "colab_type": "code",
        "colab": {}
      },
      "source": [
        "# mostrar a porcentagem de cada tipo de imóvel disponível\n"
      ],
      "execution_count": 0,
      "outputs": []
    },
    {
      "cell_type": "markdown",
      "metadata": {
        "id": "MFa5NbnLJMcd",
        "colab_type": "text"
      },
      "source": [
        "### **Q6. Qual a localidade mais cara do dataset?**\n",
        "\n"
      ]
    },
    {
      "cell_type": "code",
      "metadata": {
        "id": "MD_xa143JZpi",
        "colab_type": "code",
        "colab": {}
      },
      "source": [
        "# ver preços por bairros, na média\n"
      ],
      "execution_count": 0,
      "outputs": []
    },
    {
      "cell_type": "code",
      "metadata": {
        "id": "UxVJqJ_3W59I",
        "colab_type": "code",
        "colab": {}
      },
      "source": [
        "# plotar os imóveis pela latitude-longitude\n"
      ],
      "execution_count": 0,
      "outputs": []
    },
    {
      "cell_type": "markdown",
      "metadata": {
        "id": "vTneAMRUYvr1",
        "colab_type": "text"
      },
      "source": [
        "### **Q7. Qual é a média do mínimo de noites para aluguel (minimum_nights)?**"
      ]
    },
    {
      "cell_type": "code",
      "metadata": {
        "id": "_VzNhrEgY82N",
        "colab_type": "code",
        "colab": {}
      },
      "source": [
        "# ver a média da coluna `minimum_nights``"
      ],
      "execution_count": 0,
      "outputs": []
    },
    {
      "cell_type": "markdown",
      "metadata": {
        "id": "GkvAg623RjoR",
        "colab_type": "text"
      },
      "source": [
        "## Conclusões\n"
      ]
    },
    {
      "cell_type": "markdown",
      "metadata": {
        "id": "rbZ3Hsy9Ypw8",
        "colab_type": "text"
      },
      "source": [
        ""
      ]
    }
  ]
}