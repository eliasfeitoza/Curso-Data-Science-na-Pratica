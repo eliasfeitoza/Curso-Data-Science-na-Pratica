{
  "nbformat": 4,
  "nbformat_minor": 0,
  "metadata": {
    "colab": {
      "name": "Projeto - Doenças Cardiovasculares.ipynb",
      "provenance": [],
      "collapsed_sections": [],
      "authorship_tag": "ABX9TyPaoHRGd+k2XCfWfIHbFYsR",
      "include_colab_link": true
    },
    "kernelspec": {
      "name": "python3",
      "display_name": "Python 3"
    }
  },
  "cells": [
    {
      "cell_type": "markdown",
      "metadata": {
        "id": "view-in-github",
        "colab_type": "text"
      },
      "source": [
        "<a href=\"https://colab.research.google.com/github/eliasfeitoza/Curso-Data-Science-na-Pratica/blob/master/Projeto_Doen%C3%A7as_Cardiovasculares.ipynb\" target=\"_parent\"><img src=\"https://colab.research.google.com/assets/colab-badge.svg\" alt=\"Open In Colab\"/></a>"
      ]
    },
    {
      "cell_type": "markdown",
      "metadata": {
        "id": "mqzzuitXEJXL",
        "colab_type": "text"
      },
      "source": [
        "<center><h1><b>Análise Exploratória de Dados - Doenças Cardiovasculares</center></h1></b>\n",
        "<p>\n",
        "<p>\n",
        "<center><img src=\"https://bit.ly/3cOCGzr\" width=\"500\"></center>\n",
        "\n",
        "* Doenças cardiovasculares são uma classe contendo diferentes tipos de doenças que afetam de alguma maneira o coração ou os vasos sanguíneos. Dentro da classe, existem várias doenças comoangina de peito, cardiopatia, arritmia cardíaca e aneurisma da aorta.\n",
        "\n",
        "* Apesar de ser uma das principais causas de morte em todo o mundo, estima-se que cerca de 90% das doenças cardiovasculares poderiam ser evitadas por meio da adoção de algumas medidas e mudanças no *lifestyle*.\n",
        "\n",
        "* Os mais importantes fatores de risco comportamentais, tanto para doenças cardíacas quanto para AVCs, são dietas inadequadas, sedentarismo, uso de tabaco e uso nocivo do álcool. Os efeitos dos fatores comportamentais de risco podem se manifestar em indivíduos por meio de pressão arterial elevada, glicemia alta, hiperlipidemia, sobrepeso e obesidade. Esses “fatores de risco intermediários” podem ser mensurados em unidades básicas de saúde e indicam um maior risco de desenvolvimento de ataques cardíacos, acidentes vasculares cerebrais, insuficiência cardíaca e outras complicações.\n",
        "\n",
        "* A cessação do tabagismo, redução do sal na dieta, consumo de frutas e vegetais, atividades físicas regulares e evitar o uso nocivo do álcool têm se mostrado eficazes para reduzir o risco de doenças cardiovasculares. Além disso, o tratamento medicamentoso da diabetes, hipertensão e hiperlipidemia pode ser necessário para reduzir os riscos cardiovasculares e prevenir ataques cardíacos e AVCs. Políticas de saúde que criam ambientes propícios para escolhas saudáveis acessíveis são essenciais para motivar as pessoas a adotarem e manterem comportamentos saudáveis.\n",
        "\n",
        "* Há também um número de determinantes subjacentes das doenças cardiovasculares. Elas são um reflexo das principais forças que regem mudanças sociais, econômicas e culturais – globalização, urbanização e envelhecimento da população. Outras determinantes dessas enfermidades incluem pobreza, estresse e fatores hereditários.\n",
        "\n",
        "* Existem hoje várias pesquisas na área de *Machine Learning* visando a construções de modelos preditivos que ajudem os médicos a descobrirem doenças cardiovasculares em seus pacientes.\n",
        "\n",
        "* Estudos publicados na revista *na revista Nature Biomedical Engineering* mostram que algoritmos de *Deep Learning* foram capazes de antecipar doenças cardíacas em até 5 anos.\n",
        "\n",
        "* Definitivamente, o uso de Inteligência Artificial tem impactado profundamente a área da saúde, e tem proporcionado aos profissionais médicos insumos de inteligência cada vez mais precisos.\n"
      ]
    },
    {
      "cell_type": "markdown",
      "metadata": {
        "id": "4gctZBG3EdvC",
        "colab_type": "text"
      },
      "source": [
        "## Obtenção dos Dados\n",
        "\n",
        "* O conjunto principal de dados usado neste projeto foi coletado da ***Cleveland Clinic Foundation*** e se encontra disponível no conhecido [Repositório UCI *Machine Learning*](https://archive.ics.uci.edu/ml/datasets/heart+Disease). Ressalta-se que os nomes, identidade e documentos pessoais dos pacientes foram removidos completamente do banco de dados.\n",
        "\n",
        "* O *dataset* processado contém dados de 303 pessoas e 76 atributos. Entretanto, os principais artigos e estudos publicados optaram por usar apenas 14 atributos, considerados de maior relevância. Da mesma maneira, este projeto de *Data Science* usará essas mesmas 14 variáveis principais.\n",
        "\n",
        "<p><img alt=\"Colaboratory logo\" height=\"100\" src=\"https://bit.ly/2WKyrzc\" align=\"right\" hspace=\"20px\" vspace=\"0px\"></p>\n",
        "\n",
        "* O arquivo `csv` com os dados de 303 pessoas e 14 atributos pode ser baixado [neste link](https://raw.githubusercontent.com/carlosfab/curso_data_science_na_pratica/master/modulo_03/heart-disease-uci.csv).\n",
        "\n",
        "* O arquivo contendo todos os detalhes e documentação do *dataset* usado neste projeto se encontra [neste link](https://github.com/carlosfab/curso_data_science_na_pratica/blob/master/modulo_03/heart-disease.names).\n",
        "\n",
        "* Há ainda um *dataset* secundário que será utilizado para ver a evolução no número de mortes por doenças cardiovasculares no Brasil (entre os anos de 2004-2017). Esses dados foram disponibilizados pela [Sociedade Brasileira de Cardiologia](http://www.cardiometro.com.br/anteriores.asp), e podem ser baixados [neste link](https://raw.githubusercontent.com/carlosfab/curso_data_science_na_pratica/master/modulo_03/mortes_doencas_cardiovasculares.csv).\n"
      ]
    },
    {
      "cell_type": "markdown",
      "metadata": {
        "id": "JwULhIeDEycL",
        "colab_type": "text"
      },
      "source": [
        "### Informações sobre os atributos (Colunas):\n",
        "\n",
        "\n",
        "* `age` - idade em anos\n",
        "* `sex` - sexo do paciente\n",
        "  * 0: mulher\n",
        "  * 1: homem\n",
        "* `cp` - tipo da dor torácica\n",
        "  * 1: angina típica\n",
        "  * 2: angina atípica\n",
        "  * 3: dor não cardíaca\n",
        "  * 4: assintomática\n",
        "* `trestbps` - pressão arterial em repouso\n",
        "* `chol` - colesterol sérico (*mg/dl*)\n",
        "* `fbs` - açucar no sangue em jejum > 120*mg/dl*\n",
        "  * 0: `False`\n",
        "  * 1: `True`\n",
        "* `restecg` - resultado do eletrocardiografia de repouso\n",
        "  * 0: normal\n",
        "  * 1: anormalidades de ST-T  (inversão da onda T e elevação ou depressão de > 0.05*mV*)\n",
        "  * 2: hipertrofia ventricular esquerda provável ou definitiva (pelos critérios de Romhilt-Estes)\n",
        "* `thalach` - frequência cardíaca máxima atingida\n",
        "* `exang` - angina induzida pelo exercício\n",
        "  * 0: não\n",
        "  * 1: sim\n",
        "* `oldpeak` - depessão do segmento ST induzida pelo exercício em relação ao repouso\n",
        "* `slope` - inclinação do segmento ST no pico do exercício\n",
        "* `ca` - número de vasos principais colorido por fluoroscopia\n",
        "* `thal` - *thallium stress test*\n",
        "  * 3: normal\n",
        "  * 6: defeito fixo\n",
        "  * 7: defeito reversível\n",
        "* `num` - diagnóstico de doença cardíaca (diagnóstico angiográfico)\n",
        "  * 0: não há doença cardíaca ( < 50% de estreitamento do diâmetro)\n",
        "  * 1,2,3,4: há doença cardíaca ( > 50% de estreitamento do diâmetro)"
      ]
    },
    {
      "cell_type": "markdown",
      "metadata": {
        "id": "qsrth1Z1FA7p",
        "colab_type": "text"
      },
      "source": [
        "### Importar os Dados\n",
        "\n",
        "Em uma etapa inicial, importaremos os dois *datasets* mencionados no início do *notebook*:\n",
        "\n",
        "* Um contendo os dados relacionados às doenças cardiovasculares (303 pessoas e 14 atributos); e\n",
        "* Um contendo os dados da mortalidade no Brasil por doenças cardiovasculares."
      ]
    },
    {
      "cell_type": "code",
      "metadata": {
        "id": "3BcfWzCHED5C",
        "colab_type": "code",
        "colab": {}
      },
      "source": [
        "# importar as bibliotecas necessárias\n",
        "import pandas as pd\n",
        "import matplotlib.pyplot as plt\n",
        "\n",
        "# url dos datasets\n",
        "dataset_uci = \"https://raw.githubusercontent.com/carlosfab/curso_data_science_na_pratica/master/modulo_03/heart-disease-uci.csv\"\n",
        "dataset_brasil = \"https://raw.githubusercontent.com/carlosfab/curso_data_science_na_pratica/master/modulo_03/mortes_doencas_cardiovasculares.csv\"\n",
        "\n",
        "# importar dataset da UCI\n",
        "df = pd.read_csv(dataset_uci)\n",
        "\n",
        "# importar dataset dos indíces do Brasil e transformando a coluna ano em indice através do comando \"parse_dates=True, index_col=\"ano\"\n",
        "df_brasil = pd.read_csv(dataset_brasil,\n",
        "                        parse_dates=True, index_col=\"ano\")"
      ],
      "execution_count": 0,
      "outputs": []
    },
    {
      "cell_type": "markdown",
      "metadata": {
        "id": "AQ38_YyEFUsG",
        "colab_type": "text"
      },
      "source": [
        "Olhando acima as informações sobre os atributos, percebemos que nossa variável alvo (`num`) possui cinco valores possíveis: \\[0, 1, 2, 3, 4\\].\n",
        "\n",
        "No entanto, seguindo a maioria das pesquisas que utilizaram esse *dataset*, iremos considerar apenas duas situações possíveis:\n",
        "\n",
        "* **0** - não há doença cardíaca\n",
        "* **1** - há doença cardíaca\n",
        "\n",
        "Então, iremos igualar a 1 os valores compreendidos entre 1-4."
      ]
    },
    {
      "cell_type": "code",
      "metadata": {
        "id": "nIvSd4yLpofD",
        "colab_type": "code",
        "outputId": "588101ca-06ea-44e0-c47b-92a9b1f13193",
        "colab": {
          "base_uri": "https://localhost:8080/",
          "height": 127
        }
      },
      "source": [
        "# Váriavel \"num\" antes do ajuste de igualar os valores\n",
        "df.num.value_counts()"
      ],
      "execution_count": 2,
      "outputs": [
        {
          "output_type": "execute_result",
          "data": {
            "text/plain": [
              "0    164\n",
              "1     55\n",
              "2     36\n",
              "3     35\n",
              "4     13\n",
              "Name: num, dtype: int64"
            ]
          },
          "metadata": {
            "tags": []
          },
          "execution_count": 2
        }
      ]
    },
    {
      "cell_type": "code",
      "metadata": {
        "id": "SdJEIavQFsN3",
        "colab_type": "code",
        "colab": {}
      },
      "source": [
        "# Converter valores >1 em 1 - a expressão != diz que todo numero que NÃO for 0 será 1\n",
        "\n",
        "df.loc[df.num != 0, \"num\"] = 1"
      ],
      "execution_count": 0,
      "outputs": []
    },
    {
      "cell_type": "code",
      "metadata": {
        "id": "vxGibi7hFo3d",
        "colab_type": "code",
        "outputId": "d8bb4be6-9b0e-425d-ea58-910228c351d5",
        "colab": {
          "base_uri": "https://localhost:8080/",
          "height": 72
        }
      },
      "source": [
        "# Variável \"num\" depois dos ajustes\n",
        "\n",
        "df.num.value_counts()"
      ],
      "execution_count": 4,
      "outputs": [
        {
          "output_type": "execute_result",
          "data": {
            "text/plain": [
              "0    164\n",
              "1    139\n",
              "Name: num, dtype: int64"
            ]
          },
          "metadata": {
            "tags": []
          },
          "execution_count": 4
        }
      ]
    },
    {
      "cell_type": "markdown",
      "metadata": {
        "id": "q5Alu3RV1DG_",
        "colab_type": "text"
      },
      "source": [
        "# Visualizando o Tamanho do DataSet\n",
        "\n",
        "* Etapa inicial do projeto, onde verificamos o tamanho dos dados que estarão sendo analisados, inicialmente podemos observar que temos <b>303 variáveis (Linhas) e 14 atributos (Colunas).</b> "
      ]
    },
    {
      "cell_type": "code",
      "metadata": {
        "id": "zB-xPpAP0s4H",
        "colab_type": "code",
        "outputId": "1356e368-e7ad-4dda-884d-de4074784b28",
        "colab": {
          "base_uri": "https://localhost:8080/",
          "height": 54
        }
      },
      "source": [
        "# Utilização do comando \"shape\" para detalhar o tamanho do dataset\n",
        "print(\"Variáveis: {} \".format(df.shape[0]))\n",
        "print(\"Atributos: {} \".format(df.shape[1]))"
      ],
      "execution_count": 5,
      "outputs": [
        {
          "output_type": "stream",
          "text": [
            "Variáveis: 303 \n",
            "Atributos: 14 \n"
          ],
          "name": "stdout"
        }
      ]
    },
    {
      "cell_type": "markdown",
      "metadata": {
        "id": "H8Qjq1v52FCj",
        "colab_type": "text"
      },
      "source": [
        "# Detalhamento Estatístico\n",
        "\n",
        "* A estastística é uma parte fundamental para a ciencia de dados, sendo que nos proporciona grande suporte na abstração dos dados, no processo abaixo será exibido as pricipais funções para uma melhor apresentação dos resultados, como por exemplo a média, mediana, moda, variância, desvio padrão, etc.."
      ]
    },
    {
      "cell_type": "code",
      "metadata": {
        "id": "OAEOTUtI3-d_",
        "colab_type": "code",
        "outputId": "e72ad259-c4e5-40ac-d605-03c8920b26da",
        "colab": {
          "base_uri": "https://localhost:8080/",
          "height": 320
        }
      },
      "source": [
        "# Detalhamento dos dados estatísticos do dataset com a aplicação do comando \"describe\"\n",
        "df.describe()"
      ],
      "execution_count": 6,
      "outputs": [
        {
          "output_type": "execute_result",
          "data": {
            "text/html": [
              "<div>\n",
              "<style scoped>\n",
              "    .dataframe tbody tr th:only-of-type {\n",
              "        vertical-align: middle;\n",
              "    }\n",
              "\n",
              "    .dataframe tbody tr th {\n",
              "        vertical-align: top;\n",
              "    }\n",
              "\n",
              "    .dataframe thead th {\n",
              "        text-align: right;\n",
              "    }\n",
              "</style>\n",
              "<table border=\"1\" class=\"dataframe\">\n",
              "  <thead>\n",
              "    <tr style=\"text-align: right;\">\n",
              "      <th></th>\n",
              "      <th>age</th>\n",
              "      <th>sex</th>\n",
              "      <th>cp</th>\n",
              "      <th>trestbps</th>\n",
              "      <th>chol</th>\n",
              "      <th>fbs</th>\n",
              "      <th>restecg</th>\n",
              "      <th>thalach</th>\n",
              "      <th>exang</th>\n",
              "      <th>oldpeak</th>\n",
              "      <th>slope</th>\n",
              "      <th>ca</th>\n",
              "      <th>thal</th>\n",
              "      <th>num</th>\n",
              "    </tr>\n",
              "  </thead>\n",
              "  <tbody>\n",
              "    <tr>\n",
              "      <th>count</th>\n",
              "      <td>303.000000</td>\n",
              "      <td>303.000000</td>\n",
              "      <td>303.000000</td>\n",
              "      <td>303.000000</td>\n",
              "      <td>303.000000</td>\n",
              "      <td>303.000000</td>\n",
              "      <td>303.000000</td>\n",
              "      <td>303.000000</td>\n",
              "      <td>303.000000</td>\n",
              "      <td>303.000000</td>\n",
              "      <td>303.000000</td>\n",
              "      <td>303.000000</td>\n",
              "      <td>303.000000</td>\n",
              "      <td>303.000000</td>\n",
              "    </tr>\n",
              "    <tr>\n",
              "      <th>mean</th>\n",
              "      <td>54.438944</td>\n",
              "      <td>0.679868</td>\n",
              "      <td>3.158416</td>\n",
              "      <td>131.689769</td>\n",
              "      <td>246.693069</td>\n",
              "      <td>0.148515</td>\n",
              "      <td>0.990099</td>\n",
              "      <td>149.607261</td>\n",
              "      <td>0.326733</td>\n",
              "      <td>1.039604</td>\n",
              "      <td>1.600660</td>\n",
              "      <td>0.663366</td>\n",
              "      <td>4.722772</td>\n",
              "      <td>0.458746</td>\n",
              "    </tr>\n",
              "    <tr>\n",
              "      <th>std</th>\n",
              "      <td>9.038662</td>\n",
              "      <td>0.467299</td>\n",
              "      <td>0.960126</td>\n",
              "      <td>17.599748</td>\n",
              "      <td>51.776918</td>\n",
              "      <td>0.356198</td>\n",
              "      <td>0.994971</td>\n",
              "      <td>22.875003</td>\n",
              "      <td>0.469794</td>\n",
              "      <td>1.161075</td>\n",
              "      <td>0.616226</td>\n",
              "      <td>0.934375</td>\n",
              "      <td>1.938383</td>\n",
              "      <td>0.499120</td>\n",
              "    </tr>\n",
              "    <tr>\n",
              "      <th>min</th>\n",
              "      <td>29.000000</td>\n",
              "      <td>0.000000</td>\n",
              "      <td>1.000000</td>\n",
              "      <td>94.000000</td>\n",
              "      <td>126.000000</td>\n",
              "      <td>0.000000</td>\n",
              "      <td>0.000000</td>\n",
              "      <td>71.000000</td>\n",
              "      <td>0.000000</td>\n",
              "      <td>0.000000</td>\n",
              "      <td>1.000000</td>\n",
              "      <td>0.000000</td>\n",
              "      <td>3.000000</td>\n",
              "      <td>0.000000</td>\n",
              "    </tr>\n",
              "    <tr>\n",
              "      <th>25%</th>\n",
              "      <td>48.000000</td>\n",
              "      <td>0.000000</td>\n",
              "      <td>3.000000</td>\n",
              "      <td>120.000000</td>\n",
              "      <td>211.000000</td>\n",
              "      <td>0.000000</td>\n",
              "      <td>0.000000</td>\n",
              "      <td>133.500000</td>\n",
              "      <td>0.000000</td>\n",
              "      <td>0.000000</td>\n",
              "      <td>1.000000</td>\n",
              "      <td>0.000000</td>\n",
              "      <td>3.000000</td>\n",
              "      <td>0.000000</td>\n",
              "    </tr>\n",
              "    <tr>\n",
              "      <th>50%</th>\n",
              "      <td>56.000000</td>\n",
              "      <td>1.000000</td>\n",
              "      <td>3.000000</td>\n",
              "      <td>130.000000</td>\n",
              "      <td>241.000000</td>\n",
              "      <td>0.000000</td>\n",
              "      <td>1.000000</td>\n",
              "      <td>153.000000</td>\n",
              "      <td>0.000000</td>\n",
              "      <td>0.800000</td>\n",
              "      <td>2.000000</td>\n",
              "      <td>0.000000</td>\n",
              "      <td>3.000000</td>\n",
              "      <td>0.000000</td>\n",
              "    </tr>\n",
              "    <tr>\n",
              "      <th>75%</th>\n",
              "      <td>61.000000</td>\n",
              "      <td>1.000000</td>\n",
              "      <td>4.000000</td>\n",
              "      <td>140.000000</td>\n",
              "      <td>275.000000</td>\n",
              "      <td>0.000000</td>\n",
              "      <td>2.000000</td>\n",
              "      <td>166.000000</td>\n",
              "      <td>1.000000</td>\n",
              "      <td>1.600000</td>\n",
              "      <td>2.000000</td>\n",
              "      <td>1.000000</td>\n",
              "      <td>7.000000</td>\n",
              "      <td>1.000000</td>\n",
              "    </tr>\n",
              "    <tr>\n",
              "      <th>max</th>\n",
              "      <td>77.000000</td>\n",
              "      <td>1.000000</td>\n",
              "      <td>4.000000</td>\n",
              "      <td>200.000000</td>\n",
              "      <td>564.000000</td>\n",
              "      <td>1.000000</td>\n",
              "      <td>2.000000</td>\n",
              "      <td>202.000000</td>\n",
              "      <td>1.000000</td>\n",
              "      <td>6.200000</td>\n",
              "      <td>3.000000</td>\n",
              "      <td>3.000000</td>\n",
              "      <td>7.000000</td>\n",
              "      <td>1.000000</td>\n",
              "    </tr>\n",
              "  </tbody>\n",
              "</table>\n",
              "</div>"
            ],
            "text/plain": [
              "              age         sex          cp  ...          ca        thal         num\n",
              "count  303.000000  303.000000  303.000000  ...  303.000000  303.000000  303.000000\n",
              "mean    54.438944    0.679868    3.158416  ...    0.663366    4.722772    0.458746\n",
              "std      9.038662    0.467299    0.960126  ...    0.934375    1.938383    0.499120\n",
              "min     29.000000    0.000000    1.000000  ...    0.000000    3.000000    0.000000\n",
              "25%     48.000000    0.000000    3.000000  ...    0.000000    3.000000    0.000000\n",
              "50%     56.000000    1.000000    3.000000  ...    0.000000    3.000000    0.000000\n",
              "75%     61.000000    1.000000    4.000000  ...    1.000000    7.000000    1.000000\n",
              "max     77.000000    1.000000    4.000000  ...    3.000000    7.000000    1.000000\n",
              "\n",
              "[8 rows x 14 columns]"
            ]
          },
          "metadata": {
            "tags": []
          },
          "execution_count": 6
        }
      ]
    },
    {
      "cell_type": "markdown",
      "metadata": {
        "id": "5z8O09PX4uus",
        "colab_type": "text"
      },
      "source": [
        "# Visualização dos tipos de variáveis e dados\n",
        "\n",
        "* Os dados manipulados por um algoritmo podem possuir natureza distinta, isto é, podem\n",
        "ser números, letras, frases, etc. Dependendo da natureza de um dado, algumas operações\n",
        "podem ou não fazer sentido quando aplicadas a eles. Por exemplo, não faz sentido falar em\n",
        "somar duas letras. Para poder distinguir dados de naturezas distintas e saber quais operações\n",
        "podem ser realizadas com eles, os algoritmos utilizam o conceito de tipo de dados.\n",
        "Um algoritmo manipula dados, que podem ser dados variáveis ou constantes. Dados variáveis são representados por variáveis, enquanto dados constantes são representados por constantes.\n",
        "\n",
        "* Uma variável pode ser imaginada como um “caixa” para armazenar valores de dados. Esta\n",
        "caixa só pode armazenar um único valor por vez. No entanto, o valor armazenado na caixa\n",
        "pode mudar inúmeras vezes durante a execução do algoritmo. Em um ambiente computacional de verdade, a caixa correspondente a uma variável é uma posição da memória do computador.\n",
        "Uma variável possui nome, tipo e conteúdo. O nome de uma variável deve ser único,\n",
        "isto é, identificar, de forma única, a variável no algoritmo. O tipo de uma variável define os\n",
        "valores que podem ser armazenados na variável. O conteúdo de uma variável é o valor que\n",
        "ela armazena. É importante lembrar que uma variável só pode armazenar um valor de cada\n",
        "vez. No entanto, ela pode assumir vários valores distintos do mesmo tipo durante a execução\n",
        "do algoritmo."
      ]
    },
    {
      "cell_type": "code",
      "metadata": {
        "id": "U-cesWQn6Kin",
        "colab_type": "code",
        "outputId": "16e2196f-c7a6-4b33-e718-295a9fc88ff6",
        "colab": {
          "base_uri": "https://localhost:8080/",
          "height": 293
        }
      },
      "source": [
        "# Verificando os tipos de dados e variáveis com a aplicação do comando \"dtypes\"\n",
        "\n",
        "df.dtypes"
      ],
      "execution_count": 7,
      "outputs": [
        {
          "output_type": "execute_result",
          "data": {
            "text/plain": [
              "age         float64\n",
              "sex         float64\n",
              "cp          float64\n",
              "trestbps    float64\n",
              "chol        float64\n",
              "fbs         float64\n",
              "restecg     float64\n",
              "thalach     float64\n",
              "exang       float64\n",
              "oldpeak     float64\n",
              "slope       float64\n",
              "ca          float64\n",
              "thal        float64\n",
              "num           int64\n",
              "dtype: object"
            ]
          },
          "metadata": {
            "tags": []
          },
          "execution_count": 7
        }
      ]
    },
    {
      "cell_type": "markdown",
      "metadata": {
        "id": "tbrc5w1m7nwq",
        "colab_type": "text"
      },
      "source": [
        "# Exibição do Dataset\n",
        "\n",
        "* Etapa para visualização dos dados em uma tabela com fácil compreensão, sendo que ela é gerada no mesmo formato de uma planilha Excel, facilitando assim seu entendimento, abaixo podemos observar as primeiras 5 linhas com a utilização do comando específico, ou a quantidade que se faça necesário em seu estudo com a utilização de outro comando.\n"
      ]
    },
    {
      "cell_type": "code",
      "metadata": {
        "id": "nUIp4phI8nBb",
        "colab_type": "code",
        "outputId": "5eb48387-c12c-44df-9985-c54bca10809d",
        "colab": {
          "base_uri": "https://localhost:8080/",
          "height": 206
        }
      },
      "source": [
        "# Exibiçã das 5 primeiras linhas do dataset através do comando \"head()\"\n",
        "df.head()"
      ],
      "execution_count": 8,
      "outputs": [
        {
          "output_type": "execute_result",
          "data": {
            "text/html": [
              "<div>\n",
              "<style scoped>\n",
              "    .dataframe tbody tr th:only-of-type {\n",
              "        vertical-align: middle;\n",
              "    }\n",
              "\n",
              "    .dataframe tbody tr th {\n",
              "        vertical-align: top;\n",
              "    }\n",
              "\n",
              "    .dataframe thead th {\n",
              "        text-align: right;\n",
              "    }\n",
              "</style>\n",
              "<table border=\"1\" class=\"dataframe\">\n",
              "  <thead>\n",
              "    <tr style=\"text-align: right;\">\n",
              "      <th></th>\n",
              "      <th>age</th>\n",
              "      <th>sex</th>\n",
              "      <th>cp</th>\n",
              "      <th>trestbps</th>\n",
              "      <th>chol</th>\n",
              "      <th>fbs</th>\n",
              "      <th>restecg</th>\n",
              "      <th>thalach</th>\n",
              "      <th>exang</th>\n",
              "      <th>oldpeak</th>\n",
              "      <th>slope</th>\n",
              "      <th>ca</th>\n",
              "      <th>thal</th>\n",
              "      <th>num</th>\n",
              "    </tr>\n",
              "  </thead>\n",
              "  <tbody>\n",
              "    <tr>\n",
              "      <th>0</th>\n",
              "      <td>63.0</td>\n",
              "      <td>1.0</td>\n",
              "      <td>1.0</td>\n",
              "      <td>145.0</td>\n",
              "      <td>233.0</td>\n",
              "      <td>1.0</td>\n",
              "      <td>2.0</td>\n",
              "      <td>150.0</td>\n",
              "      <td>0.0</td>\n",
              "      <td>2.3</td>\n",
              "      <td>3.0</td>\n",
              "      <td>0.0</td>\n",
              "      <td>6.0</td>\n",
              "      <td>0</td>\n",
              "    </tr>\n",
              "    <tr>\n",
              "      <th>1</th>\n",
              "      <td>67.0</td>\n",
              "      <td>1.0</td>\n",
              "      <td>4.0</td>\n",
              "      <td>160.0</td>\n",
              "      <td>286.0</td>\n",
              "      <td>0.0</td>\n",
              "      <td>2.0</td>\n",
              "      <td>108.0</td>\n",
              "      <td>1.0</td>\n",
              "      <td>1.5</td>\n",
              "      <td>2.0</td>\n",
              "      <td>3.0</td>\n",
              "      <td>3.0</td>\n",
              "      <td>1</td>\n",
              "    </tr>\n",
              "    <tr>\n",
              "      <th>2</th>\n",
              "      <td>67.0</td>\n",
              "      <td>1.0</td>\n",
              "      <td>4.0</td>\n",
              "      <td>120.0</td>\n",
              "      <td>229.0</td>\n",
              "      <td>0.0</td>\n",
              "      <td>2.0</td>\n",
              "      <td>129.0</td>\n",
              "      <td>1.0</td>\n",
              "      <td>2.6</td>\n",
              "      <td>2.0</td>\n",
              "      <td>2.0</td>\n",
              "      <td>7.0</td>\n",
              "      <td>1</td>\n",
              "    </tr>\n",
              "    <tr>\n",
              "      <th>3</th>\n",
              "      <td>37.0</td>\n",
              "      <td>1.0</td>\n",
              "      <td>3.0</td>\n",
              "      <td>130.0</td>\n",
              "      <td>250.0</td>\n",
              "      <td>0.0</td>\n",
              "      <td>0.0</td>\n",
              "      <td>187.0</td>\n",
              "      <td>0.0</td>\n",
              "      <td>3.5</td>\n",
              "      <td>3.0</td>\n",
              "      <td>0.0</td>\n",
              "      <td>3.0</td>\n",
              "      <td>0</td>\n",
              "    </tr>\n",
              "    <tr>\n",
              "      <th>4</th>\n",
              "      <td>41.0</td>\n",
              "      <td>0.0</td>\n",
              "      <td>2.0</td>\n",
              "      <td>130.0</td>\n",
              "      <td>204.0</td>\n",
              "      <td>0.0</td>\n",
              "      <td>2.0</td>\n",
              "      <td>172.0</td>\n",
              "      <td>0.0</td>\n",
              "      <td>1.4</td>\n",
              "      <td>1.0</td>\n",
              "      <td>0.0</td>\n",
              "      <td>3.0</td>\n",
              "      <td>0</td>\n",
              "    </tr>\n",
              "  </tbody>\n",
              "</table>\n",
              "</div>"
            ],
            "text/plain": [
              "    age  sex   cp  trestbps   chol  fbs  ...  exang  oldpeak  slope   ca  thal  num\n",
              "0  63.0  1.0  1.0     145.0  233.0  1.0  ...    0.0      2.3    3.0  0.0   6.0    0\n",
              "1  67.0  1.0  4.0     160.0  286.0  0.0  ...    1.0      1.5    2.0  3.0   3.0    1\n",
              "2  67.0  1.0  4.0     120.0  229.0  0.0  ...    1.0      2.6    2.0  2.0   7.0    1\n",
              "3  37.0  1.0  3.0     130.0  250.0  0.0  ...    0.0      3.5    3.0  0.0   3.0    0\n",
              "4  41.0  0.0  2.0     130.0  204.0  0.0  ...    0.0      1.4    1.0  0.0   3.0    0\n",
              "\n",
              "[5 rows x 14 columns]"
            ]
          },
          "metadata": {
            "tags": []
          },
          "execution_count": 8
        }
      ]
    },
    {
      "cell_type": "markdown",
      "metadata": {
        "id": "VRTMQLWb9Sey",
        "colab_type": "text"
      },
      "source": [
        "# Casos de Doenças Cardiacas\n",
        "\n",
        "* Estaremos agora verificando quantos casos de doenças cardiacas foram apresentados no dataset, verificaremos também casos que não foram apresentados qualquer tipo de doeça cardiovascular. Pois estamos com uma grande população para efetuarmos esta analise, sendo ela composta por 303 variáveis.\n",
        "\n",
        "* Foi apresentado que há <b>164</b> individuos que não apresentam um quadro clinico de doença cardiovascular e <b>139</b> que já apresenta algum tipo de doença do coração. Trata-se de um número preocupante, pois estamos com <b>45%</b> dos individuos avaliados com algum tipo da doença, isto reflete que a sociedade esta cada vez mais sofrendo deste mal gerado por diversos fatores."
      ]
    },
    {
      "cell_type": "code",
      "metadata": {
        "id": "sKDdX-Gv-vj8",
        "colab_type": "code",
        "outputId": "349c7d6f-eb0c-42b4-efa0-0726e4b8e07a",
        "colab": {
          "base_uri": "https://localhost:8080/",
          "height": 109
        }
      },
      "source": [
        "# Analisando a quantidade de casos com doenças cardiacas e sem doença cardiaca com o coomando \"value_counts()\"\n",
        "print(\"0 apresenta quadro clinico normal - 1 apresenta doença cardiovascular\\n\")\n",
        "df.num.value_counts()\n"
      ],
      "execution_count": 9,
      "outputs": [
        {
          "output_type": "stream",
          "text": [
            "0 apresenta quadro clinico normal - 1 apresenta doença cardiovascular\n",
            "\n"
          ],
          "name": "stdout"
        },
        {
          "output_type": "execute_result",
          "data": {
            "text/plain": [
              "0    164\n",
              "1    139\n",
              "Name: num, dtype: int64"
            ]
          },
          "metadata": {
            "tags": []
          },
          "execution_count": 9
        }
      ]
    },
    {
      "cell_type": "code",
      "metadata": {
        "id": "KRCqPf82CyDy",
        "colab_type": "code",
        "outputId": "573ea136-f215-4524-8f23-ba0b598eeee4",
        "colab": {
          "base_uri": "https://localhost:8080/",
          "height": 35
        }
      },
      "source": [
        "# Verificando o percentual de casos apresentado com doença em relação a população do estudo.\n",
        "\n",
        "total = 303\n",
        "doente = 139\n",
        "\n",
        "porcentagem = doente/total\n",
        "print(porcentagem)\n"
      ],
      "execution_count": 10,
      "outputs": [
        {
          "output_type": "stream",
          "text": [
            "0.45874587458745875\n"
          ],
          "name": "stdout"
        }
      ]
    },
    {
      "cell_type": "markdown",
      "metadata": {
        "id": "73tRb9TUFK_D",
        "colab_type": "text"
      },
      "source": [
        "* 45% da população do estudo apresenta problemas cardiovasculares de algum tipo específico."
      ]
    },
    {
      "cell_type": "markdown",
      "metadata": {
        "id": "8Chd3whhE0kh",
        "colab_type": "text"
      },
      "source": [
        "# Verificação de valores ausentes no dataset\n",
        "\n",
        "* Sem dúvidas, um dos processos que podem levar mais tempo para um Cientista de Dados, é realizar a limpeza e a preparação das informações.\n",
        "Esse processo pode ser custoso e demorado. É necessário identificar os dados que estão faltando e descobrir se existem possíveis valores que podem alterar o resultado. Sem o tratamento adequado, não é possível realizar uma análise concreta ou apresentar uma análise que pode compremeter a decisão em alguma ação, para o caso de nosso estudo, podemos comprometer uma vida, sendo que estamos tratando de informações médicas, por isto é fundamental um trabalho minucioso no dados apresentados, evitando assim riscos desnecessários. \n",
        "* No caso não foram apresentados campos ausentes, geralmente estes campos são identificados através da sigla NaN ( Not a Number ) geralmente usado para apresentar um valor indefinido ou irrepresentável."
      ]
    },
    {
      "cell_type": "code",
      "metadata": {
        "id": "00B7JrtnFrWG",
        "colab_type": "code",
        "outputId": "b8cc93a1-72f9-427f-81fe-9d734f12dcc8",
        "colab": {
          "base_uri": "https://localhost:8080/",
          "height": 293
        }
      },
      "source": [
        "# Verificação da soma de campos ausentes no dataset através do comando \"isnull().sum()\"\n",
        "\n",
        "df.isnull().sum()"
      ],
      "execution_count": 11,
      "outputs": [
        {
          "output_type": "execute_result",
          "data": {
            "text/plain": [
              "age         0\n",
              "sex         0\n",
              "cp          0\n",
              "trestbps    0\n",
              "chol        0\n",
              "fbs         0\n",
              "restecg     0\n",
              "thalach     0\n",
              "exang       0\n",
              "oldpeak     0\n",
              "slope       0\n",
              "ca          0\n",
              "thal        0\n",
              "num         0\n",
              "dtype: int64"
            ]
          },
          "metadata": {
            "tags": []
          },
          "execution_count": 11
        }
      ]
    },
    {
      "cell_type": "markdown",
      "metadata": {
        "id": "q-YCnKWZOagB",
        "colab_type": "text"
      },
      "source": [
        "# Brasil\n",
        "\n",
        "* Os números apresentados no <b>gráfico abaixo</b> é referente a população <b>brasileira</b>, observa-se que a cada ano o número de mortes por doenças cardiovasculares crescem de forma preocupante e ainda continua em crescimento, reflexo de uma população doente por conta do stress a qual somos obrigados a enfrentar, outros fatores que auxiliam para este mal são, má alimentação, excesso consumo de alcool, uso de substãncias agressoras ao organismo como o tabaco e seus derivados e diversos outros fatores.\n",
        "\n",
        "* No Brasil, <b>a média anual já chegou a 380 mil pessoas</b>, o que corresponde a uma vida perdida a cada 40 segundos. O diagnóstico precoce possibilita maiores chances de tratamento e deve ser incentivado. Exames de rotina são essenciais para detectar alterações significativas ou silenciosas na saúde do paciente.\n",
        "\n",
        "* O diagnóstico precoce possibilita maiores chances de tratamento e deve ser incentivado. Exames de rotina são essenciais para detectar alterações significativas ou silenciosas na saúde do paciente.\n",
        "\n",
        "* É importante destacar que problemas cardíacos não afetam apenas idosos. No Brasil, <b>11% das mortes ocorrem em pessoas na faixa etária dos 30 aos 46 anos</b>. Além de cigarro e álcool, costumam ser fatores agravantes o estresse elevado, consumo de muitos alimentos gordurosos e carboidratos, excesso de peso, sedentarismo e colesterol alterado."
      ]
    },
    {
      "cell_type": "code",
      "metadata": {
        "id": "Mtekw0U9HMBW",
        "colab_type": "code",
        "outputId": "0a3e9e62-33e5-4124-fb75-ba5041fd0b22",
        "colab": {
          "base_uri": "https://localhost:8080/",
          "height": 238
        }
      },
      "source": [
        "# Exibição dos dados do dataset com dados brasileiros, com a utilização do comando \"head()\"\n",
        "df_brasil.head()"
      ],
      "execution_count": 12,
      "outputs": [
        {
          "output_type": "execute_result",
          "data": {
            "text/html": [
              "<div>\n",
              "<style scoped>\n",
              "    .dataframe tbody tr th:only-of-type {\n",
              "        vertical-align: middle;\n",
              "    }\n",
              "\n",
              "    .dataframe tbody tr th {\n",
              "        vertical-align: top;\n",
              "    }\n",
              "\n",
              "    .dataframe thead th {\n",
              "        text-align: right;\n",
              "    }\n",
              "</style>\n",
              "<table border=\"1\" class=\"dataframe\">\n",
              "  <thead>\n",
              "    <tr style=\"text-align: right;\">\n",
              "      <th></th>\n",
              "      <th>mortes_doencas_cardio</th>\n",
              "    </tr>\n",
              "    <tr>\n",
              "      <th>ano</th>\n",
              "      <th></th>\n",
              "    </tr>\n",
              "  </thead>\n",
              "  <tbody>\n",
              "    <tr>\n",
              "      <th>2017-01-01</th>\n",
              "      <td>383.961</td>\n",
              "    </tr>\n",
              "    <tr>\n",
              "      <th>2016-01-01</th>\n",
              "      <td>362.091</td>\n",
              "    </tr>\n",
              "    <tr>\n",
              "      <th>2015-01-01</th>\n",
              "      <td>349.584</td>\n",
              "    </tr>\n",
              "    <tr>\n",
              "      <th>2014-01-01</th>\n",
              "      <td>340.284</td>\n",
              "    </tr>\n",
              "    <tr>\n",
              "      <th>2013-01-01</th>\n",
              "      <td>339.672</td>\n",
              "    </tr>\n",
              "  </tbody>\n",
              "</table>\n",
              "</div>"
            ],
            "text/plain": [
              "            mortes_doencas_cardio\n",
              "ano                              \n",
              "2017-01-01                383.961\n",
              "2016-01-01                362.091\n",
              "2015-01-01                349.584\n",
              "2014-01-01                340.284\n",
              "2013-01-01                339.672"
            ]
          },
          "metadata": {
            "tags": []
          },
          "execution_count": 12
        }
      ]
    },
    {
      "cell_type": "markdown",
      "metadata": {
        "id": "ac3GkmIIWyVY",
        "colab_type": "text"
      },
      "source": [
        "Fonte: Hospital Porto Dias\n",
        "\n",
        "<center><img src=\"https://bit.ly/3enjnOc\"></center>"
      ]
    },
    {
      "cell_type": "code",
      "metadata": {
        "id": "Y09T8oqXHTTs",
        "colab_type": "code",
        "outputId": "f5afe119-593b-4a94-d519-d32dc47c52fc",
        "colab": {
          "base_uri": "https://localhost:8080/",
          "height": 422
        }
      },
      "source": [
        "# Utilizando a biblioteca Seaborn para melhorar a visulização do gráfico.\n",
        "import seaborn as sns\n",
        "sns.set();\n",
        "fig, ax = plt.subplots()\n",
        "\n",
        "df_brasil[\"mortes_doencas_cardio\"].plot(kind=\"line\",figsize=(12,5), ax=ax)\n",
        "ax.set_title(\"Indice de Mortes no Brasil x Doenças Cardiovasculares\")\n",
        "ax.set_ylabel(\"Quantidade de Casos\")\n",
        "\n",
        "plt.tight_layout();"
      ],
      "execution_count": 13,
      "outputs": [
        {
          "output_type": "stream",
          "text": [
            "/usr/local/lib/python3.6/dist-packages/statsmodels/tools/_testing.py:19: FutureWarning: pandas.util.testing is deprecated. Use the functions in the public API at pandas.testing instead.\n",
            "  import pandas.util.testing as tm\n"
          ],
          "name": "stderr"
        },
        {
          "output_type": "display_data",
          "data": {
            "image/png": "[encoded data removed]",
            "text/plain": [
              "<Figure size 864x360 with 1 Axes>"
            ]
          },
          "metadata": {
            "tags": []
          }
        }
      ]
    },
    {
      "cell_type": "markdown",
      "metadata": {
        "id": "C9LMCXhcRwpk",
        "colab_type": "text"
      },
      "source": [
        "# Números por Gênero"
      ]
    },
    {
      "cell_type": "markdown",
      "metadata": {
        "id": "O3ex3PyvVnB6",
        "colab_type": "text"
      },
      "source": [
        "* Apesar de pesquisas já terem mostrado que, se sofrer um ataque cardíaco, uma mulher tem mais chances de morrer do que um homem, o risco de doenças cardíacas é maior entre eles. \n",
        "\n",
        "* Os ataques cardíacos no sexo masculino podem ocorrer mais cedo e, mesmo depois da menopausa, quando a taxa das mulheres aumenta, ela nunca é tão elevada quanto a dos homens.\n",
        "\n",
        "* Aliás, os homens costumam morrer mais cedo do que as mulheres e muitos médicos dizem que essa diferença pode ser explicada, entre outros motivos, pelo descaso que o sexo masculino tem com a saúde. Enquanto as mulheres costumam visitar o médico com uma frequência maior, os homens fazem menos exames de rotina e só consultam um médico em caso de emergência.\n",
        "\n",
        "* Na visualização abaixo podemos observar estes numeros que foram apresentados pelo nosso dataset de estudo, onde é visível a diferença entre a quantidade de pessoas do sexo feminimo e o sexo masculino.\n",
        "\n",
        "* Sendo que são <b>286 Homen</b> e <b>97 Mulheres</b>"
      ]
    },
    {
      "cell_type": "code",
      "metadata": {
        "id": "bNA0DrTZS3YP",
        "colab_type": "code",
        "colab": {
          "base_uri": "https://localhost:8080/",
          "height": 206
        },
        "outputId": "9cf5ecd8-c085-4136-a1d0-d11caa444046"
      },
      "source": [
        "df.head()"
      ],
      "execution_count": 14,
      "outputs": [
        {
          "output_type": "execute_result",
          "data": {
            "text/html": [
              "<div>\n",
              "<style scoped>\n",
              "    .dataframe tbody tr th:only-of-type {\n",
              "        vertical-align: middle;\n",
              "    }\n",
              "\n",
              "    .dataframe tbody tr th {\n",
              "        vertical-align: top;\n",
              "    }\n",
              "\n",
              "    .dataframe thead th {\n",
              "        text-align: right;\n",
              "    }\n",
              "</style>\n",
              "<table border=\"1\" class=\"dataframe\">\n",
              "  <thead>\n",
              "    <tr style=\"text-align: right;\">\n",
              "      <th></th>\n",
              "      <th>age</th>\n",
              "      <th>sex</th>\n",
              "      <th>cp</th>\n",
              "      <th>trestbps</th>\n",
              "      <th>chol</th>\n",
              "      <th>fbs</th>\n",
              "      <th>restecg</th>\n",
              "      <th>thalach</th>\n",
              "      <th>exang</th>\n",
              "      <th>oldpeak</th>\n",
              "      <th>slope</th>\n",
              "      <th>ca</th>\n",
              "      <th>thal</th>\n",
              "      <th>num</th>\n",
              "    </tr>\n",
              "  </thead>\n",
              "  <tbody>\n",
              "    <tr>\n",
              "      <th>0</th>\n",
              "      <td>63.0</td>\n",
              "      <td>1.0</td>\n",
              "      <td>1.0</td>\n",
              "      <td>145.0</td>\n",
              "      <td>233.0</td>\n",
              "      <td>1.0</td>\n",
              "      <td>2.0</td>\n",
              "      <td>150.0</td>\n",
              "      <td>0.0</td>\n",
              "      <td>2.3</td>\n",
              "      <td>3.0</td>\n",
              "      <td>0.0</td>\n",
              "      <td>6.0</td>\n",
              "      <td>0</td>\n",
              "    </tr>\n",
              "    <tr>\n",
              "      <th>1</th>\n",
              "      <td>67.0</td>\n",
              "      <td>1.0</td>\n",
              "      <td>4.0</td>\n",
              "      <td>160.0</td>\n",
              "      <td>286.0</td>\n",
              "      <td>0.0</td>\n",
              "      <td>2.0</td>\n",
              "      <td>108.0</td>\n",
              "      <td>1.0</td>\n",
              "      <td>1.5</td>\n",
              "      <td>2.0</td>\n",
              "      <td>3.0</td>\n",
              "      <td>3.0</td>\n",
              "      <td>1</td>\n",
              "    </tr>\n",
              "    <tr>\n",
              "      <th>2</th>\n",
              "      <td>67.0</td>\n",
              "      <td>1.0</td>\n",
              "      <td>4.0</td>\n",
              "      <td>120.0</td>\n",
              "      <td>229.0</td>\n",
              "      <td>0.0</td>\n",
              "      <td>2.0</td>\n",
              "      <td>129.0</td>\n",
              "      <td>1.0</td>\n",
              "      <td>2.6</td>\n",
              "      <td>2.0</td>\n",
              "      <td>2.0</td>\n",
              "      <td>7.0</td>\n",
              "      <td>1</td>\n",
              "    </tr>\n",
              "    <tr>\n",
              "      <th>3</th>\n",
              "      <td>37.0</td>\n",
              "      <td>1.0</td>\n",
              "      <td>3.0</td>\n",
              "      <td>130.0</td>\n",
              "      <td>250.0</td>\n",
              "      <td>0.0</td>\n",
              "      <td>0.0</td>\n",
              "      <td>187.0</td>\n",
              "      <td>0.0</td>\n",
              "      <td>3.5</td>\n",
              "      <td>3.0</td>\n",
              "      <td>0.0</td>\n",
              "      <td>3.0</td>\n",
              "      <td>0</td>\n",
              "    </tr>\n",
              "    <tr>\n",
              "      <th>4</th>\n",
              "      <td>41.0</td>\n",
              "      <td>0.0</td>\n",
              "      <td>2.0</td>\n",
              "      <td>130.0</td>\n",
              "      <td>204.0</td>\n",
              "      <td>0.0</td>\n",
              "      <td>2.0</td>\n",
              "      <td>172.0</td>\n",
              "      <td>0.0</td>\n",
              "      <td>1.4</td>\n",
              "      <td>1.0</td>\n",
              "      <td>0.0</td>\n",
              "      <td>3.0</td>\n",
              "      <td>0</td>\n",
              "    </tr>\n",
              "  </tbody>\n",
              "</table>\n",
              "</div>"
            ],
            "text/plain": [
              "    age  sex   cp  trestbps   chol  fbs  ...  exang  oldpeak  slope   ca  thal  num\n",
              "0  63.0  1.0  1.0     145.0  233.0  1.0  ...    0.0      2.3    3.0  0.0   6.0    0\n",
              "1  67.0  1.0  4.0     160.0  286.0  0.0  ...    1.0      1.5    2.0  3.0   3.0    1\n",
              "2  67.0  1.0  4.0     120.0  229.0  0.0  ...    1.0      2.6    2.0  2.0   7.0    1\n",
              "3  37.0  1.0  3.0     130.0  250.0  0.0  ...    0.0      3.5    3.0  0.0   3.0    0\n",
              "4  41.0  0.0  2.0     130.0  204.0  0.0  ...    0.0      1.4    1.0  0.0   3.0    0\n",
              "\n",
              "[5 rows x 14 columns]"
            ]
          },
          "metadata": {
            "tags": []
          },
          "execution_count": 14
        }
      ]
    },
    {
      "cell_type": "code",
      "metadata": {
        "id": "n1VGwuHQXb6G",
        "colab_type": "code",
        "outputId": "603e775b-01ab-4846-e82e-24beccb8d7f7",
        "colab": {
          "base_uri": "https://localhost:8080/",
          "height": 72
        }
      },
      "source": [
        "df.sex.value_counts()"
      ],
      "execution_count": 15,
      "outputs": [
        {
          "output_type": "execute_result",
          "data": {
            "text/plain": [
              "1.0    206\n",
              "0.0     97\n",
              "Name: sex, dtype: int64"
            ]
          },
          "metadata": {
            "tags": []
          },
          "execution_count": 15
        }
      ]
    },
    {
      "cell_type": "code",
      "metadata": {
        "id": "LOOv2xkTR99j",
        "colab_type": "code",
        "outputId": "25e75a6e-c46d-498d-bd64-467d48329fab",
        "colab": {
          "base_uri": "https://localhost:8080/",
          "height": 365
        }
      },
      "source": [
        "fig , ax = plt.subplots()\n",
        "df.sex.value_counts().plot(kind=\"bar\",figsize=(12,5), ax=ax)\n",
        "ax.set_title(\"Total de Pessoas Analisadas - HOMENS X MULHERES\")\n",
        "ax.set_ylabel(\"Número x Gênero\")\n",
        "ax.set_xlabel(\"HOMENS(1) - MULHERES(0)\")\n",
        "\n",
        "plt.tight_layout();\n"
      ],
      "execution_count": 16,
      "outputs": [
        {
          "output_type": "display_data",
          "data": {
            "image/png": "[encoded data removed]",
            "text/plain": [
              "<Figure size 864x360 with 1 Axes>"
            ]
          },
          "metadata": {
            "tags": []
          }
        }
      ]
    },
    {
      "cell_type": "markdown",
      "metadata": {
        "id": "RufwKqfzOe7p",
        "colab_type": "text"
      },
      "source": [
        "<center><h1><b>Colesterol</center></h1></b>\n",
        "\n",
        "<center><img src=\"https://bit.ly/2XsxgDQ\" height=\"100px\"></center>\n",
        "\n",
        "* Como o próprio nome sugere, o exame de colesterol total e frações mede a quantidade dessa molécula e de seus subtipos na circulação. As porções mais famosas são o HDL, também chamado de colesterol bom, e o LDL, o ruim. Muitas vezes, o mesmo teste de sangue vai avaliar também a concentração de triglicérides, um tipo de gordura, no organismo.\n",
        "Para que serve o exame\n",
        "\n",
        "* Principalmente para, em conjunto com outros fatores, calcular o risco de entupimentos nas artérias e doenças cardiovasculares em decorrência do colesterol. Se os níveis de LDL no sangue estão em alta, os médicos podem sugerir mudanças no estilo de vida e até mesmo medicações.\n",
        "\n",
        "* É um procedimento parecido com o do hemograma. O profissional retira sangue com uma pequena agulha de uma veia, geralmente no braço do paciente. Depois, o material é avaliado no laboratório e os resultados são divididos em medidas como:\n",
        "\n",
        "* Colesterol total\n",
        "* HDL\n",
        "* LDL\n",
        "* VLDL\n",
        "\n",
        "## Os resultados\n",
        "\n",
        "* Recentemente, a Sociedade Brasileira de Cardiologia estreitou um pouco os limites considerados saudáveis. Os valores ideais agora dependem de cada um, de acordo com seu risco individual de desenvolver um infarto ou AVC, que deve ser estabelecido por um cardiologista.\n",
        "\n",
        "* Ou seja, pessoas que, por outros motivos (diabetes, hipertensão…), têm uma probabilidade maior de sofrer um infarto precisam alcançar níveis mais baixos de colesterol. Confira:\n",
        "Continua após a publicidade\n",
        "\n",
        "* Colesterol total\n",
        "Abaixo de 190 mg/dl\n",
        "\n",
        "* HDL\n",
        "Desejável que esteja acima de 40mg/dl\n",
        "\n",
        "* Triglicérides\n",
        "Abaixo de 150mg/dl em jejum</center>"
      ]
    },
    {
      "cell_type": "markdown",
      "metadata": {
        "id": "eicrTycUQsgc",
        "colab_type": "text"
      },
      "source": [
        "## Dispersão dos casos de colesterol\n",
        "\n",
        "* Como podemos observar no gráfico abaixo, há uma grande concentração de casos de colesterol a partir dos 40 anos de idade sendo na faixa de 200 a 300 mg/dl, considerados altos, sendo eles gerados por diversos fatores, neste projeto não relacionareis os casos, apontando somente a visão geral deste mal que atinge um grande numero de pessoas;\n",
        "\n",
        "* A exposição a níveis elevados de colesterol aumenta muito a chance de manifestações coronárias, especialmente para homens após 40 anos e mulheres depois dos 50 anos.\n",
        "\n",
        "* O colesterol é uma das principais causas das doenças coronárias.\n",
        "\n",
        "* A hipercolesterolemia familiar (HF)  - colesterol alto de origem familiar - é uma doença grave, responsável por 5 a 10% dos casos de eventos cardiovasculares em pessoas abaixo de 50 anos.\n",
        "\n",
        "* A HF afeta 1 em cada 250 pessoas na população em geral. Na família acometida pela doença, a prevalência é de 1 em cada 2 indivíduos. \n",
        "\n",
        "## Quem deve se preocupar?\n",
        "\n",
        "* Adultos com LDL (colesterol ruim) acima de 190 mg/dL, associado ou não a sinais físicos como xantomas (lesões amareladas e salientes na pele) e xantelasmas (pequenas bolsas amareladas ligeiramente salientes, situadas nas pálpebras).\n",
        "\n",
        "* Crianças e adolescentes com menos de 19 anos com colesterol total maior que 230 mg/dL.\n",
        "\n",
        "* Pessoas com história familiar para HF ou doença cardiovascular precoce.\n"
      ]
    },
    {
      "cell_type": "code",
      "metadata": {
        "id": "rhACd0axYi7c",
        "colab_type": "code",
        "outputId": "4f834f96-0660-4778-fdbf-914fd2d163e9",
        "colab": {
          "base_uri": "https://localhost:8080/",
          "height": 331
        }
      },
      "source": [
        "fig, ax = plt.subplots();\n",
        "\n",
        "df = df.rename(columns={\"age\":\"Idade\",\"chol\":\"Colesterol\"})\n",
        "df.plot.scatter(x=\"Idade\", y=\"Colesterol\",figsize=(12,4), ax=ax , s=15)\n",
        "\n",
        "plt.tight_layout();\n"
      ],
      "execution_count": 17,
      "outputs": [
        {
          "output_type": "stream",
          "text": [
            "'c' argument looks like a single numeric RGB or RGBA sequence, which should be avoided as value-mapping will have precedence in case its length matches with 'x' & 'y'.  Please use a 2-D array with a single row if you really want to specify the same RGB or RGBA value for all points.\n"
          ],
          "name": "stderr"
        },
        {
          "output_type": "display_data",
          "data": {
            "image/png": "[encoded data removed]",
            "text/plain": [
              "<Figure size 864x288 with 1 Axes>"
            ]
          },
          "metadata": {
            "tags": []
          }
        }
      ]
    },
    {
      "cell_type": "markdown",
      "metadata": {
        "id": "NZRDDBT0ZGtq",
        "colab_type": "text"
      },
      "source": [
        "<center><h2><b>Colesterol alto está entre os principais fatores de risco para as doenças cardiovasculares</center></h2></b>\n",
        "\n",
        "* As doenças cardiovasculares são responsáveis por 30% das mortes no mundo, sendo a principal causa de óbito em todo o globo, segundo a Organização Mundial de Saúde (OMS). Um dos fatores responsável por essas doenças é a alta taxa de colesterol no organismo, que é elevado pelo consumo excessivo de gordura e carboidratos. Acima dos padrões ideais, o colesterol favorece a formação de placas de ateroma (gordura) na parede dos vasos sanguíneos, podendo desencadear doenças como infarto agudo do miocárdio e acidente vascular cerebral. Para conscientizar a população sobre esses riscos, o dia 8 de agosto foi instituído como o Dia Nacional de Combate ao Colesterol.\n",
        "\n",
        "* Efetuei algumas consultas na internet descobri que de acordo com o Guia Alimentar para a População Brasileira, do Ministério da Saúde, o limite máximo do consumo de gorduras por dia é de 15% a 30% das calorias totais da alimentação diária. O total de gorduras saturadas deve ser menor que 10% das calorias totais; já o de gordura trans, menor que 1%. Estes valores podem obtidos nos rótulos dos alimentos, que, conforme regulamentação da Anvisa, devem conter as informações nutricionais de valor energético (calorias), carboidratos, proteínas, gorduras totais, gorduras saturadas, gordura trans, fibra alimentar, cálcio, ferro e sódio.\n",
        "\n",
        "* Abaixo podemos visualizar que a frequência do indice das taxas do colesterol indicando um alto indice nos valores de <b>200 mg/ml a 300 mg/ml.</b>"
      ]
    },
    {
      "cell_type": "code",
      "metadata": {
        "id": "aPZnHSgAbxUA",
        "colab_type": "code",
        "outputId": "27d9cef0-5e6f-4407-8710-17705b25fbe7",
        "colab": {
          "base_uri": "https://localhost:8080/",
          "height": 365
        }
      },
      "source": [
        "fig, ax = plt.subplots()\n",
        "\n",
        "df.Colesterol.plot(kind=\"hist\",figsize=(15,5), ax=ax)\n",
        "ax.set_title(\"Frequência do indice de Colesterol\")\n",
        "ax.set_xlabel(\"Taxa em MG/Ml\")\n",
        "ax.set_ylabel(\"Frequência\")\n",
        "plt.tight_layout();"
      ],
      "execution_count": 18,
      "outputs": [
        {
          "output_type": "display_data",
          "data": {
            "image/png": "[encoded data removed]",
            "text/plain": [
              "<Figure size 1080x360 with 1 Axes>"
            ]
          },
          "metadata": {
            "tags": []
          }
        }
      ]
    },
    {
      "cell_type": "markdown",
      "metadata": {
        "id": "waBuIOUMbJ9A",
        "colab_type": "text"
      },
      "source": [
        "* A <b>Média</b> dos casos analisados nesta população de estudo gira em torno de <b>246 mg/ml</b>, considerado alto, deixando claro que é preocupante esta questão, onde se faz necessário campanhas para maiores esclarecimentos a sociedade mundial."
      ]
    },
    {
      "cell_type": "markdown",
      "metadata": {
        "id": "QmSWAqcHJil5",
        "colab_type": "text"
      },
      "source": [
        "* Abaixo demostração das idades das pessoas que participaram para que este estudo podesse ser levado a sociedade."
      ]
    },
    {
      "cell_type": "code",
      "metadata": {
        "id": "feCYgGupHvOS",
        "colab_type": "code",
        "colab": {
          "base_uri": "https://localhost:8080/",
          "height": 365
        },
        "outputId": "ddd1153d-f593-4f97-9622-b05ceb61841c"
      },
      "source": [
        "fig, ax = plt.subplots()\n",
        "df_Idade = df.Idade.value_counts()\n",
        "df_Idade.plot(kind=\"bar\", figsize=(15,5), ax=ax)\n",
        "ax.set_title(\"Distribuição por Idade x Polução de Estudo\")\n",
        "ax.set_xlabel(\"Idade\")\n",
        "ax.set_ylabel(\"Quantidade de Pessoas\")\n",
        "\n",
        "plt.tight_layout();"
      ],
      "execution_count": 31,
      "outputs": [
        {
          "output_type": "display_data",
          "data": {
            "image/png": "[encoded data removed]",
            "text/plain": [
              "<Figure size 1080x360 with 1 Axes>"
            ]
          },
          "metadata": {
            "tags": []
          }
        }
      ]
    },
    {
      "cell_type": "code",
      "metadata": {
        "id": "Bv-vMKEicqFx",
        "colab_type": "code",
        "outputId": "41fd98b1-3020-465a-e48a-7b939e5ffb83",
        "colab": {
          "base_uri": "https://localhost:8080/",
          "height": 35
        }
      },
      "source": [
        "df.Colesterol.mean()"
      ],
      "execution_count": 19,
      "outputs": [
        {
          "output_type": "execute_result",
          "data": {
            "text/plain": [
              "246.69306930693068"
            ]
          },
          "metadata": {
            "tags": []
          },
          "execution_count": 19
        }
      ]
    },
    {
      "cell_type": "markdown",
      "metadata": {
        "id": "E7J4PYClm9P5",
        "colab_type": "text"
      },
      "source": [
        "<center><h1><b>Eletrocardiografia de repouso</center></h1></b>\n",
        "\n",
        "* `restecg` - resultado do eletrocardiografia de repouso\n",
        "  * 0: normal\n",
        "  * 1: anormalidades de ST-T  (inversão da onda T e elevação ou depressão de > 0.05*mV*)\n",
        "  * 2: hipertrofia ventricular esquerda provável ou definitiva (pelos critérios de Romhilt-Estes)\n",
        "\n",
        "* O Eletrocardiograma (ECG) é um exame de triagem básico e, com ele, é possível atestar ou contestar a saúde do coração do paciente, bem como encontrar indícios de que ele pode ter ou não problemas cardíacos.\n",
        "\n",
        "* O exame é tão importante que chega a ser exigido dos candidatos nos concursos públicos para cargos que requerem atividades físicas ou podem causar risco para as pessoas que dependem do serviço, como motoristas e pessoas que trabalham em altura.\n",
        "\n",
        "  <center><img src=\"https://bit.ly/2zn8wFb\" height=\"200px\"></center>"
      ]
    },
    {
      "cell_type": "code",
      "metadata": {
        "id": "6RA2_eaLd3Jz",
        "colab_type": "code",
        "outputId": "1966d001-d5b5-4a20-cca2-f183f320462e",
        "colab": {
          "base_uri": "https://localhost:8080/",
          "height": 293
        }
      },
      "source": [
        "# Extrair o compo restcg para um dicionário\n",
        "\n",
        "restecg = dict(df.restecg.value_counts())\n",
        "\n",
        "# Preparar os dados para o gráfioco de pizza, cnhecido mundialmente como pie chart\n",
        "\n",
        "labels = restecg.keys()\n",
        "sizes = restecg.values()\n",
        "explode = (0.1,0,0)\n",
        "\n",
        "# Plotar o Gráfico de Pizza\n",
        "\n",
        "fig, ax = plt.subplots(figsize=(4,4))\n",
        "\n",
        "ax.pie(sizes, labels=labels, explode=explode, shadow=True)\n",
        "ax.set_title(\"Eletrocardiografia de Repouso\")\n",
        "\n",
        "plt.tight_layout();\n"
      ],
      "execution_count": 20,
      "outputs": [
        {
          "output_type": "display_data",
          "data": {
            "image/png": "[encoded data removed]",
            "text/plain": [
              "<Figure size 288x288 with 1 Axes>"
            ]
          },
          "metadata": {
            "tags": []
          }
        }
      ]
    },
    {
      "cell_type": "markdown",
      "metadata": {
        "id": "vhRaPxkEnh5y",
        "colab_type": "text"
      },
      "source": [
        "* Em relação aos exames eltrocardiográficos aplicados na população deste projeto, informa que mais da metade apresentam quadro cliníco normal, porém outra metade já possui algum desvio cardiovascular, sendo necessário auxilio do médico responsável na área.\n",
        "\n"
      ]
    },
    {
      "cell_type": "markdown",
      "metadata": {
        "id": "b36hJpMigqlL",
        "colab_type": "text"
      },
      "source": [
        "# Correlação existente entre as variáveis\n",
        "\n",
        "*Correlação significa que existe uma relação entre duas coisas. No nosso contexto, estamos buscando relação ou semelhança entre duas variáveis.\n",
        "\n",
        "Essa relação pode ser medida, e é função do coeficiente de correlação estabelecer qual a intensidade dela. Para identificar as correlações existentes entre as variáveis de interesse, vou:\n",
        "\n",
        "* Gerar um *heatmap* a partir dessa matriz, usando a biblioteca `seaborn`"
      ]
    },
    {
      "cell_type": "code",
      "metadata": {
        "id": "JTgfZ7SahtK7",
        "colab_type": "code",
        "outputId": "05a0ed8e-7a6d-471b-d6ed-1c2858ab1d7c",
        "colab": {
          "base_uri": "https://localhost:8080/",
          "height": 206
        }
      },
      "source": [
        "df.head()"
      ],
      "execution_count": 21,
      "outputs": [
        {
          "output_type": "execute_result",
          "data": {
            "text/html": [
              "<div>\n",
              "<style scoped>\n",
              "    .dataframe tbody tr th:only-of-type {\n",
              "        vertical-align: middle;\n",
              "    }\n",
              "\n",
              "    .dataframe tbody tr th {\n",
              "        vertical-align: top;\n",
              "    }\n",
              "\n",
              "    .dataframe thead th {\n",
              "        text-align: right;\n",
              "    }\n",
              "</style>\n",
              "<table border=\"1\" class=\"dataframe\">\n",
              "  <thead>\n",
              "    <tr style=\"text-align: right;\">\n",
              "      <th></th>\n",
              "      <th>Idade</th>\n",
              "      <th>sex</th>\n",
              "      <th>cp</th>\n",
              "      <th>trestbps</th>\n",
              "      <th>Colesterol</th>\n",
              "      <th>fbs</th>\n",
              "      <th>restecg</th>\n",
              "      <th>thalach</th>\n",
              "      <th>exang</th>\n",
              "      <th>oldpeak</th>\n",
              "      <th>slope</th>\n",
              "      <th>ca</th>\n",
              "      <th>thal</th>\n",
              "      <th>num</th>\n",
              "    </tr>\n",
              "  </thead>\n",
              "  <tbody>\n",
              "    <tr>\n",
              "      <th>0</th>\n",
              "      <td>63.0</td>\n",
              "      <td>1.0</td>\n",
              "      <td>1.0</td>\n",
              "      <td>145.0</td>\n",
              "      <td>233.0</td>\n",
              "      <td>1.0</td>\n",
              "      <td>2.0</td>\n",
              "      <td>150.0</td>\n",
              "      <td>0.0</td>\n",
              "      <td>2.3</td>\n",
              "      <td>3.0</td>\n",
              "      <td>0.0</td>\n",
              "      <td>6.0</td>\n",
              "      <td>0</td>\n",
              "    </tr>\n",
              "    <tr>\n",
              "      <th>1</th>\n",
              "      <td>67.0</td>\n",
              "      <td>1.0</td>\n",
              "      <td>4.0</td>\n",
              "      <td>160.0</td>\n",
              "      <td>286.0</td>\n",
              "      <td>0.0</td>\n",
              "      <td>2.0</td>\n",
              "      <td>108.0</td>\n",
              "      <td>1.0</td>\n",
              "      <td>1.5</td>\n",
              "      <td>2.0</td>\n",
              "      <td>3.0</td>\n",
              "      <td>3.0</td>\n",
              "      <td>1</td>\n",
              "    </tr>\n",
              "    <tr>\n",
              "      <th>2</th>\n",
              "      <td>67.0</td>\n",
              "      <td>1.0</td>\n",
              "      <td>4.0</td>\n",
              "      <td>120.0</td>\n",
              "      <td>229.0</td>\n",
              "      <td>0.0</td>\n",
              "      <td>2.0</td>\n",
              "      <td>129.0</td>\n",
              "      <td>1.0</td>\n",
              "      <td>2.6</td>\n",
              "      <td>2.0</td>\n",
              "      <td>2.0</td>\n",
              "      <td>7.0</td>\n",
              "      <td>1</td>\n",
              "    </tr>\n",
              "    <tr>\n",
              "      <th>3</th>\n",
              "      <td>37.0</td>\n",
              "      <td>1.0</td>\n",
              "      <td>3.0</td>\n",
              "      <td>130.0</td>\n",
              "      <td>250.0</td>\n",
              "      <td>0.0</td>\n",
              "      <td>0.0</td>\n",
              "      <td>187.0</td>\n",
              "      <td>0.0</td>\n",
              "      <td>3.5</td>\n",
              "      <td>3.0</td>\n",
              "      <td>0.0</td>\n",
              "      <td>3.0</td>\n",
              "      <td>0</td>\n",
              "    </tr>\n",
              "    <tr>\n",
              "      <th>4</th>\n",
              "      <td>41.0</td>\n",
              "      <td>0.0</td>\n",
              "      <td>2.0</td>\n",
              "      <td>130.0</td>\n",
              "      <td>204.0</td>\n",
              "      <td>0.0</td>\n",
              "      <td>2.0</td>\n",
              "      <td>172.0</td>\n",
              "      <td>0.0</td>\n",
              "      <td>1.4</td>\n",
              "      <td>1.0</td>\n",
              "      <td>0.0</td>\n",
              "      <td>3.0</td>\n",
              "      <td>0</td>\n",
              "    </tr>\n",
              "  </tbody>\n",
              "</table>\n",
              "</div>"
            ],
            "text/plain": [
              "   Idade  sex   cp  trestbps  Colesterol  ...  oldpeak  slope   ca  thal  num\n",
              "0   63.0  1.0  1.0     145.0       233.0  ...      2.3    3.0  0.0   6.0    0\n",
              "1   67.0  1.0  4.0     160.0       286.0  ...      1.5    2.0  3.0   3.0    1\n",
              "2   67.0  1.0  4.0     120.0       229.0  ...      2.6    2.0  2.0   7.0    1\n",
              "3   37.0  1.0  3.0     130.0       250.0  ...      3.5    3.0  0.0   3.0    0\n",
              "4   41.0  0.0  2.0     130.0       204.0  ...      1.4    1.0  0.0   3.0    0\n",
              "\n",
              "[5 rows x 14 columns]"
            ]
          },
          "metadata": {
            "tags": []
          },
          "execution_count": 21
        }
      ]
    },
    {
      "cell_type": "code",
      "metadata": {
        "id": "ul92HwTQg5HZ",
        "colab_type": "code",
        "outputId": "f73acf9e-92b4-4815-bdad-48d42d1fb8ee",
        "colab": {
          "base_uri": "https://localhost:8080/",
          "height": 175
        }
      },
      "source": [
        "# Criando uma matriz de Correlação\n",
        "\n",
        "corr = df[[\"sex\",\"Colesterol\",\"Idade\",\"restecg\"]].corr()\n",
        "display(corr)"
      ],
      "execution_count": 22,
      "outputs": [
        {
          "output_type": "display_data",
          "data": {
            "text/html": [
              "<div>\n",
              "<style scoped>\n",
              "    .dataframe tbody tr th:only-of-type {\n",
              "        vertical-align: middle;\n",
              "    }\n",
              "\n",
              "    .dataframe tbody tr th {\n",
              "        vertical-align: top;\n",
              "    }\n",
              "\n",
              "    .dataframe thead th {\n",
              "        text-align: right;\n",
              "    }\n",
              "</style>\n",
              "<table border=\"1\" class=\"dataframe\">\n",
              "  <thead>\n",
              "    <tr style=\"text-align: right;\">\n",
              "      <th></th>\n",
              "      <th>sex</th>\n",
              "      <th>Colesterol</th>\n",
              "      <th>Idade</th>\n",
              "      <th>restecg</th>\n",
              "    </tr>\n",
              "  </thead>\n",
              "  <tbody>\n",
              "    <tr>\n",
              "      <th>sex</th>\n",
              "      <td>1.000000</td>\n",
              "      <td>-0.199915</td>\n",
              "      <td>-0.097542</td>\n",
              "      <td>0.021647</td>\n",
              "    </tr>\n",
              "    <tr>\n",
              "      <th>Colesterol</th>\n",
              "      <td>-0.199915</td>\n",
              "      <td>1.000000</td>\n",
              "      <td>0.208950</td>\n",
              "      <td>0.171043</td>\n",
              "    </tr>\n",
              "    <tr>\n",
              "      <th>Idade</th>\n",
              "      <td>-0.097542</td>\n",
              "      <td>0.208950</td>\n",
              "      <td>1.000000</td>\n",
              "      <td>0.148868</td>\n",
              "    </tr>\n",
              "    <tr>\n",
              "      <th>restecg</th>\n",
              "      <td>0.021647</td>\n",
              "      <td>0.171043</td>\n",
              "      <td>0.148868</td>\n",
              "      <td>1.000000</td>\n",
              "    </tr>\n",
              "  </tbody>\n",
              "</table>\n",
              "</div>"
            ],
            "text/plain": [
              "                 sex  Colesterol     Idade   restecg\n",
              "sex         1.000000   -0.199915 -0.097542  0.021647\n",
              "Colesterol -0.199915    1.000000  0.208950  0.171043\n",
              "Idade      -0.097542    0.208950  1.000000  0.148868\n",
              "restecg     0.021647    0.171043  0.148868  1.000000"
            ]
          },
          "metadata": {
            "tags": []
          }
        }
      ]
    },
    {
      "cell_type": "code",
      "metadata": {
        "id": "NdgxZOR4gI1x",
        "colab_type": "code",
        "outputId": "22c73d51-c317-425b-f70b-2084d66911e6",
        "colab": {
          "base_uri": "https://localhost:8080/",
          "height": 272
        }
      },
      "source": [
        "# Plotando um HeatMap a partir das correlações\n",
        "\n",
        "sns.heatmap(corr, cmap=\"RdBu\", fmt=\" .2f\" ,square=True, linecolor=\"white\",annot=True,);"
      ],
      "execution_count": 23,
      "outputs": [
        {
          "output_type": "display_data",
          "data": {
            "image/png": "[encoded data removed]",
            "text/plain": [
              "<Figure size 432x288 with 2 Axes>"
            ]
          },
          "metadata": {
            "tags": []
          }
        }
      ]
    },
    {
      "cell_type": "markdown",
      "metadata": {
        "id": "OFYvp7nGogzp",
        "colab_type": "text"
      },
      "source": [
        "# Conclusão\n",
        "\n",
        "* Então, para mantermos adequados os níveis de colesterol e reduzir o risco de ataques cardíacos ou de outras enfermidades circulatórias, há duas medidas universais que podemos iniciar desde já para a nossa qualidade de vida: controle do peso corpóreo e prática de atividade física, conforme já citado nos tópicos deste projeto. Porém quando estas falham ppor algum motivo, os médicos aconselham reduzir a quantidade de gordura na alimentação e, eventualmente, prescrevem medicamentos;\n",
        "\n",
        "<center>Porém não é este caminho que queremos seguir, não é??.</center>\n",
        "<p>\n",
        "<p>\n",
        "\n",
        "* Tabela de referência:\n",
        "\n",
        "<center><img src=\"https://bit.ly/2XvxIkN\" height=\"500px\"></center>"
      ]
    }
  ]
}