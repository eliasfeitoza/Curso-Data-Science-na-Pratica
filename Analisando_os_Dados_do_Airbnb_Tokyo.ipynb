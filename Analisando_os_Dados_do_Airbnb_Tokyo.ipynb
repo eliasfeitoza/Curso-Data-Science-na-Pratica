{
  "nbformat": 4,
  "nbformat_minor": 0,
  "metadata": {
    "colab": {
      "name": "Analisando_os_Dados_do_Airbnb- Tokyo.ipynb",
      "provenance": [],
      "collapsed_sections": [],
      "include_colab_link": true
    },
    "kernelspec": {
      "name": "python3",
      "display_name": "Python 3"
    }
  },
  "cells": [
    {
      "cell_type": "markdown",
      "metadata": {
        "id": "view-in-github",
        "colab_type": "text"
      },
      "source": [
        "<a href=\"https://colab.research.google.com/github/eliasfeitoza/Curso-Data-Science-na-Pratica/blob/master/Analisando_os_Dados_do_Airbnb_Tokyo.ipynb\" target=\"_parent\"><img src=\"https://colab.research.google.com/assets/colab-badge.svg\" alt=\"Open In Colab\"/></a>"
      ]
    },
    {
      "cell_type": "markdown",
      "metadata": {
        "id": "kLI0gJtzDGuQ",
        "colab_type": "text"
      },
      "source": [
        "<center><img src=\"http://sigmoidal.ai/wp-content/uploads/2019/08/logo_color.png\" height=\"40px\"></center>\n",
        "\n",
        "\n",
        "<center><img src=\"https://st.depositphotos.com/1062377/3824/i/450/depositphotos_38247575-stock-photo-various-travel-destination-in-japan.jpg\" height= \"250px\" width= \"500\"></center>\n",
        "<br>\n",
        "<center><h1><b>Análise Exploratória dos Dados do Airbnb - Tokyo - Japão</center></h1></b>\n",
        "<br>\n",
        "\n",
        "\n",
        "* O [Airbnb](https://www.airbnb.com.br/) já é considerado como sendo a **maior empresa hoteleira da atualidade**. Ah, o detalhe é que ele **não possui nenhum hotel**!\n",
        "\n",
        "* Conectando pessoas que querem viajar (e se hospedar) com anfitriões que querem alugar seus imóveis de maneira prática, o Airbnb fornece uma plataforma inovadora para tornar essa hospedagem alternativa.\n",
        "\n",
        "* No final de 2018, a Startup fundada 10 anos atrás, já havia **hospedado mais de 300 milhões** de pessoas ao redor de todo o mundo, desafiando as redes hoteleiras tradicionais.\n",
        "\n",
        "* Uma das iniciativas do Airbnb é disponibilizar dados do site, para algumas das principais cidades do mundo. Por meio do portal [Inside Airbnb](http://insideairbnb.com/get-the-data.html), é possível baixar uma grande quantidade de dados para desenvolver projetos e soluções de *Data Science*.\n",
        "<br>\n",
        "<center><img alt=\"Analisando Airbnb\" width=\"10%\" src=\"https://www.area360.com.au/wp-content/uploads/2017/09/airbnb-logo.jpg\"></center>\n",
        "<br>\n",
        "<center><b>Neste *notebook*, iremos analisar os dados referentes à cidade Tokyo no Japão, e ver quais insights podem ser extraídos a partir de dados brutos.</center></b>"
      ]
    },
    {
      "cell_type": "markdown",
      "metadata": {
        "id": "0zxQHhIUDF_2",
        "colab_type": "text"
      },
      "source": [
        "<b><center><h2>Importação dos Pacotes</b></center></h2>\n"
      ]
    },
    {
      "cell_type": "code",
      "metadata": {
        "id": "Vhp2wMPgJ6zX",
        "colab_type": "code",
        "colab": {}
      },
      "source": [
        "# importar os pacotes necessarios - Importanado as bibliotecas do Pandas do Python\n",
        "import pandas as pd #Por regra de convensão deve se chamar a biblioteca pandas sempre da forma mencionada, facilitando assim a leitura por qualquer leitor.\n",
        "import matplotlib.pyplot as plt # Trata-se da mais famosa biblioteca de visualização de gráficos de dados do Python. Por padrão deve ser acionada da forma mencionada.\n",
        "import seaborn as sns # O Seaborn é uma biblioteca de visualização de dados do Python baseado no Matplotlib com uma melhor visualização.\n",
        "import numpy as np\n",
        "\n",
        "%matplotlib inline \n"
      ],
      "execution_count": 0,
      "outputs": []
    },
    {
      "cell_type": "markdown",
      "metadata": {
        "id": "BjREzGcHImhn",
        "colab_type": "text"
      },
      "source": [
        "<b><center><h2>Arquivo CSV</b></center></h2>\n",
        "\n",
        "* “CSV” significa Comma Separated Values, ou seja, um arquivo CSV é um arquivo de valores separados por vírgula. Esse formato de armazenamento é simples e agrupa informações de arquivos de texto em planilhas, usado para trocas de dados com um banco de dados ou uma planilha entre aplicativos.\n",
        "<br>\n",
        "<br>\n",
        "\n",
        "<center>Processo de importação do arquivo mostrado abaixo:</center>"
      ]
    },
    {
      "cell_type": "code",
      "metadata": {
        "id": "tUmoAT8DLQ5T",
        "colab_type": "code",
        "colab": {}
      },
      "source": [
        "# importar o arquivo listings.csv para um DataFrame- Criando a variavel df para receber o arquivo\n",
        "\n",
        "df = pd.read_csv(\"http://data.insideairbnb.com/japan/kant%C5%8D/tokyo/2019-11-28/visualisations/listings.csv\")\n",
        "\n",
        "# Utilizado comando para remoção da coluna\n",
        "df=df[df.columns.drop(\"neighbourhood_group\")] \n",
        "\n"
      ],
      "execution_count": 0,
      "outputs": []
    },
    {
      "cell_type": "markdown",
      "metadata": {
        "id": "qb5By2nIMS6m",
        "colab_type": "text"
      },
      "source": [
        "<center><h2><b>Análise dos Dados</center></h2></b>\n",
        "\n",
        "* Esta etapa tem como objetivo facilitar o entendimento dos campos inseridos no <b>DataSet (Tabela)</b> bem como facilitar a localização de algum dado específico e analisar se há informações em branco que interfira em nossa análise!!\n",
        "\n",
        "* Obs:  <b>1 Iene japonês igual a 0,039 Real brasileiro</b>, para facilitar faça a comparação da seguinte forma: ¥ 26 lene é igual a R$ 1,02. Calculo efetuado em 19/02/2020. Pois os valoires informados no DataSet são valores da moeda corrente do país.\n"
      ]
    },
    {
      "cell_type": "markdown",
      "metadata": {
        "id": "RYgvuebKNg8-",
        "colab_type": "text"
      },
      "source": [
        "**Dicionário das variáveis**\n",
        "\n",
        "* `id`- <i>número de id gerado para identificar o imóvel</i>\t\n",
        "* `Nome Propriedade`- <i> nome da propriedade anunciada</i>\n",
        "* `Id do Anfitrião`<i>- número de id do proprietário (anfitrião) da propriedade</i>\n",
        "* `Nome do Anfitrião`<i>- nome do anfitrião</i>\n",
        "* `Vizinho`- <i>nome do bairro</i>\n",
        "* `latitude`<i>- coordenada da latitude da propriedade</i>\n",
        "* `longitude`<i> - coordenada da longitude da propriedade</i>\n",
        "* `Tipo de Imóvel`<i>- informa o tipo do imóvel que é oferecido</i>\n",
        "* `Preço`<i>- preço para alugar o imóvel,</i>\n",
        "* `Minimo de Noites`<i> - quantidade mínima de noites para reservar</i>\n",
        "* `Nº de Avalições`<i>- número de avaliações que a propriedade possui</i>\n",
        "* `Ultima Avaliação`<i>- data da última avaliação</i>\n",
        "* `Avaliações por Mês`<i>- quantidade de avaliações por mês</i>\n",
        "* `Quantidade de Imóveis`<i> - quantidade de imóveis do mesmo anfitrião</i>\n",
        "* `Avaliações no Ano`<i> - número de dias de disponibilidade dentro de 365 dias</i>\n"
      ]
    },
    {
      "cell_type": "code",
      "metadata": {
        "id": "2iS_dae7YQtO",
        "colab_type": "code",
        "outputId": "47f8305b-f155-4051-f44f-f19e518ccb09",
        "colab": {
          "base_uri": "https://localhost:8080/",
          "height": 459
        }
      },
      "source": [
        "\n",
        "#Comando para renomear as colunas\n",
        "df = df.rename(columns={\"name\":\"Nome Propriedade\",\"host_id\":\"Id do Anfitrião\",\"host_name\":\"Nome do Anfitrião\",\"neighbourhood\":\"Bairro\",\"room_type\":\"Tipo de Imóvel\",\"price\":\"Preço (lene)\",\n",
        "                        \"minimum_nights\":\"Minimo de Noites\",\"number_of_reviews\":\"Nº de Avaliações\",\"last_review\":\"Ultima Avaliação\",\"reviews_per_month\":\"Avaliações por Mês\",\n",
        "                        \"calculated_host_listings_count\":\"Quantidade de Imóveis\",\"availability_365\":\"Disponibilidade x Dias no Ano\"}) \n",
        "# mostrar as primeiras entradas solicitadas - comando head()\n",
        "df.head(5)\n"
      ],
      "execution_count": 3,
      "outputs": [
        {
          "output_type": "execute_result",
          "data": {
            "text/html": [
              "<div>\n",
              "<style scoped>\n",
              "    .dataframe tbody tr th:only-of-type {\n",
              "        vertical-align: middle;\n",
              "    }\n",
              "\n",
              "    .dataframe tbody tr th {\n",
              "        vertical-align: top;\n",
              "    }\n",
              "\n",
              "    .dataframe thead th {\n",
              "        text-align: right;\n",
              "    }\n",
              "</style>\n",
              "<table border=\"1\" class=\"dataframe\">\n",
              "  <thead>\n",
              "    <tr style=\"text-align: right;\">\n",
              "      <th></th>\n",
              "      <th>id</th>\n",
              "      <th>Nome Propriedade</th>\n",
              "      <th>Id do Anfitrião</th>\n",
              "      <th>Nome do Anfitrião</th>\n",
              "      <th>Bairro</th>\n",
              "      <th>latitude</th>\n",
              "      <th>longitude</th>\n",
              "      <th>Tipo de Imóvel</th>\n",
              "      <th>Preço (lene)</th>\n",
              "      <th>Minimo de Noites</th>\n",
              "      <th>Nº de Avaliações</th>\n",
              "      <th>Ultima Avaliação</th>\n",
              "      <th>Avaliações por Mês</th>\n",
              "      <th>Quantidade de Imóveis</th>\n",
              "      <th>Disponibilidade x Dias no Ano</th>\n",
              "    </tr>\n",
              "  </thead>\n",
              "  <tbody>\n",
              "    <tr>\n",
              "      <th>0</th>\n",
              "      <td>35303</td>\n",
              "      <td>La Casa Gaienmae C Harajuku, Omotesando is nearby</td>\n",
              "      <td>151977</td>\n",
              "      <td>Miyuki</td>\n",
              "      <td>Shibuya Ku</td>\n",
              "      <td>35.67152</td>\n",
              "      <td>139.71203</td>\n",
              "      <td>Private room</td>\n",
              "      <td>4160</td>\n",
              "      <td>28</td>\n",
              "      <td>18</td>\n",
              "      <td>2018-07-28</td>\n",
              "      <td>0.19</td>\n",
              "      <td>3</td>\n",
              "      <td>89</td>\n",
              "    </tr>\n",
              "    <tr>\n",
              "      <th>1</th>\n",
              "      <td>197677</td>\n",
              "      <td>Oshiage Holiday Apartment</td>\n",
              "      <td>964081</td>\n",
              "      <td>Yoshimi &amp; Marek</td>\n",
              "      <td>Sumida Ku</td>\n",
              "      <td>35.71721</td>\n",
              "      <td>139.82596</td>\n",
              "      <td>Entire home/apt</td>\n",
              "      <td>10948</td>\n",
              "      <td>3</td>\n",
              "      <td>160</td>\n",
              "      <td>2019-11-06</td>\n",
              "      <td>1.60</td>\n",
              "      <td>1</td>\n",
              "      <td>116</td>\n",
              "    </tr>\n",
              "    <tr>\n",
              "      <th>2</th>\n",
              "      <td>289597</td>\n",
              "      <td>Private apt in central Tokyo #203</td>\n",
              "      <td>341577</td>\n",
              "      <td>Hide&amp;Kei</td>\n",
              "      <td>Nerima Ku</td>\n",
              "      <td>35.74267</td>\n",
              "      <td>139.65810</td>\n",
              "      <td>Entire home/apt</td>\n",
              "      <td>4270</td>\n",
              "      <td>30</td>\n",
              "      <td>111</td>\n",
              "      <td>2019-10-31</td>\n",
              "      <td>1.22</td>\n",
              "      <td>2</td>\n",
              "      <td>206</td>\n",
              "    </tr>\n",
              "    <tr>\n",
              "      <th>3</th>\n",
              "      <td>370759</td>\n",
              "      <td>Cozy flat #203, local area YET 10 mins to shib...</td>\n",
              "      <td>1573631</td>\n",
              "      <td>Gilles,Mayumi,Taiki</td>\n",
              "      <td>Setagaya Ku</td>\n",
              "      <td>35.66344</td>\n",
              "      <td>139.65593</td>\n",
              "      <td>Entire home/apt</td>\n",
              "      <td>7007</td>\n",
              "      <td>28</td>\n",
              "      <td>102</td>\n",
              "      <td>2019-11-20</td>\n",
              "      <td>1.47</td>\n",
              "      <td>3</td>\n",
              "      <td>211</td>\n",
              "    </tr>\n",
              "    <tr>\n",
              "      <th>4</th>\n",
              "      <td>700253</td>\n",
              "      <td>Private apt in central Tokyo #201</td>\n",
              "      <td>341577</td>\n",
              "      <td>Hide&amp;Kei</td>\n",
              "      <td>Nerima Ku</td>\n",
              "      <td>35.74264</td>\n",
              "      <td>139.65832</td>\n",
              "      <td>Entire home/apt</td>\n",
              "      <td>4051</td>\n",
              "      <td>30</td>\n",
              "      <td>103</td>\n",
              "      <td>2019-10-04</td>\n",
              "      <td>1.19</td>\n",
              "      <td>2</td>\n",
              "      <td>0</td>\n",
              "    </tr>\n",
              "  </tbody>\n",
              "</table>\n",
              "</div>"
            ],
            "text/plain": [
              "       id  ... Disponibilidade x Dias no Ano\n",
              "0   35303  ...                            89\n",
              "1  197677  ...                           116\n",
              "2  289597  ...                           206\n",
              "3  370759  ...                           211\n",
              "4  700253  ...                             0\n",
              "\n",
              "[5 rows x 15 columns]"
            ]
          },
          "metadata": {
            "tags": []
          },
          "execution_count": 3
        }
      ]
    },
    {
      "cell_type": "markdown",
      "metadata": {
        "id": "qRalDABGNK49",
        "colab_type": "text"
      },
      "source": [
        "### **Q1. Quais tipo de Acomodações estão disponíveis?**"
      ]
    },
    {
      "cell_type": "code",
      "metadata": {
        "id": "phELON-5Uvui",
        "colab_type": "code",
        "outputId": "ef38b1a5-3528-4a72-90a6-a90689d991fd",
        "colab": {
          "base_uri": "https://localhost:8080/",
          "height": 295
        }
      },
      "source": [
        "df['Tipo de Imóvel'].hist(bins = 10, edgecolor = 'Black') # Aplicando o gáfico histograma e definindo o tamanho com a propriedade bins e a cor da borda com edgecolor.\n",
        "plt.title('Tipo de Acomodação x Disponibilidade') # Incluindo um Título ao gráfico\n",
        "plt.xlabel('Acomodações Oferecidas') # Incluindo legenda no eixo x\n",
        "plt.ylabel('Quantidade'); # Incluindo legenda no eixo y\n",
        "# plt.show() ou ; para remoção de observações do sistema no gráfico, utilizando este comando o gráfico mostra somente observações pertinentes"
      ],
      "execution_count": 4,
      "outputs": [
        {
          "output_type": "display_data",
          "data": {
            "image/png": "[encoded data removed]",
            "text/plain": [
              "<Figure size 432x288 with 1 Axes>"
            ]
          },
          "metadata": {
            "tags": []
          }
        }
      ]
    },
    {
      "cell_type": "code",
      "metadata": {
        "id": "mjzpfFqjHfbK",
        "colab_type": "code",
        "outputId": "41f2424e-7429-4a2c-ff27-c7b3dafe61dd",
        "colab": {
          "base_uri": "https://localhost:8080/",
          "height": 102
        }
      },
      "source": [
        "df[\"Tipo de Imóvel\"].value_counts() # Função .value_counts() para detalhar a quantidade dos dados da coluna Tipo de Imóvel\n"
      ],
      "execution_count": 5,
      "outputs": [
        {
          "output_type": "execute_result",
          "data": {
            "text/plain": [
              "Entire home/apt    9286\n",
              "Private room       2842\n",
              "Hotel room         1021\n",
              "Shared room         613\n",
              "Name: Tipo de Imóvel, dtype: int64"
            ]
          },
          "metadata": {
            "tags": []
          },
          "execution_count": 5
        }
      ]
    },
    {
      "cell_type": "markdown",
      "metadata": {
        "id": "MupTYPKZhP28",
        "colab_type": "text"
      },
      "source": [
        "* Como podemos observar no gáfico acima, as maiores disponibilidades de imóveis oferecidos na plataforma <b>Airbnb</b> nos bairros de Tokyo são: <b><i>Entire home/Apt</b></i> depois o <b><i>Private room;</b></i> as demais acomodações não há tanta divulgação. Para facilitar a visualização foi disponibilizado também uma legenda espelhando os dados do gráfico."
      ]
    },
    {
      "cell_type": "markdown",
      "metadata": {
        "id": "6-B_qtEaYEd-",
        "colab_type": "text"
      },
      "source": [
        "### **Q2. Quantos atributos (variáveis) e quantas entradas o nosso conjunto de dados possui? Quais os tipos das variáveis?**\n",
        "\n",
        "* Vamos prosseguir e identificar a quantidade de entradas que nosso conjunto de dados possui e ver os tipos de cada coluna.\n",
        "\n",
        "* Este *dataset* que baixamos é a versão \"resumida\" do Airbnb. Na mesma página que baixamos o arquivo `listings.csv`. \n"
      ]
    },
    {
      "cell_type": "code",
      "metadata": {
        "id": "TFRK0tniLV-G",
        "colab_type": "code",
        "outputId": "76d86842-f793-4459-e117-86bede9475e9",
        "colab": {
          "base_uri": "https://localhost:8080/",
          "height": 340
        }
      },
      "source": [
        "# identificar o volume de dados do DataFrame\n",
        "print(\"Variáveis:{} \".format(df.shape[0]))  # Exibe na tela através do comando print a quantidade de Variáveis que o DataFrame possui.\n",
        "print(\"Entradas: {}\\n\".format(df.shape[1])) # Exibe na tela através do comando print a quantidade de entradas que o DataFrame possui.\n",
        "                                            # Comando \\n utilizado para pular uma linha\n",
        "                                            # Comando \\t para dar um TAB se necessário\n",
        "                                            # {} exibe os valores das Variáveis\n",
        "                                            # Em Pythonshape() é usado em pandas para dar número de linha / coluna: Variáveis = Linhas e Entradas = Colunas\n",
        "# O Comando display(df.dtypes) exibe o tipo de cada entrada do DataSete de forma integral\n",
        "display(df.dtypes)\n"
      ],
      "execution_count": 6,
      "outputs": [
        {
          "output_type": "stream",
          "text": [
            "Variáveis:13762 \n",
            "Entradas: 15\n",
            "\n"
          ],
          "name": "stdout"
        },
        {
          "output_type": "display_data",
          "data": {
            "text/plain": [
              "id                                 int64\n",
              "Nome Propriedade                  object\n",
              "Id do Anfitrião                    int64\n",
              "Nome do Anfitrião                 object\n",
              "Bairro                            object\n",
              "latitude                         float64\n",
              "longitude                        float64\n",
              "Tipo de Imóvel                    object\n",
              "Preço (lene)                       int64\n",
              "Minimo de Noites                   int64\n",
              "Nº de Avaliações                   int64\n",
              "Ultima Avaliação                  object\n",
              "Avaliações por Mês               float64\n",
              "Quantidade de Imóveis              int64\n",
              "Disponibilidade x Dias no Ano      int64\n",
              "dtype: object"
            ]
          },
          "metadata": {
            "tags": []
          }
        }
      ]
    },
    {
      "cell_type": "markdown",
      "metadata": {
        "id": "sKx1yKlIjCXy",
        "colab_type": "text"
      },
      "source": [
        "\n",
        "**Há versão mais completa do dataset possui:** \n",
        "\n",
        "<b>* 13.762 Entradas</b>\n",
        "<br>\n",
        "<b>* 106 Variáveis</b>\n",
        "<br>\n",
        "nome do arquivo (`listings.csv.gz`)."
      ]
    },
    {
      "cell_type": "markdown",
      "metadata": {
        "id": "yz1urSUGW9iE",
        "colab_type": "text"
      },
      "source": [
        "### **Q3. Qual a porcentagem de valores ausentes no *dataset*?**\n",
        "\n",
        "* Sem dúvidas, um dos processos que podem levar mais tempo para um Cientista de Dados, é realizar a limpeza e a preparação das informações.\n",
        "\n",
        "* Esse processo pode ser custoso e demorado. É necessário identificar os dados que estão faltando e descobrir se existem possíveis valores que podem alterar o resultado. Sem o tratamento adequado, não é possível realizar uma análise concreta.\n",
        "\n",
        "* Não só como se deparar com valores inconsistentes, dados não gravados e outliers. É importante conseguir “reformar” os dados para que possam ser utilizadas futuramente."
      ]
    },
    {
      "cell_type": "code",
      "metadata": {
        "id": "plk2FjbCXOqP",
        "colab_type": "code",
        "outputId": "763cc0d5-5241-47e2-936f-d84f33f2fd3e",
        "colab": {
          "base_uri": "https://localhost:8080/",
          "height": 355
        }
      },
      "source": [
        "# ordenar em ordem decrescente as variáveis por seus valores ausentes em percentual\n",
        "percentage = (df.isnull().sum() / df.shape[0]).sort_values(ascending=False)\n",
        "df_n = pd.DataFrame(percentage)\n",
        "df_n.style.format(\"{:.2%}\")"
      ],
      "execution_count": 7,
      "outputs": [
        {
          "output_type": "execute_result",
          "data": {
            "text/html": [
              "<style  type=\"text/css\" >\n",
              "</style><table id=\"T_b81f242c_6220_11ea_bc26_0242ac1c0002\" ><thead>    <tr>        <th class=\"blank level0\" ></th>        <th class=\"col_heading level0 col0\" >0</th>    </tr></thead><tbody>\n",
              "                <tr>\n",
              "                        <th id=\"T_b81f242c_6220_11ea_bc26_0242ac1c0002level0_row0\" class=\"row_heading level0 row0\" >Avaliações por Mês</th>\n",
              "                        <td id=\"T_b81f242c_6220_11ea_bc26_0242ac1c0002row0_col0\" class=\"data row0 col0\" >13.34%</td>\n",
              "            </tr>\n",
              "            <tr>\n",
              "                        <th id=\"T_b81f242c_6220_11ea_bc26_0242ac1c0002level0_row1\" class=\"row_heading level0 row1\" >Ultima Avaliação</th>\n",
              "                        <td id=\"T_b81f242c_6220_11ea_bc26_0242ac1c0002row1_col0\" class=\"data row1 col0\" >13.34%</td>\n",
              "            </tr>\n",
              "            <tr>\n",
              "                        <th id=\"T_b81f242c_6220_11ea_bc26_0242ac1c0002level0_row2\" class=\"row_heading level0 row2\" >Nome do Anfitrião</th>\n",
              "                        <td id=\"T_b81f242c_6220_11ea_bc26_0242ac1c0002row2_col0\" class=\"data row2 col0\" >0.08%</td>\n",
              "            </tr>\n",
              "            <tr>\n",
              "                        <th id=\"T_b81f242c_6220_11ea_bc26_0242ac1c0002level0_row3\" class=\"row_heading level0 row3\" >Disponibilidade x Dias no Ano</th>\n",
              "                        <td id=\"T_b81f242c_6220_11ea_bc26_0242ac1c0002row3_col0\" class=\"data row3 col0\" >0.00%</td>\n",
              "            </tr>\n",
              "            <tr>\n",
              "                        <th id=\"T_b81f242c_6220_11ea_bc26_0242ac1c0002level0_row4\" class=\"row_heading level0 row4\" >Quantidade de Imóveis</th>\n",
              "                        <td id=\"T_b81f242c_6220_11ea_bc26_0242ac1c0002row4_col0\" class=\"data row4 col0\" >0.00%</td>\n",
              "            </tr>\n",
              "            <tr>\n",
              "                        <th id=\"T_b81f242c_6220_11ea_bc26_0242ac1c0002level0_row5\" class=\"row_heading level0 row5\" >Nº de Avaliações</th>\n",
              "                        <td id=\"T_b81f242c_6220_11ea_bc26_0242ac1c0002row5_col0\" class=\"data row5 col0\" >0.00%</td>\n",
              "            </tr>\n",
              "            <tr>\n",
              "                        <th id=\"T_b81f242c_6220_11ea_bc26_0242ac1c0002level0_row6\" class=\"row_heading level0 row6\" >Minimo de Noites</th>\n",
              "                        <td id=\"T_b81f242c_6220_11ea_bc26_0242ac1c0002row6_col0\" class=\"data row6 col0\" >0.00%</td>\n",
              "            </tr>\n",
              "            <tr>\n",
              "                        <th id=\"T_b81f242c_6220_11ea_bc26_0242ac1c0002level0_row7\" class=\"row_heading level0 row7\" >Preço (lene)</th>\n",
              "                        <td id=\"T_b81f242c_6220_11ea_bc26_0242ac1c0002row7_col0\" class=\"data row7 col0\" >0.00%</td>\n",
              "            </tr>\n",
              "            <tr>\n",
              "                        <th id=\"T_b81f242c_6220_11ea_bc26_0242ac1c0002level0_row8\" class=\"row_heading level0 row8\" >Tipo de Imóvel</th>\n",
              "                        <td id=\"T_b81f242c_6220_11ea_bc26_0242ac1c0002row8_col0\" class=\"data row8 col0\" >0.00%</td>\n",
              "            </tr>\n",
              "            <tr>\n",
              "                        <th id=\"T_b81f242c_6220_11ea_bc26_0242ac1c0002level0_row9\" class=\"row_heading level0 row9\" >longitude</th>\n",
              "                        <td id=\"T_b81f242c_6220_11ea_bc26_0242ac1c0002row9_col0\" class=\"data row9 col0\" >0.00%</td>\n",
              "            </tr>\n",
              "            <tr>\n",
              "                        <th id=\"T_b81f242c_6220_11ea_bc26_0242ac1c0002level0_row10\" class=\"row_heading level0 row10\" >latitude</th>\n",
              "                        <td id=\"T_b81f242c_6220_11ea_bc26_0242ac1c0002row10_col0\" class=\"data row10 col0\" >0.00%</td>\n",
              "            </tr>\n",
              "            <tr>\n",
              "                        <th id=\"T_b81f242c_6220_11ea_bc26_0242ac1c0002level0_row11\" class=\"row_heading level0 row11\" >Bairro</th>\n",
              "                        <td id=\"T_b81f242c_6220_11ea_bc26_0242ac1c0002row11_col0\" class=\"data row11 col0\" >0.00%</td>\n",
              "            </tr>\n",
              "            <tr>\n",
              "                        <th id=\"T_b81f242c_6220_11ea_bc26_0242ac1c0002level0_row12\" class=\"row_heading level0 row12\" >Id do Anfitrião</th>\n",
              "                        <td id=\"T_b81f242c_6220_11ea_bc26_0242ac1c0002row12_col0\" class=\"data row12 col0\" >0.00%</td>\n",
              "            </tr>\n",
              "            <tr>\n",
              "                        <th id=\"T_b81f242c_6220_11ea_bc26_0242ac1c0002level0_row13\" class=\"row_heading level0 row13\" >Nome Propriedade</th>\n",
              "                        <td id=\"T_b81f242c_6220_11ea_bc26_0242ac1c0002row13_col0\" class=\"data row13 col0\" >0.00%</td>\n",
              "            </tr>\n",
              "            <tr>\n",
              "                        <th id=\"T_b81f242c_6220_11ea_bc26_0242ac1c0002level0_row14\" class=\"row_heading level0 row14\" >id</th>\n",
              "                        <td id=\"T_b81f242c_6220_11ea_bc26_0242ac1c0002row14_col0\" class=\"data row14 col0\" >0.00%</td>\n",
              "            </tr>\n",
              "    </tbody></table>"
            ],
            "text/plain": [
              "<pandas.io.formats.style.Styler at 0x7f2335e45dd8>"
            ]
          },
          "metadata": {
            "tags": []
          },
          "execution_count": 7
        }
      ]
    },
    {
      "cell_type": "markdown",
      "metadata": {
        "id": "iHXvvHIxaoNc",
        "colab_type": "text"
      },
      "source": [
        "### **Q4. Qual o tipo de distribuição das variáveis?** \n",
        "Para identificar a distribuição das variáveis, irei plotar o histograma."
      ]
    },
    {
      "cell_type": "code",
      "metadata": {
        "id": "q2wWSfeRbmBo",
        "colab_type": "code",
        "outputId": "8fe05565-8065-4951-9c0c-2bdd2b31e47c",
        "colab": {
          "base_uri": "https://localhost:8080/",
          "height": 607
        }
      },
      "source": [
        "# plotar o histograma das variáveis numéricas\n",
        "df.hist(bins=10,edgecolor = \"black\", figsize=(15,10));\n"
      ],
      "execution_count": 8,
      "outputs": [
        {
          "output_type": "display_data",
          "data": {
            "image/png": "[encoded data removed]",
            "text/plain": [
              "<Figure size 1080x720 with 12 Axes>"
            ]
          },
          "metadata": {
            "tags": []
          }
        }
      ]
    },
    {
      "cell_type": "markdown",
      "metadata": {
        "id": "7x4aw1j5wNmn",
        "colab_type": "text"
      },
      "source": [
        "### **Q5. Qual a média dos preços de aluguel?**"
      ]
    },
    {
      "cell_type": "code",
      "metadata": {
        "id": "ff-8gUahLk-C",
        "colab_type": "code",
        "outputId": "ec4d3a69-18ee-4e5c-ce1e-17157ddea9fa",
        "colab": {
          "base_uri": "https://localhost:8080/",
          "height": 51
        }
      },
      "source": [
        "# ver a média da coluna `price``\n",
        "round(df[[\"Preço (lene)\"]].mean(),2)\n",
        "\n"
      ],
      "execution_count": 9,
      "outputs": [
        {
          "output_type": "execute_result",
          "data": {
            "text/plain": [
              "Preço (lene)    19204.68\n",
              "dtype: float64"
            ]
          },
          "metadata": {
            "tags": []
          },
          "execution_count": 9
        }
      ]
    },
    {
      "cell_type": "markdown",
      "metadata": {
        "id": "AP6JBKLLGSfO",
        "colab_type": "text"
      },
      "source": [
        "* Valor Convertido em Real da média de preços do aluguel = R$ 838,30"
      ]
    },
    {
      "cell_type": "markdown",
      "metadata": {
        "id": "r_-lfC_gxpvv",
        "colab_type": "text"
      },
      "source": [
        "### **Q6. Há *outliers* presentes?**\n",
        "\n",
        "* Os outliers são dados que se diferenciam drasticamente de todos os outros, são pontos fora da curva. Em outras palavras, um outlier é um valor que foge da normalidade e que pode (e provavelmente irá) causar anomalias nos resultados obtidos por meio de algoritmos e sistemas de análise.\n",
        "\n",
        "* Entender os outliers é fundamental em uma análise de dados por pelo menos dois aspectos:\n",
        "\n",
        "* Os outliers podem viesar negativamente todo o resultado de uma análise;\n",
        "\n",
        "* O comportamento dos outliers pode ser justamente o que está sendo procurado.\n",
        "Os outliers possuem diversos outros nomes, como: dados discrepantes, pontos fora da curva, observações fora do comum, anomalias, valores atípicos, entre outros.\n",
        "\n",
        "fonte: Aquarela Inovação do Brasil S.A."
      ]
    },
    {
      "cell_type": "markdown",
      "metadata": {
        "id": "-FAlT5fwyX30",
        "colab_type": "text"
      },
      "source": [
        "Pela distribuição do histograma, é possível verificar indícios da presença de *outliers*. Olhe por exemplo as variáveis `Preço`, `Minimo de Noites`, `Avaliações por Mês`,`Nº de Avaliações`,`Quantidade de Imóveis`\n",
        "\n",
        "Os valores não seguem uma distruição, e distorcem toda a representação gráfica. Para confirmar, há duas maneiras rápidas que auxiliam a detecção de *outliers*. São elas:\n",
        "\n",
        "* Resumo estatístico por meio do método `describe()`\n",
        "* Plotar `boxplots` para a variável."
      ]
    },
    {
      "cell_type": "code",
      "metadata": {
        "id": "aJvRKq0OzfsD",
        "colab_type": "code",
        "outputId": "5ebab8a3-3a62-400c-bdfa-298666eeac11",
        "colab": {
          "base_uri": "https://localhost:8080/",
          "height": 297
        }
      },
      "source": [
        "# ver o resumo estatístico das variáveis numéricas\n",
        "round(df[['Preço (lene)', 'Minimo de Noites', 'Avaliações por Mês', 'Nº de Avaliações',\n",
        "    'Quantidade de Imóveis',]].describe(),2)"
      ],
      "execution_count": 10,
      "outputs": [
        {
          "output_type": "execute_result",
          "data": {
            "text/html": [
              "<div>\n",
              "<style scoped>\n",
              "    .dataframe tbody tr th:only-of-type {\n",
              "        vertical-align: middle;\n",
              "    }\n",
              "\n",
              "    .dataframe tbody tr th {\n",
              "        vertical-align: top;\n",
              "    }\n",
              "\n",
              "    .dataframe thead th {\n",
              "        text-align: right;\n",
              "    }\n",
              "</style>\n",
              "<table border=\"1\" class=\"dataframe\">\n",
              "  <thead>\n",
              "    <tr style=\"text-align: right;\">\n",
              "      <th></th>\n",
              "      <th>Preço (lene)</th>\n",
              "      <th>Minimo de Noites</th>\n",
              "      <th>Avaliações por Mês</th>\n",
              "      <th>Nº de Avaliações</th>\n",
              "      <th>Quantidade de Imóveis</th>\n",
              "    </tr>\n",
              "  </thead>\n",
              "  <tbody>\n",
              "    <tr>\n",
              "      <th>count</th>\n",
              "      <td>13762.00</td>\n",
              "      <td>13762.00</td>\n",
              "      <td>11926.00</td>\n",
              "      <td>13762.00</td>\n",
              "      <td>13762.00</td>\n",
              "    </tr>\n",
              "    <tr>\n",
              "      <th>mean</th>\n",
              "      <td>19204.68</td>\n",
              "      <td>3.18</td>\n",
              "      <td>2.10</td>\n",
              "      <td>27.13</td>\n",
              "      <td>14.32</td>\n",
              "    </tr>\n",
              "    <tr>\n",
              "      <th>std</th>\n",
              "      <td>54585.16</td>\n",
              "      <td>10.13</td>\n",
              "      <td>1.62</td>\n",
              "      <td>40.09</td>\n",
              "      <td>19.61</td>\n",
              "    </tr>\n",
              "    <tr>\n",
              "      <th>min</th>\n",
              "      <td>0.00</td>\n",
              "      <td>1.00</td>\n",
              "      <td>0.03</td>\n",
              "      <td>0.00</td>\n",
              "      <td>1.00</td>\n",
              "    </tr>\n",
              "    <tr>\n",
              "      <th>25%</th>\n",
              "      <td>6788.00</td>\n",
              "      <td>1.00</td>\n",
              "      <td>1.00</td>\n",
              "      <td>2.00</td>\n",
              "      <td>3.00</td>\n",
              "    </tr>\n",
              "    <tr>\n",
              "      <th>50%</th>\n",
              "      <td>10948.00</td>\n",
              "      <td>1.00</td>\n",
              "      <td>1.94</td>\n",
              "      <td>12.00</td>\n",
              "      <td>8.00</td>\n",
              "    </tr>\n",
              "    <tr>\n",
              "      <th>75%</th>\n",
              "      <td>19815.00</td>\n",
              "      <td>2.00</td>\n",
              "      <td>2.95</td>\n",
              "      <td>35.00</td>\n",
              "      <td>17.00</td>\n",
              "    </tr>\n",
              "    <tr>\n",
              "      <th>max</th>\n",
              "      <td>1063900.00</td>\n",
              "      <td>365.00</td>\n",
              "      <td>57.63</td>\n",
              "      <td>876.00</td>\n",
              "      <td>134.00</td>\n",
              "    </tr>\n",
              "  </tbody>\n",
              "</table>\n",
              "</div>"
            ],
            "text/plain": [
              "       Preço (lene)  Minimo de Noites  ...  Nº de Avaliações  Quantidade de Imóveis\n",
              "count      13762.00          13762.00  ...          13762.00               13762.00\n",
              "mean       19204.68              3.18  ...             27.13                  14.32\n",
              "std        54585.16             10.13  ...             40.09                  19.61\n",
              "min            0.00              1.00  ...              0.00                   1.00\n",
              "25%         6788.00              1.00  ...              2.00                   3.00\n",
              "50%        10948.00              1.00  ...             12.00                   8.00\n",
              "75%        19815.00              2.00  ...             35.00                  17.00\n",
              "max      1063900.00            365.00  ...            876.00                 134.00\n",
              "\n",
              "[8 rows x 5 columns]"
            ]
          },
          "metadata": {
            "tags": []
          },
          "execution_count": 10
        }
      ]
    },
    {
      "cell_type": "markdown",
      "metadata": {
        "id": "I3F7osDq6grs",
        "colab_type": "text"
      },
      "source": [
        "Olhando o resumo estatístico acima, podemos confirmar algumas hipóteses como:\n",
        "\n",
        "* A variável `Quantidade de Imóveis` mostra que muito dos anfitriões possuem mais de 10 imóveis disponíveis na plataforma Airbnb, este numero chegando a 75%, com base nesta informações podemos perceber que é um nicho de mercado bem explorado.\n",
        "\n",
        "* O Valor máximo do preço do aluguel podemos observar que esta com um valor extremamente alto, convertendo na moeda Real R$ 46.440,24, desta forma é um dado que identificamos no processo de Ouliers.\n",
        "\n",
        "* <b>25%</b> dos imóveis para locação gira e torno de R$ 296,30, sendo convertido este valor para a moeda Real, uma ótima opção financeira para estudantes e trabalhadores que estão na cidade para este fim.\n",
        "\n",
        "* <b>50%</b> dos imóveis para locação gira e torno de R$ 477,89, sendo convertido este valor para a moeda Real.\n",
        "\n",
        "* <b>75%</b> dos imóveis para locação gira e torno de R$ 864,94, sendo convertido este valor para a moeda Real.\n",
        "\n",
        "\n",
        "*<b>Definção do termo BoxPlot:</b> Em estatística descritiva, diagrama de caixa, diagrama de extremos e quartis, boxplot ou box plot é uma ferramenta gráfica para representar a variação de dados observados de uma variável numérica por meio de quartis\n",
        "<hr>\n"
      ]
    },
    {
      "cell_type": "markdown",
      "metadata": {
        "id": "5MxUIxAZMjeC",
        "colab_type": "text"
      },
      "source": [
        "#### Boxplot para o minimo de noites : "
      ]
    },
    {
      "cell_type": "code",
      "metadata": {
        "id": "AVB3L7P48MGx",
        "colab_type": "code",
        "outputId": "1b4cd0e1-74e8-47fc-d092-89f1edfb3342",
        "colab": {
          "base_uri": "https://localhost:8080/",
          "height": 279
        }
      },
      "source": [
        "# minimum_nights\n",
        "df[\"Minimo de Noites\"].plot(kind='box', vert=False, figsize=(15, 3))\n",
        "plt.show()\n",
        "\n",
        "# ver quantidade de valores acima de 30 dias para minimum_nights\n",
        "print(\"\\nMinimo de Noites: valores acima de 30:\")\n",
        "print(\"{} entradas\".format(len(df[df[\"Minimo de Noites\"] > 30])))\n",
        "print(\"{:.2f}%\".format((len(df[df[\"Minimo de Noites\"] > 30]) / df.shape[0])*100))"
      ],
      "execution_count": 11,
      "outputs": [
        {
          "output_type": "display_data",
          "data": {
            "image/png": "[encoded data removed]",
            "text/plain": [
              "<Figure size 1080x216 with 1 Axes>"
            ]
          },
          "metadata": {
            "tags": []
          }
        },
        {
          "output_type": "stream",
          "text": [
            "\n",
            "Minimo de Noites: valores acima de 30:\n",
            "51 entradas\n",
            "0.37%\n"
          ],
          "name": "stdout"
        }
      ]
    },
    {
      "cell_type": "markdown",
      "metadata": {
        "id": "Dqy5WBpbOR3L",
        "colab_type": "text"
      },
      "source": [
        "#### Boxplot para Preço"
      ]
    },
    {
      "cell_type": "code",
      "metadata": {
        "id": "qglmVLZ7OV0b",
        "colab_type": "code",
        "outputId": "ae4fe11b-1695-455b-9faa-f2c167e498b5",
        "colab": {
          "base_uri": "https://localhost:8080/",
          "height": 279
        }
      },
      "source": [
        "# price\n",
        "df[\"Preço (lene)\"].plot(kind='box', vert=False, figsize=(15, 3),)\n",
        "plt.show()\n",
        "\n",
        "# ver quantidade de valores acima de 19815.00 Iene para price\n",
        "print(\"\\nPreço: valores acima de ¥19815.00 ou R$864,94\")\n",
        "print(\"{} entradas\".format(len(df[df[\"Preço (lene)\"] > 19815.00])))\n",
        "print(\"{:.4f}%\".format((len(df[df[\"Preço (lene)\"] > 19815.00]) / df.shape[0])*100))\n",
        "\n",
        "# df.price.plot(kind='box', vert=False, xlim=(0,1300), figsize=(15,3));"
      ],
      "execution_count": 12,
      "outputs": [
        {
          "output_type": "display_data",
          "data": {
            "image/png": "[encoded data removed]",
            "text/plain": [
              "<Figure size 1080x216 with 1 Axes>"
            ]
          },
          "metadata": {
            "tags": []
          }
        },
        {
          "output_type": "stream",
          "text": [
            "\n",
            "Preço: valores acima de ¥19815.00 ou R$864,94\n",
            "3401 entradas\n",
            "24.7130%\n"
          ],
          "name": "stdout"
        }
      ]
    },
    {
      "cell_type": "markdown",
      "metadata": {
        "id": "xf6B6ArQDHjD",
        "colab_type": "text"
      },
      "source": [
        "#### Histogramas sem *outliers*\n",
        "\n",
        "* Já que identificamos *outliers* nas variáveis `Preço`,`Minimo de Noites`,`Nº de Avaliações`, `Avaliações por Mês` e `Quantidade de Imóveis` vamos agora limpar o *DataFrame* delas e plotar novamente o histograma."
      ]
    },
    {
      "cell_type": "code",
      "metadata": {
        "id": "anfRTwnYDSQy",
        "colab_type": "code",
        "outputId": "24e38a42-6c9d-4991-95f5-72fe8b794429",
        "colab": {
          "base_uri": "https://localhost:8080/",
          "height": 607
        }
      },
      "source": [
        "# remover os *outliers* em um novo DataFrame\n",
        "df_clean = df.copy()\n",
        "df_clean.drop(df_clean[df_clean[\"Preço (lene)\"] > 54585.16].index, axis=0, inplace=True)\n",
        "df_clean.drop(df_clean[df_clean[\"Minimo de Noites\"] > 15].index, axis=0, inplace=True)\n",
        "df_clean.drop(df_clean[df_clean[\"Nº de Avaliações\"] > 40].index, axis=0, inplace=True)\n",
        "df_clean.drop(df_clean[df_clean[\"Avaliações por Mês\"] > 2].index, axis=0, inplace=True)\n",
        "df_clean.drop(df_clean[df_clean[\"Quantidade de Imóveis\"] > 20].index, axis=0, inplace=True)\n",
        "\n",
        "# plotar o histograma para as variáveis numéricas\n",
        "df_clean.hist(bins=15,edgecolor='black', figsize=(15,10));"
      ],
      "execution_count": 13,
      "outputs": [
        {
          "output_type": "display_data",
          "data": {
            "image/png": "[encoded data removed]",
            "text/plain": [
              "<Figure size 1080x720 with 12 Axes>"
            ]
          },
          "metadata": {
            "tags": []
          }
        }
      ]
    },
    {
      "cell_type": "markdown",
      "metadata": {
        "id": "GiI6n_E_iqSZ",
        "colab_type": "text"
      },
      "source": [
        "#### Boxplot para o minimo de noites- Após limpeza de <i>Outliers</i>"
      ]
    },
    {
      "cell_type": "code",
      "metadata": {
        "id": "pwEtPaoUi-oO",
        "colab_type": "code",
        "outputId": "84a16740-1422-437b-ea65-983ecfc3ea40",
        "colab": {
          "base_uri": "https://localhost:8080/",
          "height": 279
        }
      },
      "source": [
        "# minimum_nights\n",
        "df_clean[\"Minimo de Noites\"].plot(kind='box', vert=False, figsize=(15, 3))\n",
        "plt.show()\n",
        "\n",
        "# ver quantidade de valores acima de 30 dias para minimum_nights\n",
        "print(\"\\nMinimo de Noites: valores acima de 30:\")\n",
        "print(\"{} entradas\".format(len(df[df[\"Minimo de Noites\"] > 30])))\n",
        "print(\"{:.2f}%\".format((len(df[df[\"Minimo de Noites\"] > 30]) / df.shape[0])*100))"
      ],
      "execution_count": 14,
      "outputs": [
        {
          "output_type": "display_data",
          "data": {
            "image/png": "[encoded data removed]",
            "text/plain": [
              "<Figure size 1080x216 with 1 Axes>"
            ]
          },
          "metadata": {
            "tags": []
          }
        },
        {
          "output_type": "stream",
          "text": [
            "\n",
            "Minimo de Noites: valores acima de 30:\n",
            "51 entradas\n",
            "0.37%\n"
          ],
          "name": "stdout"
        }
      ]
    },
    {
      "cell_type": "markdown",
      "metadata": {
        "id": "-4x75yuihEkG",
        "colab_type": "text"
      },
      "source": [
        "#### Boxplot para Preço - Após limpeza de <i>Outliers</i>"
      ]
    },
    {
      "cell_type": "code",
      "metadata": {
        "id": "IrN5q6YKguzd",
        "colab_type": "code",
        "outputId": "888d16a6-2294-412b-e97e-498cf330ac28",
        "colab": {
          "base_uri": "https://localhost:8080/",
          "height": 279
        }
      },
      "source": [
        "df_clean[\"Preço (lene)\"].plot(kind='box', vert=False, figsize=(15, 3),)\n",
        "plt.show()\n",
        "\n",
        "# ver quantidade de valores acima de 19815.00 Iene para price\n",
        "print(\"\\nPreço: valores acima de ¥19815.00 ou R$864,94\")\n",
        "print(\"{} entradas\".format(len(df[df[\"Preço (lene)\"] > 19815.00])))\n",
        "print(\"{:.4f}%\".format((len(df[df[\"Preço (lene)\"] > 19815.00]) / df.shape[0])*100))\n",
        "\n",
        "# df.price.plot(kind='box', vert=False, xlim=(0,1300), figsize=(15,3));"
      ],
      "execution_count": 15,
      "outputs": [
        {
          "output_type": "display_data",
          "data": {
            "image/png": "[encoded data removed]",
            "text/plain": [
              "<Figure size 1080x216 with 1 Axes>"
            ]
          },
          "metadata": {
            "tags": []
          }
        },
        {
          "output_type": "stream",
          "text": [
            "\n",
            "Preço: valores acima de ¥19815.00 ou R$864,94\n",
            "3401 entradas\n",
            "24.7130%\n"
          ],
          "name": "stdout"
        }
      ]
    },
    {
      "cell_type": "markdown",
      "metadata": {
        "id": "IXn2oIo5qx-w",
        "colab_type": "text"
      },
      "source": [
        "### **Q7. Qual a correlação existente entre as variáveis**\n",
        "Correlação significa que existe uma relação entre duas coisas. No nosso contexto, estamos buscando relação ou semelhança entre duas variáveis.\n",
        "\n",
        "Essa relação pode ser medida, e é função do coeficiente de correlação estabelecer qual a intensidade dela. Para identificar as correlações existentes entre as variáveis de interesse, vou:\n",
        "\n",
        "* Criar uma matriz de correlação\n",
        "* Gerar um *heatmap* a partir dessa matriz, usando a biblioteca `seaborn`"
      ]
    },
    {
      "cell_type": "code",
      "metadata": {
        "id": "x2ayzBajqxyd",
        "colab_type": "code",
        "outputId": "0b5c4959-20b7-42de-a867-c602ae064ac2",
        "colab": {
          "base_uri": "https://localhost:8080/",
          "height": 173
        }
      },
      "source": [
        "# criar uma matriz de correlação\n",
        "corr = df_clean[['Preço (lene)', 'Minimo de Noites',\"Quantidade de Imóveis\",\"Avaliações por Mês\"]].corr()\n",
        "\n",
        "display(corr)\n",
        "\n",
        "# mostrar a matriz de correlação\n"
      ],
      "execution_count": 16,
      "outputs": [
        {
          "output_type": "display_data",
          "data": {
            "text/html": [
              "<div>\n",
              "<style scoped>\n",
              "    .dataframe tbody tr th:only-of-type {\n",
              "        vertical-align: middle;\n",
              "    }\n",
              "\n",
              "    .dataframe tbody tr th {\n",
              "        vertical-align: top;\n",
              "    }\n",
              "\n",
              "    .dataframe thead th {\n",
              "        text-align: right;\n",
              "    }\n",
              "</style>\n",
              "<table border=\"1\" class=\"dataframe\">\n",
              "  <thead>\n",
              "    <tr style=\"text-align: right;\">\n",
              "      <th></th>\n",
              "      <th>Preço (lene)</th>\n",
              "      <th>Minimo de Noites</th>\n",
              "      <th>Quantidade de Imóveis</th>\n",
              "      <th>Avaliações por Mês</th>\n",
              "    </tr>\n",
              "  </thead>\n",
              "  <tbody>\n",
              "    <tr>\n",
              "      <th>Preço (lene)</th>\n",
              "      <td>1.000000</td>\n",
              "      <td>-0.031475</td>\n",
              "      <td>-0.024325</td>\n",
              "      <td>0.097501</td>\n",
              "    </tr>\n",
              "    <tr>\n",
              "      <th>Minimo de Noites</th>\n",
              "      <td>-0.031475</td>\n",
              "      <td>1.000000</td>\n",
              "      <td>-0.087228</td>\n",
              "      <td>-0.040763</td>\n",
              "    </tr>\n",
              "    <tr>\n",
              "      <th>Quantidade de Imóveis</th>\n",
              "      <td>-0.024325</td>\n",
              "      <td>-0.087228</td>\n",
              "      <td>1.000000</td>\n",
              "      <td>-0.084364</td>\n",
              "    </tr>\n",
              "    <tr>\n",
              "      <th>Avaliações por Mês</th>\n",
              "      <td>0.097501</td>\n",
              "      <td>-0.040763</td>\n",
              "      <td>-0.084364</td>\n",
              "      <td>1.000000</td>\n",
              "    </tr>\n",
              "  </tbody>\n",
              "</table>\n",
              "</div>"
            ],
            "text/plain": [
              "                       Preço (lene)  ...  Avaliações por Mês\n",
              "Preço (lene)               1.000000  ...            0.097501\n",
              "Minimo de Noites          -0.031475  ...           -0.040763\n",
              "Quantidade de Imóveis     -0.024325  ...           -0.084364\n",
              "Avaliações por Mês         0.097501  ...            1.000000\n",
              "\n",
              "[4 rows x 4 columns]"
            ]
          },
          "metadata": {
            "tags": []
          }
        }
      ]
    },
    {
      "cell_type": "code",
      "metadata": {
        "id": "91UujDr6ueqE",
        "colab_type": "code",
        "outputId": "998343af-7759-4d36-9b8b-a93128b59023",
        "colab": {
          "base_uri": "https://localhost:8080/",
          "height": 375
        }
      },
      "source": [
        "# plotar um heatmap a partir das correlações\n",
        "sns.heatmap(corr, cmap='RdBu', fmt='.2f', square=True, linecolor='white', annot=True);"
      ],
      "execution_count": 17,
      "outputs": [
        {
          "output_type": "display_data",
          "data": {
            "image/png": "[encoded data removed]",
            "text/plain": [
              "<Figure size 432x288 with 2 Axes>"
            ]
          },
          "metadata": {
            "tags": []
          }
        }
      ]
    },
    {
      "cell_type": "markdown",
      "metadata": {
        "id": "7b6RMWpuHKN-",
        "colab_type": "text"
      },
      "source": [
        "### **Q8. Qual o tipo de imóvel mais alugado no Airbnb?**\n",
        "\n",
        "A coluna da variável `Tipo de Imóvel` indica o tipo de locação que está anunciada no Airbnb. Se você já alugou no site, sabe que existem opções de apartamentos/casas inteiras, apenas o aluguel de um quarto ou mesmo dividir o quarto com outras pessoas.\n",
        "\n",
        "Vamos contar a quantidade de ocorrências de cada tipo de aluguel, usando o método `value_counts()`.*italicized text*"
      ]
    },
    {
      "cell_type": "code",
      "metadata": {
        "id": "ueLPNWvPHgfB",
        "colab_type": "code",
        "outputId": "818aecbe-bf35-47aa-fd56-c0e7f9cb00db",
        "colab": {
          "base_uri": "https://localhost:8080/",
          "height": 102
        }
      },
      "source": [
        "# mostrar a quantidade de cada tipo de imóvel disponível\n",
        "df_clean[\"Tipo de Imóvel\"].value_counts()"
      ],
      "execution_count": 18,
      "outputs": [
        {
          "output_type": "execute_result",
          "data": {
            "text/plain": [
              "Entire home/apt    3016\n",
              "Private room       1489\n",
              "Hotel room          468\n",
              "Shared room         390\n",
              "Name: Tipo de Imóvel, dtype: int64"
            ]
          },
          "metadata": {
            "tags": []
          },
          "execution_count": 18
        }
      ]
    },
    {
      "cell_type": "code",
      "metadata": {
        "id": "EvwoO-XAHhIm",
        "colab_type": "code",
        "outputId": "dabaff81-04fc-4862-becf-26b69cfea4d6",
        "colab": {
          "base_uri": "https://localhost:8080/",
          "height": 124
        }
      },
      "source": [
        "# mostrar a porcentagem de cada tipo de imóvel disponível\n",
        "percentage = df_clean[\"Tipo de Imóvel\"].value_counts() / df_clean.shape[0]\n",
        "df_n = pd.DataFrame(percentage)\n",
        "df_n.style.format(\"{:.2%}\")"
      ],
      "execution_count": 19,
      "outputs": [
        {
          "output_type": "execute_result",
          "data": {
            "text/html": [
              "<style  type=\"text/css\" >\n",
              "</style><table id=\"T_ca0bb632_6220_11ea_bc26_0242ac1c0002\" ><thead>    <tr>        <th class=\"blank level0\" ></th>        <th class=\"col_heading level0 col0\" >Tipo de Imóvel</th>    </tr></thead><tbody>\n",
              "                <tr>\n",
              "                        <th id=\"T_ca0bb632_6220_11ea_bc26_0242ac1c0002level0_row0\" class=\"row_heading level0 row0\" >Entire home/apt</th>\n",
              "                        <td id=\"T_ca0bb632_6220_11ea_bc26_0242ac1c0002row0_col0\" class=\"data row0 col0\" >56.24%</td>\n",
              "            </tr>\n",
              "            <tr>\n",
              "                        <th id=\"T_ca0bb632_6220_11ea_bc26_0242ac1c0002level0_row1\" class=\"row_heading level0 row1\" >Private room</th>\n",
              "                        <td id=\"T_ca0bb632_6220_11ea_bc26_0242ac1c0002row1_col0\" class=\"data row1 col0\" >27.76%</td>\n",
              "            </tr>\n",
              "            <tr>\n",
              "                        <th id=\"T_ca0bb632_6220_11ea_bc26_0242ac1c0002level0_row2\" class=\"row_heading level0 row2\" >Hotel room</th>\n",
              "                        <td id=\"T_ca0bb632_6220_11ea_bc26_0242ac1c0002row2_col0\" class=\"data row2 col0\" >8.73%</td>\n",
              "            </tr>\n",
              "            <tr>\n",
              "                        <th id=\"T_ca0bb632_6220_11ea_bc26_0242ac1c0002level0_row3\" class=\"row_heading level0 row3\" >Shared room</th>\n",
              "                        <td id=\"T_ca0bb632_6220_11ea_bc26_0242ac1c0002row3_col0\" class=\"data row3 col0\" >7.27%</td>\n",
              "            </tr>\n",
              "    </tbody></table>"
            ],
            "text/plain": [
              "<pandas.io.formats.style.Styler at 0x7f2335e45e80>"
            ]
          },
          "metadata": {
            "tags": []
          },
          "execution_count": 19
        }
      ]
    },
    {
      "cell_type": "markdown",
      "metadata": {
        "id": "4MTdexjUGWUQ",
        "colab_type": "text"
      },
      "source": [
        "* Como podemos analisar, o tipo de hospedagem mais escolhido pelos usuários do sistema Airbnb são os <b>Entire home / Apartamentos</b> com 56,24 % nas escolhas.\n",
        "<br>\n",
        "<br>\n",
        "<center><img src=\"https://encrypted-tbn0.gstatic.com/images?q=tbn%3AANd9GcQpuUMFr2qhnGwO_dKkog7RfqDggNlzisgKCwhZNlgC1Z2wm63h\" height=\"200px\" width=\"272\">"
      ]
    },
    {
      "cell_type": "markdown",
      "metadata": {
        "id": "MFa5NbnLJMcd",
        "colab_type": "text"
      },
      "source": [
        "### **Q9. Qual a localidade mais cara do dataset?**\n",
        "\n",
        "* Uma maneira de se verificar uma variável em função da outra é usando `groupby()`. No caso, queremos comparar no Bairro (*neighbourhoods*) a partir do preço de locação.\n"
      ]
    },
    {
      "cell_type": "code",
      "metadata": {
        "id": "MD_xa143JZpi",
        "colab_type": "code",
        "outputId": "f2d5a4e5-cb52-494d-f86b-a4c566a8acc8",
        "colab": {
          "base_uri": "https://localhost:8080/",
          "height": 221
        }
      },
      "source": [
        "# ver preços por bairros, na média\n",
        "round(df_clean.groupby(['Bairro'])[\"Preço (lene)\"].max().sort_values(ascending=False)[:10],2)"
      ],
      "execution_count": 23,
      "outputs": [
        {
          "output_type": "execute_result",
          "data": {
            "text/plain": [
              "Bairro\n",
              "Chiyoda Ku       52549\n",
              "Minato Ku        50250\n",
              "Toshima Ku       50031\n",
              "Ota Ku           50031\n",
              "Nakano Ku        50031\n",
              "Kita Ku          50031\n",
              "Katsushika Ku    50031\n",
              "Itabashi Ku      50031\n",
              "Edogawa Ku       50031\n",
              "Bunkyo Ku        50031\n",
              "Name: Preço (lene), dtype: int64"
            ]
          },
          "metadata": {
            "tags": []
          },
          "execution_count": 23
        }
      ]
    },
    {
      "cell_type": "markdown",
      "metadata": {
        "id": "WMv63idF9ZUj",
        "colab_type": "text"
      },
      "source": [
        "<center><b><h1>Chyoda</b></h1></center>\n",
        "\n",
        "* A cidade de Chiyoda tem como atração principal os fossos, portões e caminhos dos Jardins do Leste do Palácio Imperial e do Jardim Nacional Kokyo Gaien adjacente. O Nippon Budokan promove shows de rock e torneios de artes marciais, e o Teatro Nacional tem espetáculos teatrais kabuki e apresentações de marionetes bunraku. O Fórum Internacional de Tóquio é um imponente centro de arte e cultura. Boutiques e bistrôs de luxo se aglomeram no movimentado centro comercial ao redor da Estação de Tóquio. Tornando assim o bairro mais valorizado apresentado em nosso dataset com o valor de aluguel na faixa de <b>R$ 2.440,37.\n",
        "<ul>\n",
        "<li>\n",
        "<img src=\"https://images.japan-experience.com/guide-japon/15526/s380x280/garedetokyo3.jpg\" height=\"200px\">\n",
        "<img src=\"https://images.japan-experience.com/guide-japon/14795/s380x280/parliament.JPG\" height=\"200px\">\n",
        "<img src=\"https://images.japan-experience.com/guide-japon/16538/s380x280/20786937636_9785649cf7_z.jpg\" height=\"200px\">\n",
        "<img src=\"https://images.japan-experience.com/guide-japon/108/s380x280/tokyo-imperial-palace.jpg\" height=\"200px\">\n",
        "<img src=\"https://images.japan-experience.com/guide-japon/16539/s380x280/15808546258_c1a6191979_z.jpg\"height=\"200px\">\n",
        "<img src=\"https://images.japan-experience.com/guide-japon/61/s880x460/tokyo-akihabara-1.jpg\"height=\"200px\" width=\"272\">\n"
      ]
    },
    {
      "cell_type": "code",
      "metadata": {
        "id": "UxVJqJ_3W59I",
        "colab_type": "code",
        "outputId": "c3c238f3-6073-4f0d-9985-2731178f01fc",
        "colab": {
          "base_uri": "https://localhost:8080/",
          "height": 254
        }
      },
      "source": [
        "# plotar os imóveis pela latitude-longitude\n",
        "\n",
        "df_clean.plot(kind=\"scatter\", x='longitude', y='latitude', alpha=0.4, c=df_clean['Preço (lene)'],s=8,\n",
        "              cmap=plt.get_cmap('jet'), figsize=(10,4));\n",
        "\n",
        "            "
      ],
      "execution_count": 0,
      "outputs": [
        {
          "output_type": "display_data",
          "data": {
            "image/png": "[encoded data removed]",
            "text/plain": [
              "<Figure size 720x288 with 2 Axes>"
            ]
          },
          "metadata": {
            "tags": []
          }
        }
      ]
    },
    {
      "cell_type": "markdown",
      "metadata": {
        "id": "vTneAMRUYvr1",
        "colab_type": "text"
      },
      "source": [
        "### **Q7. Qual é a média do mínimo de noites para aluguel (minimum_nights)?**"
      ]
    },
    {
      "cell_type": "code",
      "metadata": {
        "id": "_VzNhrEgY82N",
        "colab_type": "code",
        "outputId": "bb353fc8-0320-4d92-d2e7-fe5be7ebef4c",
        "colab": {
          "base_uri": "https://localhost:8080/",
          "height": 34
        }
      },
      "source": [
        "# ver a média da coluna `minimum_nights``\n",
        "round(df_clean[\"Minimo de Noites\"].mean(),0)"
      ],
      "execution_count": 0,
      "outputs": [
        {
          "output_type": "execute_result",
          "data": {
            "text/plain": [
              "2.0"
            ]
          },
          "metadata": {
            "tags": []
          },
          "execution_count": 60
        }
      ]
    },
    {
      "cell_type": "markdown",
      "metadata": {
        "id": "pPbgQcQxbsmS",
        "colab_type": "text"
      },
      "source": [
        "* Como resultado apresentado acima, a média para o minimo de noites é <b>2</b>, desta forma vemos que muitos dos viajantes podem ter uma visão das flexibilidades de hoospedagem nas regiões de Tokyo."
      ]
    }
  ]
}