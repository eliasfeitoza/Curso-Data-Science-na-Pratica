{
  "nbformat": 4,
  "nbformat_minor": 0,
  "metadata": {
    "colab": {
      "name": "[TEMPLATE] Analisando_os_Dados_do_Airbnb.ipynb",
      "provenance": [],
      "collapsed_sections": [],
      "include_colab_link": true
    },
    "kernelspec": {
      "name": "python3",
      "display_name": "Python 3"
    }
  },
  "cells": [
    {
      "cell_type": "markdown",
      "metadata": {
        "id": "view-in-github",
        "colab_type": "text"
      },
      "source": [
        "<a href=\"https://colab.research.google.com/github/eliasfeitoza/Curso-Data-Science-na-Pratica/blob/master/Analisando_os_Dados_do_Airbnb.ipynb\" target=\"_parent\"><img src=\"https://colab.research.google.com/assets/colab-badge.svg\" alt=\"Open In Colab\"/></a>"
      ]
    },
    {
      "cell_type": "markdown",
      "metadata": {
        "id": "kLI0gJtzDGuQ",
        "colab_type": "text"
      },
      "source": [
        "<center><img src=\"http://sigmoidal.ai/wp-content/uploads/2019/08/logo_color.png\" height=\"40px\"></center>\n",
        "\n",
        "\n",
        "\n",
        "# <center> Análise dos Dados do Airbnb - Los Angeles </center>\n",
        "\n",
        "* O [Airbnb](https://www.airbnb.com.br/) já é considerado como sendo a **maior empresa hoteleira da atualidade**. Ah, o detalhe é que ele **não possui nenhum hotel**!\n",
        "\n",
        "* Conectando pessoas que querem viajar (e se hospedar) com anfitriões que querem alugar seus imóveis de maneira prática, o Airbnb fornece uma plataforma inovadora para tornar essa hospedagem alternativa.\n",
        "\n",
        "* No final de 2018, a Startup fundada 10 anos atrás, já havia **hospedado mais de 300 milhões** de pessoas ao redor de todo o mundo, desafiando as redes hoteleiras tradicionais.\n",
        "\n",
        "* Uma das iniciativas do Airbnb é disponibilizar dados do site, para algumas das principais cidades do mundo. Por meio do portal [Inside Airbnb](http://insideairbnb.com/get-the-data.html), é possível baixar uma grande quantidade de dados para desenvolver projetos e soluções de *Data Science*.\n",
        "\n",
        "<center><img alt=\"Analisando Airbnb\" width=\"10%\" src=\"https://www.area360.com.au/wp-content/uploads/2017/09/airbnb-logo.jpg\"></center>\n",
        "\n",
        "<b><center>Neste *notebook*, iremos analisar os dados referentes à cidade de Los Angeles, e ver quais insights podem ser extraídos a partir de dados brutos.</b></center>"
      ]
    },
    {
      "cell_type": "markdown",
      "metadata": {
        "id": "hZ8za-M5QWmw",
        "colab_type": "text"
      },
      "source": [
        "<center><img src=\"https://bit.ly/325z87D\" height=\"200px\"></center>\n",
        "\n",
        "#<center>Los Angeles City</center><hr></hr>\n",
        "\n",
        "* Los Angeles é uma grande cidade do sul da Califórnia e também o centro da indústria de cinema e televisão do país. Perto do famoso letreiro de Hollywood, é possível conhecer os bastidores das produções nos estúdios Paramount Pictures, Universal e Warner Brothers. Na Hollywood Boulevard, o TCL Chinese Theatre exibe impressões de mãos e pés de celebridades na Calçada da Fama, uma homenagem a milhares de astros, e se pode comprar mapas das casas dos artistas."
      ]
    },
    {
      "cell_type": "markdown",
      "metadata": {
        "id": "0zxQHhIUDF_2",
        "colab_type": "text"
      },
      "source": [
        "## Obtenção dos Dados\n"
      ]
    },
    {
      "cell_type": "markdown",
      "metadata": {
        "id": "DK7p5-ZnR7De",
        "colab_type": "text"
      },
      "source": [
        "<h6> * Todos os dados utilizados neste projeto foram retirados do site [Inside Airbnb](http://insideairbnb.com/get-the-data.html)</h6>\n",
        "\n",
        "* Para esta análise exploratória inicial, será baixado apenas o seguinte arquivo:\n",
        "\n",
        "1. `listings.csv` - *Summary information and metrics for listings in Los Angeles (good for visualisations).*\n",
        "1. `listings.csv` - Informações resumidas e métricas para listagens em Los Angeles (bom para visualizações)"
      ]
    },
    {
      "cell_type": "code",
      "metadata": {
        "id": "Vhp2wMPgJ6zX",
        "colab_type": "code",
        "colab": {}
      },
      "source": [
        "# importar os pacotes necessarios\n",
        "import pandas as pd\n",
        "import matplotlib.pyplot as plt\n",
        "import seaborn as sns\n",
        "\n",
        "%matplotlib inline"
      ],
      "execution_count": 0,
      "outputs": []
    },
    {
      "cell_type": "code",
      "metadata": {
        "id": "tUmoAT8DLQ5T",
        "colab_type": "code",
        "colab": {}
      },
      "source": [
        "# importar o arquivo listings.csv para um DataFrame\n",
        "df = pd.read_csv(\"https://bit.ly/2UGgeCi\")"
      ],
      "execution_count": 0,
      "outputs": []
    },
    {
      "cell_type": "markdown",
      "metadata": {
        "id": "qb5By2nIMS6m",
        "colab_type": "text"
      },
      "source": [
        "## Análise dos Dados\n"
      ]
    },
    {
      "cell_type": "markdown",
      "metadata": {
        "id": "6T52_oaWQ0AJ",
        "colab_type": "text"
      },
      "source": [
        "* Esta etapa tem como objetivo facilitar o entendimento dos campos inseridos no <b>DataSet (Tabela)</b> bem como facilitar a localização de algum dado específico!!"
      ]
    },
    {
      "cell_type": "markdown",
      "metadata": {
        "id": "RYgvuebKNg8-",
        "colab_type": "text"
      },
      "source": [
        "\n",
        "**Dicionário das variáveis**\n",
        "\n",
        "* `id` - <i>número de id gerado para identificar o imóvel</i>\n",
        "* `name` -<i> nome da propriedade anunciada</i>\n",
        "* `host_id` <i>- número de id do proprietário (anfitrião) da propriedade</i>\n",
        "* `host_name` <i>- nome do anfitrião</i>\n",
        "* `neighbourhood_group`<i> - esta coluna não contém nenhum valor válido</i>\n",
        "* `neighbourhood` <i>- nome do bairro</i>\n",
        "* `latitude` <i>- coordenada da latitude da propriedade</i>\n",
        "* `longitude`<i> - coordenada da longitude da propriedade</i>\n",
        "* `room_type` <i>- informa o tipo de quarto que é oferecido</i>\n",
        "* `price` <i>- preço para alugar o imóvel,</i>\n",
        "* `minimum_nights`<i> - quantidade mínima de noites para reservar</i>\n",
        "* `number_of_reviews` <i>- número de reviews que a propriedade possui</i>\n",
        "* `last_review` <i>- data do último review</i>\n",
        "* `reviews_per_month` <i>- quantidade de reviews por mês</i>\n",
        "* `calculated_host_listings_count`<i> - quantidade de imóveis do mesmo anfitrião</i>\n",
        "* `availability_365`<i> - número de dias de disponibilidade dentro de 365 dias</i>\n",
        "\n",
        "\n",
        "<b>Antes de iniciar qualquer análise, vamos verificar a cara do nosso *dataset*, analisando as 5 primeiras entradas.</b>"
      ]
    },
    {
      "cell_type": "code",
      "metadata": {
        "id": "2iS_dae7YQtO",
        "colab_type": "code",
        "outputId": "86889fbd-7f08-4146-ef50-26fcd7f1bd62",
        "colab": {
          "base_uri": "https://localhost:8080/",
          "height": 428
        }
      },
      "source": [
        "# mostrar as 5 primeiras entradas\n",
        "\n",
        "df.head()"
      ],
      "execution_count": 3,
      "outputs": [
        {
          "output_type": "execute_result",
          "data": {
            "text/html": [
              "<div>\n",
              "<style scoped>\n",
              "    .dataframe tbody tr th:only-of-type {\n",
              "        vertical-align: middle;\n",
              "    }\n",
              "\n",
              "    .dataframe tbody tr th {\n",
              "        vertical-align: top;\n",
              "    }\n",
              "\n",
              "    .dataframe thead th {\n",
              "        text-align: right;\n",
              "    }\n",
              "</style>\n",
              "<table border=\"1\" class=\"dataframe\">\n",
              "  <thead>\n",
              "    <tr style=\"text-align: right;\">\n",
              "      <th></th>\n",
              "      <th>id</th>\n",
              "      <th>name</th>\n",
              "      <th>host_id</th>\n",
              "      <th>host_name</th>\n",
              "      <th>neighbourhood_group</th>\n",
              "      <th>neighbourhood</th>\n",
              "      <th>latitude</th>\n",
              "      <th>longitude</th>\n",
              "      <th>room_type</th>\n",
              "      <th>price</th>\n",
              "      <th>minimum_nights</th>\n",
              "      <th>number_of_reviews</th>\n",
              "      <th>last_review</th>\n",
              "      <th>reviews_per_month</th>\n",
              "      <th>calculated_host_listings_count</th>\n",
              "      <th>availability_365</th>\n",
              "    </tr>\n",
              "  </thead>\n",
              "  <tbody>\n",
              "    <tr>\n",
              "      <th>0</th>\n",
              "      <td>109</td>\n",
              "      <td>Amazing bright elegant condo park front *UPGRA...</td>\n",
              "      <td>521</td>\n",
              "      <td>Paolo</td>\n",
              "      <td>Other Cities</td>\n",
              "      <td>Culver City</td>\n",
              "      <td>33.98209</td>\n",
              "      <td>-118.38494</td>\n",
              "      <td>Entire home/apt</td>\n",
              "      <td>122</td>\n",
              "      <td>30</td>\n",
              "      <td>2</td>\n",
              "      <td>2016-05-15</td>\n",
              "      <td>0.02</td>\n",
              "      <td>1</td>\n",
              "      <td>248</td>\n",
              "    </tr>\n",
              "    <tr>\n",
              "      <th>1</th>\n",
              "      <td>344</td>\n",
              "      <td>Family perfect;Pool;Near Studios!</td>\n",
              "      <td>767</td>\n",
              "      <td>Melissa</td>\n",
              "      <td>Other Cities</td>\n",
              "      <td>Burbank</td>\n",
              "      <td>34.16562</td>\n",
              "      <td>-118.33458</td>\n",
              "      <td>Entire home/apt</td>\n",
              "      <td>168</td>\n",
              "      <td>2</td>\n",
              "      <td>8</td>\n",
              "      <td>2019-10-19</td>\n",
              "      <td>0.19</td>\n",
              "      <td>1</td>\n",
              "      <td>62</td>\n",
              "    </tr>\n",
              "    <tr>\n",
              "      <th>2</th>\n",
              "      <td>2708</td>\n",
              "      <td>Mirrored Mini-Suite with Fireplace - W. Hollywood</td>\n",
              "      <td>3008</td>\n",
              "      <td>Chas.</td>\n",
              "      <td>City of Los Angeles</td>\n",
              "      <td>Hollywood</td>\n",
              "      <td>34.09768</td>\n",
              "      <td>-118.34602</td>\n",
              "      <td>Private room</td>\n",
              "      <td>79</td>\n",
              "      <td>30</td>\n",
              "      <td>22</td>\n",
              "      <td>2019-08-31</td>\n",
              "      <td>0.33</td>\n",
              "      <td>2</td>\n",
              "      <td>252</td>\n",
              "    </tr>\n",
              "    <tr>\n",
              "      <th>3</th>\n",
              "      <td>2732</td>\n",
              "      <td>Zen Life at the Beach</td>\n",
              "      <td>3041</td>\n",
              "      <td>Yoga Priestess</td>\n",
              "      <td>Other Cities</td>\n",
              "      <td>Santa Monica</td>\n",
              "      <td>34.00475</td>\n",
              "      <td>-118.48127</td>\n",
              "      <td>Private room</td>\n",
              "      <td>140</td>\n",
              "      <td>1</td>\n",
              "      <td>20</td>\n",
              "      <td>2019-10-03</td>\n",
              "      <td>0.19</td>\n",
              "      <td>2</td>\n",
              "      <td>344</td>\n",
              "    </tr>\n",
              "    <tr>\n",
              "      <th>4</th>\n",
              "      <td>2864</td>\n",
              "      <td>*Upscale Professional Home with Beautiful Studio*</td>\n",
              "      <td>3207</td>\n",
              "      <td>Bernadine</td>\n",
              "      <td>Other Cities</td>\n",
              "      <td>Bellflower</td>\n",
              "      <td>33.87619</td>\n",
              "      <td>-118.11397</td>\n",
              "      <td>Entire home/apt</td>\n",
              "      <td>80</td>\n",
              "      <td>2</td>\n",
              "      <td>0</td>\n",
              "      <td>NaN</td>\n",
              "      <td>NaN</td>\n",
              "      <td>1</td>\n",
              "      <td>0</td>\n",
              "    </tr>\n",
              "  </tbody>\n",
              "</table>\n",
              "</div>"
            ],
            "text/plain": [
              "     id  ... availability_365\n",
              "0   109  ...              248\n",
              "1   344  ...               62\n",
              "2  2708  ...              252\n",
              "3  2732  ...              344\n",
              "4  2864  ...                0\n",
              "\n",
              "[5 rows x 16 columns]"
            ]
          },
          "metadata": {
            "tags": []
          },
          "execution_count": 3
        }
      ]
    },
    {
      "cell_type": "markdown",
      "metadata": {
        "id": "6-B_qtEaYEd-",
        "colab_type": "text"
      },
      "source": [
        "### **Q1. Quantos atributos (variáveis) e quantas entradas o nosso conjunto de dados possui? Quais os tipos das variáveis?**\n",
        "\n",
        "* Vamos prosseguir e identificar a quantidade de entradas que nosso conjunto de dados possui e ver os tipos de cada coluna.\n",
        "\n",
        "* Este *dataset* que baixamos é a versão \"resumida\" do Airbnb. Na mesma página que baixamos o arquivo `listings.csv`. Há uma versão mais completa com 35847 entradas e 106 variáveis (`listings.csv.gz`)."
      ]
    },
    {
      "cell_type": "code",
      "metadata": {
        "id": "TFRK0tniLV-G",
        "colab_type": "code",
        "outputId": "eadb7d6c-1ab7-4565-fcfb-fb14462a2452",
        "colab": {
          "base_uri": "https://localhost:8080/",
          "height": 357
        }
      },
      "source": [
        "# identificar o volume de dados do DataFrame\n",
        "print(\"Variáveis:\\t {}\".format(df.shape[0]))\n",
        "print(\"Entradas:\\t {}\\n\".format(df.shape[1]))\n",
        "\n",
        "# verificar as 5 primeiras entradas do dataset\n",
        "display(df.dtypes)\n"
      ],
      "execution_count": 4,
      "outputs": [
        {
          "output_type": "stream",
          "text": [
            "Variáveis:\t 40125\n",
            "Entradas:\t 16\n",
            "\n"
          ],
          "name": "stdout"
        },
        {
          "output_type": "display_data",
          "data": {
            "text/plain": [
              "id                                  int64\n",
              "name                               object\n",
              "host_id                             int64\n",
              "host_name                          object\n",
              "neighbourhood_group                object\n",
              "neighbourhood                      object\n",
              "latitude                          float64\n",
              "longitude                         float64\n",
              "room_type                          object\n",
              "price                               int64\n",
              "minimum_nights                      int64\n",
              "number_of_reviews                   int64\n",
              "last_review                        object\n",
              "reviews_per_month                 float64\n",
              "calculated_host_listings_count      int64\n",
              "availability_365                    int64\n",
              "dtype: object"
            ]
          },
          "metadata": {
            "tags": []
          }
        }
      ]
    },
    {
      "cell_type": "markdown",
      "metadata": {
        "id": "yz1urSUGW9iE",
        "colab_type": "text"
      },
      "source": [
        "### **Q2. Qual a porcentagem de valores ausentes no *dataset*?**"
      ]
    },
    {
      "cell_type": "markdown",
      "metadata": {
        "id": "LhQUXkbyWPKs",
        "colab_type": "text"
      },
      "source": [
        "* A qualidade de um *dataset* está diretamente relacionada à quantidade de valores ausentes. É importante entender logo no início se esses valores nulos são significativos comparados ao total de entradas.\n",
        "\n",
        "1. É possível ver que a coluna `reviews_per_month` possui <b>20,30%</b> dos seus valores faltantes. \n",
        "\n",
        "2. As variáveis `last reviews` e possui <b>20,30%</b> dos seus valores faltantes.\n",
        "\n",
        "3. As variáveis `host_name` tem <b>1,08%</b> dos valores nulos faltantes.\n",
        "\n",
        "<b><center>Com os numeros apresentados a nós, podemos concluir que os dados considerados nulos não impcatara em nossa análise."
      ]
    },
    {
      "cell_type": "code",
      "metadata": {
        "id": "plk2FjbCXOqP",
        "colab_type": "code",
        "outputId": "567a6aee-d342-437d-d5ff-9986ee1ed4be",
        "colab": {
          "base_uri": "https://localhost:8080/",
          "height": 376
        }
      },
      "source": [
        "# ordenar em ordem decrescente as variáveis por seus valores ausentes\n",
        "\n",
        "n = (df.isnull().sum() / df.shape[0]).sort_values(ascending = False)\n",
        "df_n = pd.DataFrame(n)\n",
        "df_n.style.format(\"{:.2%}\")\n",
        "\n",
        "\n"
      ],
      "execution_count": 19,
      "outputs": [
        {
          "output_type": "execute_result",
          "data": {
            "text/html": [
              "<style  type=\"text/css\" >\n",
              "</style><table id=\"T_b10bee5c_4f67_11ea_bf45_0242ac1c0002\" ><thead>    <tr>        <th class=\"blank level0\" ></th>        <th class=\"col_heading level0 col0\" >0</th>    </tr></thead><tbody>\n",
              "                <tr>\n",
              "                        <th id=\"T_b10bee5c_4f67_11ea_bf45_0242ac1c0002level0_row0\" class=\"row_heading level0 row0\" >reviews_per_month</th>\n",
              "                        <td id=\"T_b10bee5c_4f67_11ea_bf45_0242ac1c0002row0_col0\" class=\"data row0 col0\" >20.30%</td>\n",
              "            </tr>\n",
              "            <tr>\n",
              "                        <th id=\"T_b10bee5c_4f67_11ea_bf45_0242ac1c0002level0_row1\" class=\"row_heading level0 row1\" >last_review</th>\n",
              "                        <td id=\"T_b10bee5c_4f67_11ea_bf45_0242ac1c0002row1_col0\" class=\"data row1 col0\" >20.30%</td>\n",
              "            </tr>\n",
              "            <tr>\n",
              "                        <th id=\"T_b10bee5c_4f67_11ea_bf45_0242ac1c0002level0_row2\" class=\"row_heading level0 row2\" >host_name</th>\n",
              "                        <td id=\"T_b10bee5c_4f67_11ea_bf45_0242ac1c0002row2_col0\" class=\"data row2 col0\" >1.08%</td>\n",
              "            </tr>\n",
              "            <tr>\n",
              "                        <th id=\"T_b10bee5c_4f67_11ea_bf45_0242ac1c0002level0_row3\" class=\"row_heading level0 row3\" >name</th>\n",
              "                        <td id=\"T_b10bee5c_4f67_11ea_bf45_0242ac1c0002row3_col0\" class=\"data row3 col0\" >0.00%</td>\n",
              "            </tr>\n",
              "            <tr>\n",
              "                        <th id=\"T_b10bee5c_4f67_11ea_bf45_0242ac1c0002level0_row4\" class=\"row_heading level0 row4\" >availability_365</th>\n",
              "                        <td id=\"T_b10bee5c_4f67_11ea_bf45_0242ac1c0002row4_col0\" class=\"data row4 col0\" >0.00%</td>\n",
              "            </tr>\n",
              "            <tr>\n",
              "                        <th id=\"T_b10bee5c_4f67_11ea_bf45_0242ac1c0002level0_row5\" class=\"row_heading level0 row5\" >calculated_host_listings_count</th>\n",
              "                        <td id=\"T_b10bee5c_4f67_11ea_bf45_0242ac1c0002row5_col0\" class=\"data row5 col0\" >0.00%</td>\n",
              "            </tr>\n",
              "            <tr>\n",
              "                        <th id=\"T_b10bee5c_4f67_11ea_bf45_0242ac1c0002level0_row6\" class=\"row_heading level0 row6\" >number_of_reviews</th>\n",
              "                        <td id=\"T_b10bee5c_4f67_11ea_bf45_0242ac1c0002row6_col0\" class=\"data row6 col0\" >0.00%</td>\n",
              "            </tr>\n",
              "            <tr>\n",
              "                        <th id=\"T_b10bee5c_4f67_11ea_bf45_0242ac1c0002level0_row7\" class=\"row_heading level0 row7\" >minimum_nights</th>\n",
              "                        <td id=\"T_b10bee5c_4f67_11ea_bf45_0242ac1c0002row7_col0\" class=\"data row7 col0\" >0.00%</td>\n",
              "            </tr>\n",
              "            <tr>\n",
              "                        <th id=\"T_b10bee5c_4f67_11ea_bf45_0242ac1c0002level0_row8\" class=\"row_heading level0 row8\" >price</th>\n",
              "                        <td id=\"T_b10bee5c_4f67_11ea_bf45_0242ac1c0002row8_col0\" class=\"data row8 col0\" >0.00%</td>\n",
              "            </tr>\n",
              "            <tr>\n",
              "                        <th id=\"T_b10bee5c_4f67_11ea_bf45_0242ac1c0002level0_row9\" class=\"row_heading level0 row9\" >room_type</th>\n",
              "                        <td id=\"T_b10bee5c_4f67_11ea_bf45_0242ac1c0002row9_col0\" class=\"data row9 col0\" >0.00%</td>\n",
              "            </tr>\n",
              "            <tr>\n",
              "                        <th id=\"T_b10bee5c_4f67_11ea_bf45_0242ac1c0002level0_row10\" class=\"row_heading level0 row10\" >longitude</th>\n",
              "                        <td id=\"T_b10bee5c_4f67_11ea_bf45_0242ac1c0002row10_col0\" class=\"data row10 col0\" >0.00%</td>\n",
              "            </tr>\n",
              "            <tr>\n",
              "                        <th id=\"T_b10bee5c_4f67_11ea_bf45_0242ac1c0002level0_row11\" class=\"row_heading level0 row11\" >latitude</th>\n",
              "                        <td id=\"T_b10bee5c_4f67_11ea_bf45_0242ac1c0002row11_col0\" class=\"data row11 col0\" >0.00%</td>\n",
              "            </tr>\n",
              "            <tr>\n",
              "                        <th id=\"T_b10bee5c_4f67_11ea_bf45_0242ac1c0002level0_row12\" class=\"row_heading level0 row12\" >neighbourhood</th>\n",
              "                        <td id=\"T_b10bee5c_4f67_11ea_bf45_0242ac1c0002row12_col0\" class=\"data row12 col0\" >0.00%</td>\n",
              "            </tr>\n",
              "            <tr>\n",
              "                        <th id=\"T_b10bee5c_4f67_11ea_bf45_0242ac1c0002level0_row13\" class=\"row_heading level0 row13\" >neighbourhood_group</th>\n",
              "                        <td id=\"T_b10bee5c_4f67_11ea_bf45_0242ac1c0002row13_col0\" class=\"data row13 col0\" >0.00%</td>\n",
              "            </tr>\n",
              "            <tr>\n",
              "                        <th id=\"T_b10bee5c_4f67_11ea_bf45_0242ac1c0002level0_row14\" class=\"row_heading level0 row14\" >host_id</th>\n",
              "                        <td id=\"T_b10bee5c_4f67_11ea_bf45_0242ac1c0002row14_col0\" class=\"data row14 col0\" >0.00%</td>\n",
              "            </tr>\n",
              "            <tr>\n",
              "                        <th id=\"T_b10bee5c_4f67_11ea_bf45_0242ac1c0002level0_row15\" class=\"row_heading level0 row15\" >id</th>\n",
              "                        <td id=\"T_b10bee5c_4f67_11ea_bf45_0242ac1c0002row15_col0\" class=\"data row15 col0\" >0.00%</td>\n",
              "            </tr>\n",
              "    </tbody></table>"
            ],
            "text/plain": [
              "<pandas.io.formats.style.Styler at 0x7f066ebdb358>"
            ]
          },
          "metadata": {
            "tags": []
          },
          "execution_count": 19
        }
      ]
    },
    {
      "cell_type": "markdown",
      "metadata": {
        "id": "iHXvvHIxaoNc",
        "colab_type": "text"
      },
      "source": [
        "### **Q3. Qual o tipo de distribuição das variáveis?** "
      ]
    },
    {
      "cell_type": "markdown",
      "metadata": {
        "id": "7DisdCKtXxac",
        "colab_type": "text"
      },
      "source": [
        "* Para identificar a distribuição das variáveis, irei plotar o histograma."
      ]
    },
    {
      "cell_type": "code",
      "metadata": {
        "id": "q2wWSfeRbmBo",
        "colab_type": "code",
        "outputId": "f9d8f3e2-06c1-48cb-cab6-897cbe0bee3a",
        "colab": {
          "base_uri": "https://localhost:8080/",
          "height": 607
        }
      },
      "source": [
        "# plotar o histograma das variáveis numéricas\n",
        "df.hist(bins = 15,color='green',edgecolor='black', figsize = (15,10));"
      ],
      "execution_count": 15,
      "outputs": [
        {
          "output_type": "display_data",
          "data": {
            "image/png": "[encoded data removed]",
            "text/plain": [
              "<Figure size 1080x720 with 12 Axes>"
            ]
          },
          "metadata": {
            "tags": []
          }
        }
      ]
    },
    {
      "cell_type": "markdown",
      "metadata": {
        "id": "7x4aw1j5wNmn",
        "colab_type": "text"
      },
      "source": [
        "### **Q4. Qual a média dos preços de aluguel?**"
      ]
    },
    {
      "cell_type": "markdown",
      "metadata": {
        "id": "12rrd3sNHpmY",
        "colab_type": "text"
      },
      "source": [
        "* Para uma melhor decisão no momento de pesquisa, abaixo demonstramos a <b>média de valores</b> de aluguéis oferecidos para a cidade de <b>Los Angeles.</b>"
      ]
    },
    {
      "cell_type": "code",
      "metadata": {
        "id": "ff-8gUahLk-C",
        "colab_type": "code",
        "outputId": "6a7c5939-0eae-4719-b106-68f9558e489b",
        "colab": {
          "base_uri": "https://localhost:8080/",
          "height": 129
        }
      },
      "source": [
        "# ver a média da coluna `price``\n",
        "\n",
        "df[\"price\"].mean()"
      ],
      "execution_count": 16,
      "outputs": [
        {
          "output_type": "error",
          "ename": "SyntaxError",
          "evalue": "ignored",
          "traceback": [
            "\u001b[0;36m  File \u001b[0;32m\"<ipython-input-16-eff0bcb15cc0>\"\u001b[0;36m, line \u001b[0;32m2\u001b[0m\n\u001b[0;31m    df[\"price\"].mean(:.2%)\u001b[0m\n\u001b[0m                     ^\u001b[0m\n\u001b[0;31mSyntaxError\u001b[0m\u001b[0;31m:\u001b[0m invalid syntax\n"
          ]
        }
      ]
    },
    {
      "cell_type": "markdown",
      "metadata": {
        "id": "ms-BGGOrWw2T",
        "colab_type": "text"
      },
      "source": [
        ""
      ]
    },
    {
      "cell_type": "markdown",
      "metadata": {
        "id": "8EHtVDUMsu9O",
        "colab_type": "text"
      },
      "source": [
        "###**Q5. Há OutLiers presente?**\n",
        "\n",
        "* Os outliers são dados que se diferenciam drasticamente de todos os outros, são pontos fora da curva. Em outras palavras, um outlier é um valor que foge da normalidade e que pode (e provavelmente irá) causar anomalias nos resultados obtidos por meio de algoritmos e sistemas de análise.\n",
        "\n",
        "* Entender os outliers é fundamental em uma análise de dados por pelo menos dois aspectos:\n",
        "\n",
        "* Os outliers podem viesar negativamente todo o resultado de uma análise;\n",
        "\n",
        "* O comportamento dos outliers pode ser justamente o que está sendo procurado.\n",
        "Os outliers possuem diversos outros nomes, como: dados discrepantes, pontos fora da curva, observações fora do comum, anomalias, valores atípicos, entre outros.\n",
        "\n",
        "fonte: Aquarela Inovação do Brasil S.A."
      ]
    },
    {
      "cell_type": "markdown",
      "metadata": {
        "id": "IXn2oIo5qx-w",
        "colab_type": "text"
      },
      "source": [
        "### **Q6. Qual a correlação existente entre as variáveis**"
      ]
    },
    {
      "cell_type": "code",
      "metadata": {
        "id": "x2ayzBajqxyd",
        "colab_type": "code",
        "colab": {}
      },
      "source": [
        "# criar uma matriz de correlação\n",
        "\n",
        "\n",
        "# mostrar a matriz de correlação\n"
      ],
      "execution_count": 0,
      "outputs": []
    },
    {
      "cell_type": "code",
      "metadata": {
        "id": "91UujDr6ueqE",
        "colab_type": "code",
        "colab": {}
      },
      "source": [
        "# plotar um heatmap a partir das correlações\n"
      ],
      "execution_count": 0,
      "outputs": []
    },
    {
      "cell_type": "markdown",
      "metadata": {
        "id": "7b6RMWpuHKN-",
        "colab_type": "text"
      },
      "source": [
        "### **Q7. Qual o tipo de imóvel mais alugado no Airbnb?**"
      ]
    },
    {
      "cell_type": "code",
      "metadata": {
        "id": "ueLPNWvPHgfB",
        "colab_type": "code",
        "colab": {}
      },
      "source": [
        "# mostrar a quantidade de cada tipo de imóvel disponível\n"
      ],
      "execution_count": 0,
      "outputs": []
    },
    {
      "cell_type": "code",
      "metadata": {
        "id": "EvwoO-XAHhIm",
        "colab_type": "code",
        "colab": {}
      },
      "source": [
        "# mostrar a porcentagem de cada tipo de imóvel disponível\n"
      ],
      "execution_count": 0,
      "outputs": []
    },
    {
      "cell_type": "markdown",
      "metadata": {
        "id": "MFa5NbnLJMcd",
        "colab_type": "text"
      },
      "source": [
        "### **Q8. Qual a localidade mais cara do dataset?**\n",
        "\n"
      ]
    },
    {
      "cell_type": "code",
      "metadata": {
        "id": "MD_xa143JZpi",
        "colab_type": "code",
        "colab": {}
      },
      "source": [
        "# ver preços por bairros, na média\n"
      ],
      "execution_count": 0,
      "outputs": []
    },
    {
      "cell_type": "code",
      "metadata": {
        "id": "UxVJqJ_3W59I",
        "colab_type": "code",
        "colab": {}
      },
      "source": [
        "# plotar os imóveis pela latitude-longitude\n"
      ],
      "execution_count": 0,
      "outputs": []
    },
    {
      "cell_type": "markdown",
      "metadata": {
        "id": "vTneAMRUYvr1",
        "colab_type": "text"
      },
      "source": [
        "### **Q9. Qual é a média do mínimo de noites para aluguel (minimum_nights)?**"
      ]
    },
    {
      "cell_type": "code",
      "metadata": {
        "id": "_VzNhrEgY82N",
        "colab_type": "code",
        "colab": {}
      },
      "source": [
        "# ver a média da coluna `minimum_nights``"
      ],
      "execution_count": 0,
      "outputs": []
    },
    {
      "cell_type": "markdown",
      "metadata": {
        "id": "GkvAg623RjoR",
        "colab_type": "text"
      },
      "source": [
        "## Conclusões\n"
      ]
    },
    {
      "cell_type": "markdown",
      "metadata": {
        "id": "rbZ3Hsy9Ypw8",
        "colab_type": "text"
      },
      "source": [
        ""
      ]
    }
  ]
}